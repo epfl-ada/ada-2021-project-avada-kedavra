{
 "cells": [
  {
   "cell_type": "markdown",
   "id": "e1099c0f-0da3-4982-91f9-cc03628f08dc",
   "metadata": {
    "jp-MarkdownHeadingCollapsed": true,
    "tags": []
   },
   "source": [
    "BERT Algorithm - for us \n",
    "Bidirectional Encoder Representations from Transformers (BERT) is a transformer-based machine learning technique for natural language processing (NLP) pre-training developed by Google. \n",
    "BERT was pretrained on two tasks: language modelling (15% of tokens were masked and BERT was trained to predict them from context) and next sentence prediction (BERT was trained to predict if a chosen next sentence was probable or not given the first sentence). As a result of the training process, BERT learns contextual embeddings for words. After pretraining, which is computationally expensive, BERT can be finetuned with less resources on smaller datasets to optimize its performance on specific tasks\n",
    "A transformer is a deep learning model that adopts the mechanism of attention, differentially weighting the significance of each part of the input data. It is used primarily in the field of natural language processing (NLP)[1] and in computer vision (CV)"
   ]
  },
  {
   "cell_type": "markdown",
   "id": "3fd3668c-e73a-49a1-95b7-31836561084b",
   "metadata": {},
   "source": [
    "# Climate scepticism"
   ]
  },
  {
   "cell_type": "markdown",
   "id": "d6a65347-3905-49a6-93f8-e438e57fb313",
   "metadata": {},
   "source": [
    "We inspire ourself from an article (article name) : They analyse participants that were talking about climate change in order to find out in what way they were sceptic. In function of the sociodemographic situation and the level of concern about climate change of the participants, they could notice different types of scepticism.                    "
   ]
  },
  {
   "cell_type": "markdown",
   "id": "1db35332-ac92-4347-a9d9-d950a4b6a094",
   "metadata": {},
   "source": [
    "\n",
    "- Scientific/physical scepticism(A)\n",
    "\n",
    "    - 1 Evidence base\n",
    "    - 2 Scientific consensus\n",
    "    - 3 Scientific expertise\n",
    "    - 4 Conduct of science/(im)propriety\n",
    "    - 5 Attribution (human causation)\n",
    "    - 6 Impact (severity of climate change) \n",
    "    \n",
    "\n",
    "-  Social/behavioural scepticism (Climate change fatigue, Responses at individual, societal or political level) (B)\n",
    "\n",
    "    - 1 Responses at individual, societal level\n",
    "    - 2 Responses at a political level\n",
    "    - 3 Folk psychology (motivations of others) \n",
    "    - 4 Portrayal and communication\n",
    "    - 5 Climate change fatigue"
   ]
  },
  {
   "cell_type": "markdown",
   "id": "b937e5f0-1c3d-4ee0-a576-65f47fe691a4",
   "metadata": {},
   "source": [
    "(A) examples of scepticsim : \n",
    "- 1 a lot of conflicting information\n",
    "- 1 a lot of very very different theories out there (theory)\n",
    "- 3 I know the ice cores give us a lot more information, but it’s not real in the sense that you haven’t got any written down experience of what the climate was in those days\n",
    "- 3 the scientific people aren’t exactly a hundred percent on this, there’s a big minority which is pretty sceptical as well\n",
    "- 3 These people are experts, but we have expert economists that screwed up the economy, so why is a scientist going to be any more of an expert than someone else that predicts the future? (so why)\n",
    "- 4 One of the reasons I am sceptical is because in the 1970’s it was going to be the start of a new ice age. So in thirty years we’ve gone from the start of a new ice age to global warming. (sceptical)\n",
    "- 5 has been happening since the last ice age, it’s the planet’s response to what’s gone before\n",
    "- 5 I think man does contribute to climate change but to the degree, I think it’s very slight\n",
    "- 6 ‘‘all the reputable science on the matter is that global warming is happening and it’s as a result of human actions’’ by suggesting that whilst ‘‘we’ve got something to do with it’’ nevertheless ‘‘I also think that global warming is natural, and climate changes. . . since the planet began’’ \n",
    "- 5 I think the same, sort of idea that obviously we are part of it but there’s a natural cycle as well (natural, cycle)\n",
    "- 6 It’s just natural and it just happens, because I suppose it’s like us as a person, we change as we get older, so I guess the Earth is changing as it gets older (twice the use of just, natural)\n",
    "- 6 I’m not saying it’s not happening, but. . . I wouldn’t have thought it was quite as disastrous as some people perhaps make us think it will be\n",
    "- 6 I don’t think there’s many people in society who don’t believe there is a problem. I think what they all struggle to believe is the extent of the problem"
   ]
  },
  {
   "cell_type": "markdown",
   "id": "7c9cde2a-18d0-4c2b-9430-d00b9d034daf",
   "metadata": {
    "jp-MarkdownHeadingCollapsed": true,
    "tags": []
   },
   "source": [
    "(B) examples of scepticsim : \n",
    "- 1 I can’t help thinking whether I sort my glass from my cardboard doesn’t really have very much effect on the melting of the ice caps. I know if everyone did it it would, but it is tokenism at the moment. It’s more about making us feel better than actually doing anything about the problem.\n",
    "- 1 Me recycling one wine bottle am I really going to save the world? I’m not. If I don’t put my photocopying paper in the recycling is it going to make a huge amount of difference?. . . I’m cynical about the whole thing (use of the term cynical)\n",
    "- 1 If you and I change what we do. . . it doesn’t really make any difference whatsoever\n",
    "- 1 If I don’t eat cows [reference to sustainability of meat- eating], it doesn’t make a big difference (both doesn’t make a big difference ) \n",
    "- 1 There is a certain holier than though element to some people around it\n",
    "- 1 It’s becoming like a religion. . . it’s like: ‘how can I show how holy I am.? I know what I’ll do, I’ll put the recycling bin out, that’ll show what a good person I am!\n",
    "- 1 You just feel – although I would like to do something about it – helpless almost. You do a bit of paper recycling, and whatever, and how much difference is it going to make? \n",
    "- 3 I don’t think the human race can control themselves\n",
    "- 3 Over time humans have... got used to a way of life, and we pretty much do what we want, when we want. And even though we probably know that it’s having some effect, you particularly probably don’t really care. Or at least not care enough to actually physically change our behaviour\n",
    "- 2 they [politicians] are only in power for so long... they will always look for short-term solutions to make sure people are happy with the decisions they make, therefore they’re unable to make a long-term solution\n",
    "- 4 I don’t think it’s the scientists so much [mis-representing]. It’s a lot run by the media... the media gets hold of things, and spin things out of control\n",
    "- 4 wanting to give people what they think they want\n",
    "- 5 ‘you get disaster fatigue as well I think, you know: ‘oh god, not another polar bear,’ whatever it is\n",
    "- 5 I have put scepticism [during written exercise]. It’s not that I don’t agree with it... [but] look, we’ll handle it, it’ll be fine, humans have been around for however many years and we’ve all adapted to be where we are today so I’m sure we can cope with it again, it’s just made into this massive issue that it’s not. . . I just can’t be bothered with it."
   ]
  },
  {
   "cell_type": "markdown",
   "id": "d40ce433-ff9c-4413-83bc-29298ad5ef7a",
   "metadata": {},
   "source": [
    "From these two major types of scepticism we can observe a certain pattern in the scepticism acording to its type. "
   ]
  },
  {
   "cell_type": "markdown",
   "id": "d3363d56-b791-4748-b3a0-e234f0828db0",
   "metadata": {},
   "source": [
    "### What we want to do :"
   ]
  },
  {
   "cell_type": "markdown",
   "id": "e4976589-2fdb-49cc-82e5-cf1c1de7a8d7",
   "metadata": {},
   "source": [
    "We want to perform the BERT algorithm on our climate dataframes in order to find the climate sceptic and to reveal \n",
    "some intersting pattern. \n",
    "\n",
    "We would like to have an automatic classification of climate scepticism people. According to (article name), neutralization is used in climate scepticism. "
   ]
  },
  {
   "cell_type": "markdown",
   "id": "093b99e1-94d1-44a2-991f-2167a36c8d55",
   "metadata": {},
   "source": [
    "Naturalization example : \n",
    "\n",
    "- Sure, we should reduce greenhouse gases, but if our cli- mate policies hurt our ability to create more wealth and bring power to the world’s poor, then we are ridding the patient of the disease, but only by killing him\n",
    "- It’s very convenient for alarmist greens to blame the fires of Australia and California on global warming. In reality, global warming is just a natural cycle and the policies they themselves advocate are the culprits.\n",
    "- The IPCC falsely attributes natural warming and urban warming to greenhouse gas (GHG) emission warming. It ignores the compelling evidence of natural climate change before 1950 that correlates well with indicators of solar activity"
   ]
  },
  {
   "cell_type": "markdown",
   "id": "f1fcf9db-1496-4622-9517-e90aaaf281b0",
   "metadata": {},
   "source": [
    "They could categorize these neutralization techniques arguments into two groups\n",
    "- Policy (cost, economy, carbon tax) -> blame alarmist green \n",
    "    - Condemnation of the Condemner (manipulation of poltics)\n",
    "    - Appeal to Higher Loyalties (progress is more important than taxes)\n",
    "    - Justification by Comparison (pollution comparison)\n",
    "- Science (ability of scientist) -> natural cycle\n",
    "    - Denial of responsability (natural cycle)\n",
    "    - Denial of injury1 (not significant)\n",
    "    - Denial of injury2 (increase of CO2 is good)\n",
    "    - Denial of victim "
   ]
  },
  {
   "cell_type": "markdown",
   "id": "804ce62c-a1cb-4214-bb8c-98c4707023b3",
   "metadata": {},
   "source": [
    "If we compare with (article name), we see that we in both case have the scientist expertise being discussed and also this comparison argument. \"What will I change, Others are worst\".\n",
    "\n",
    "We want to construct our model based on the binary model of the (article name). Our two main category would be: Scientific and Social according to (article name). \n",
    "\n",
    "Based on article name :\n",
    "\n",
    "1) we split our quotes into train/dev/test \n",
    "2) we must test different models such as MTEXT,SVM and test their perfromance"
   ]
  },
  {
   "cell_type": "markdown",
   "id": "a55d60b7-0cc4-49a0-a3d5-27e8c6e138df",
   "metadata": {
    "tags": []
   },
   "source": [
    "### For now :"
   ]
  },
  {
   "cell_type": "markdown",
   "id": "3acfdf33-c991-49bf-bfbc-531e9bd8fb7b",
   "metadata": {},
   "source": [
    "We will select some keywords that could be associated with climate scepticism. We chose our keywords from the examples and the conclusions drawn from the two articles. Of course this method is not yet robust. "
   ]
  },
  {
   "cell_type": "code",
   "execution_count": 2,
   "id": "72660e48-4f69-4a80-8600-beea661f7f4f",
   "metadata": {},
   "outputs": [],
   "source": [
    "import numpy as np\n",
    "import pandas as pd\n",
    "import json\n",
    "from urllib.request import urlopen\n",
    "import sqlite3"
   ]
  },
  {
   "cell_type": "code",
   "execution_count": 3,
   "id": "f82b80ff-0d59-418e-a36a-9f43ab4f715b",
   "metadata": {},
   "outputs": [],
   "source": [
    "quotes_2020= pd.read_csv('data/clean_quotes-2020.bz2', compression='bz2')"
   ]
  },
  {
   "cell_type": "code",
   "execution_count": null,
   "id": "e29837b2-b299-4627-8908-e8e7345911d3",
   "metadata": {},
   "outputs": [],
   "source": []
  },
  {
   "cell_type": "markdown",
   "id": "cd32603f-587d-4744-9e45-0c64bce5fed9",
   "metadata": {},
   "source": []
  },
  {
   "cell_type": "code",
   "execution_count": null,
   "id": "2b6e68a7-b049-435e-a19d-8eea1b70aec0",
   "metadata": {},
   "outputs": [],
   "source": []
  }
 ],
 "metadata": {
  "kernelspec": {
   "display_name": "Python 3",
   "language": "python",
   "name": "python3"
  },
  "language_info": {
   "codemirror_mode": {
    "name": "ipython",
    "version": 3
   },
   "file_extension": ".py",
   "mimetype": "text/x-python",
   "name": "python",
   "nbconvert_exporter": "python",
   "pygments_lexer": "ipython3",
   "version": "3.8.12"
  }
 },
 "nbformat": 4,
 "nbformat_minor": 5
}
