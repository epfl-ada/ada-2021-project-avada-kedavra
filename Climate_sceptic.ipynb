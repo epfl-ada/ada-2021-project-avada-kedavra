{
 "cells": [
  {
   "cell_type": "markdown",
   "id": "e1099c0f-0da3-4982-91f9-cc03628f08dc",
   "metadata": {
    "jp-MarkdownHeadingCollapsed": true,
    "tags": []
   },
   "source": [
    "BERT Algorithm - for us \n",
    "Bidirectional Encoder Representations from Transformers (BERT) is a transformer-based machine learning technique for natural language processing (NLP) pre-training developed by Google. \n",
    "BERT was pretrained on two tasks: language modelling (15% of tokens were masked and BERT was trained to predict them from context) and next sentence prediction (BERT was trained to predict if a chosen next sentence was probable or not given the first sentence). As a result of the training process, BERT learns contextual embeddings for words. After pretraining, which is computationally expensive, BERT can be finetuned with less resources on smaller datasets to optimize its performance on specific tasks\n",
    "A transformer is a deep learning model that adopts the mechanism of attention, differentially weighting the significance of each part of the input data. It is used primarily in the field of natural language processing (NLP)[1] and in computer vision (CV)"
   ]
  },
  {
   "cell_type": "markdown",
   "id": "3fd3668c-e73a-49a1-95b7-31836561084b",
   "metadata": {},
   "source": [
    "# Climate scepticism"
   ]
  },
  {
   "cell_type": "markdown",
   "id": "d6a65347-3905-49a6-93f8-e438e57fb313",
   "metadata": {},
   "source": [
    "We inspire ourself from an article (article name) : They analyse participants that were talking about climate change in order to find out in what way they were sceptic. In function of the sociodemographic situation and the level of concern about climate change of the participants, they could notice different types of scepticism.                    "
   ]
  },
  {
   "cell_type": "markdown",
   "id": "1db35332-ac92-4347-a9d9-d950a4b6a094",
   "metadata": {},
   "source": [
    "\n",
    "- Scientific/physical scepticism(A)\n",
    "\n",
    "    - 1 Evidence base\n",
    "    - 2 Scientific consensus\n",
    "    - 3 Scientific expertise\n",
    "    - 4 Conduct of science/(im)propriety\n",
    "    - 5 Attribution (human causation)\n",
    "    - 6 Impact (severity of climate change) \n",
    "    \n",
    "\n",
    "-  Social/behavioural scepticism (Climate change fatigue, Responses at individual, societal or political level) (B)\n",
    "\n",
    "    - 1 Responses at individual, societal level\n",
    "    - 2 Responses at a political level\n",
    "    - 3 Folk psychology (motivations of others) \n",
    "    - 4 Portrayal and communication\n",
    "    - 5 Climate change fatigue"
   ]
  },
  {
   "cell_type": "markdown",
   "id": "b937e5f0-1c3d-4ee0-a576-65f47fe691a4",
   "metadata": {},
   "source": [
    "(A) examples of scepticsim : \n",
    "- 1 a lot of conflicting information\n",
    "- 1 a lot of very very different theories out there (theory)\n",
    "- 3 I know the ice cores give us a lot more information, but it’s not real in the sense that you haven’t got any written down experience of what the climate was in those days\n",
    "- 3 the scientific people aren’t exactly a hundred percent on this, there’s a big minority which is pretty sceptical as well\n",
    "- 3 These people are experts, but we have expert economists that screwed up the economy, so why is a scientist going to be any more of an expert than someone else that predicts the future? (so why)\n",
    "- 4 One of the reasons I am sceptical is because in the 1970’s it was going to be the start of a new ice age. So in thirty years we’ve gone from the start of a new ice age to global warming. (sceptical)\n",
    "- 5 has been happening since the last ice age, it’s the planet’s response to what’s gone before\n",
    "- 5 I think man does contribute to climate change but to the degree, I think it’s very slight\n",
    "- 6 ‘‘all the reputable science on the matter is that global warming is happening and it’s as a result of human actions’’ by suggesting that whilst ‘‘we’ve got something to do with it’’ nevertheless ‘‘I also think that global warming is natural, and climate changes. . . since the planet began’’ \n",
    "- 5 I think the same, sort of idea that obviously we are part of it but there’s a natural cycle as well (natural, cycle)\n",
    "- 6 It’s just natural and it just happens, because I suppose it’s like us as a person, we change as we get older, so I guess the Earth is changing as it gets older (twice the use of just, natural)\n",
    "- 6 I’m not saying it’s not happening, but. . . I wouldn’t have thought it was quite as disastrous as some people perhaps make us think it will be\n",
    "- 6 I don’t think there’s many people in society who don’t believe there is a problem. I think what they all struggle to believe is the extent of the problem"
   ]
  },
  {
   "cell_type": "markdown",
   "id": "7c9cde2a-18d0-4c2b-9430-d00b9d034daf",
   "metadata": {
    "jp-MarkdownHeadingCollapsed": true,
    "tags": []
   },
   "source": [
    "(B) examples of scepticsim : \n",
    "- 1 I can’t help thinking whether I sort my glass from my cardboard doesn’t really have very much effect on the melting of the ice caps. I know if everyone did it it would, but it is tokenism at the moment. It’s more about making us feel better than actually doing anything about the problem.\n",
    "- 1 Me recycling one wine bottle am I really going to save the world? I’m not. If I don’t put my photocopying paper in the recycling is it going to make a huge amount of difference?. . . I’m cynical about the whole thing (use of the term cynical)\n",
    "- 1 If you and I change what we do. . . it doesn’t really make any difference whatsoever\n",
    "- 1 If I don’t eat cows [reference to sustainability of meat- eating], it doesn’t make a big difference (both doesn’t make a big difference ) \n",
    "- 1 There is a certain holier than though element to some people around it\n",
    "- 1 It’s becoming like a religion. . . it’s like: ‘how can I show how holy I am.? I know what I’ll do, I’ll put the recycling bin out, that’ll show what a good person I am!\n",
    "- 1 You just feel – although I would like to do something about it – helpless almost. You do a bit of paper recycling, and whatever, and how much difference is it going to make? \n",
    "- 3 I don’t think the human race can control themselves\n",
    "- 3 Over time humans have... got used to a way of life, and we pretty much do what we want, when we want. And even though we probably know that it’s having some effect, you particularly probably don’t really care. Or at least not care enough to actually physically change our behaviour\n",
    "- 2 they [politicians] are only in power for so long... they will always look for short-term solutions to make sure people are happy with the decisions they make, therefore they’re unable to make a long-term solution\n",
    "- 4 I don’t think it’s the scientists so much [mis-representing]. It’s a lot run by the media... the media gets hold of things, and spin things out of control\n",
    "- 4 wanting to give people what they think they want\n",
    "- 5 ‘you get disaster fatigue as well I think, you know: ‘oh god, not another polar bear,’ whatever it is\n",
    "- 5 I have put scepticism [during written exercise]. It’s not that I don’t agree with it... [but] look, we’ll handle it, it’ll be fine, humans have been around for however many years and we’ve all adapted to be where we are today so I’m sure we can cope with it again, it’s just made into this massive issue that it’s not. . . I just can’t be bothered with it."
   ]
  },
  {
   "cell_type": "markdown",
   "id": "d40ce433-ff9c-4413-83bc-29298ad5ef7a",
   "metadata": {},
   "source": [
    "From these two major types of scepticism we can observe a certain pattern in the scepticism acording to its type. "
   ]
  },
  {
   "cell_type": "markdown",
   "id": "d3363d56-b791-4748-b3a0-e234f0828db0",
   "metadata": {},
   "source": [
    "### What we want to do :"
   ]
  },
  {
   "cell_type": "markdown",
   "id": "e4976589-2fdb-49cc-82e5-cf1c1de7a8d7",
   "metadata": {},
   "source": [
    "We want to perform the BERT algorithm on our climate dataframes in order to find the climate sceptic and to reveal \n",
    "some intersting pattern. \n",
    "\n",
    "We would like to have an automatic classification of climate scepticism people. According to (article name), neutralization is used in climate scepticism. "
   ]
  },
  {
   "cell_type": "markdown",
   "id": "093b99e1-94d1-44a2-991f-2167a36c8d55",
   "metadata": {},
   "source": [
    "Naturalization example : \n",
    "\n",
    "- Sure, we should reduce greenhouse gases, but if our cli- mate policies hurt our ability to create more wealth and bring power to the world’s poor, then we are ridding the patient of the disease, but only by killing him\n",
    "- It’s very convenient for alarmist greens to blame the fires of Australia and California on global warming. In reality, global warming is just a natural cycle and the policies they themselves advocate are the culprits.\n",
    "- The IPCC falsely attributes natural warming and urban warming to greenhouse gas (GHG) emission warming. It ignores the compelling evidence of natural climate change before 1950 that correlates well with indicators of solar activity"
   ]
  },
  {
   "cell_type": "markdown",
   "id": "f1fcf9db-1496-4622-9517-e90aaaf281b0",
   "metadata": {},
   "source": [
    "They could categorize these neutralization techniques arguments into two groups\n",
    "- Policy (cost, economy, carbon tax) -> blame alarmist green \n",
    "    - Condemnation of the Condemner (manipulation of poltics)\n",
    "    - Appeal to Higher Loyalties (progress is more important than taxes)\n",
    "    - Justification by Comparison (pollution comparison)\n",
    "- Science (ability of scientist) -> natural cycle\n",
    "    - Denial of responsability (natural cycle)\n",
    "    - Denial of injury1 (not significant)\n",
    "    - Denial of injury2 (increase of CO2 is good)\n",
    "    - Denial of victim "
   ]
  },
  {
   "cell_type": "markdown",
   "id": "804ce62c-a1cb-4214-bb8c-98c4707023b3",
   "metadata": {},
   "source": [
    "If we compare with (article name), we see that we in both case have the scientist expertise being discussed and also this comparison argument. \"What will I change, Others are worst\".\n",
    "\n",
    "We want to construct our model based on the binary model of the (article name). Our two main category would be: Scientific and Social according to (article name). \n",
    "\n",
    "Based on (article name) :\n",
    "\n",
    "1) we split our quotes into train/dev/test \n",
    "2) we must test different models such as MTEXT,SVM and test their perfromance"
   ]
  },
  {
   "cell_type": "markdown",
   "id": "98a9b829-53f4-44bd-9d62-5246638b4f86",
   "metadata": {},
   "source": [
    "Bert algorithm: \n",
    "\n",
    "We will need to import transformers,pytorch\n",
    "- fine tunning core with next sentence prediction and masked langage modelling\n",
    "-heads, output"
   ]
  },
  {
   "cell_type": "code",
   "execution_count": 68,
   "id": "cb31eec8-0697-455d-a444-9bf136ae9b91",
   "metadata": {},
   "outputs": [],
   "source": [
    "#from transformers import BertTokenizer, BertForPreTraining\n",
    "#import torch"
   ]
  },
  {
   "cell_type": "markdown",
   "id": "a55d60b7-0cc4-49a0-a3d5-27e8c6e138df",
   "metadata": {
    "tags": []
   },
   "source": [
    "### For now :"
   ]
  },
  {
   "cell_type": "markdown",
   "id": "3acfdf33-c991-49bf-bfbc-531e9bd8fb7b",
   "metadata": {},
   "source": [
    "We will select some keywords that could be associated with climate scepticism. We chose our keywords from the examples and the conclusions drawn from the two articles. Of course this method is not yet robust. "
   ]
  },
  {
   "cell_type": "code",
   "execution_count": 3,
   "id": "72660e48-4f69-4a80-8600-beea661f7f4f",
   "metadata": {},
   "outputs": [],
   "source": [
    "import numpy as np\n",
    "import pandas as pd\n",
    "import json\n",
    "from urllib.request import urlopen\n",
    "import sqlite3"
   ]
  },
  {
   "cell_type": "code",
   "execution_count": 112,
   "id": "f82b80ff-0d59-418e-a36a-9f43ab4f715b",
   "metadata": {},
   "outputs": [],
   "source": [
    "quotes_2020= pd.read_csv('data/clean_quotes-2020.bz2', compression='bz2')\n",
    "quotes_2019= pd.read_csv('data/clean_quotes-2019.bz2', compression='bz2')\n",
    "quotes_2018= pd.read_csv('data/clean_quotes-2019.bz2', compression='bz2')\n",
    "quotes_2017= pd.read_csv('data/clean_quotes-2019.bz2', compression='bz2')\n",
    "quotes_2016= pd.read_csv('data/clean_quotes-2019.bz2', compression='bz2')\n",
    "quotes_2015= pd.read_csv('data/clean_quotes-2019.bz2', compression='bz2')"
   ]
  },
  {
   "cell_type": "code",
   "execution_count": 113,
   "id": "9185cc12-aba8-47a2-96e5-8203956a7f1c",
   "metadata": {},
   "outputs": [],
   "source": [
    "lst = ['Freeman Dyson', 'Bjorn Lomborg', 'Myron Ebell', 'Kiminori Itoh', 'Ivar Giaever', \n",
    "       'Will Happer', 'Ian Plimer', 'Michael Chrichton', 'Alan Carlin', 'Patrick Michaels'] #list of the name taken from the article\n",
    "#iteration in the list of name in order to find if our people of interest are in our quotes list\n",
    "template = []\n",
    "\n",
    "for i in lst:\n",
    "      template.append(quotes_2020.loc[quotes_2020['speaker'].apply(lambda x : i == x)])  \n",
    "        \n",
    "df_2020 = pd.concat(template, ignore_index=True)\n",
    "\n",
    "for i in lst:\n",
    "      template.append(quotes_2019.loc[quotes_2019['speaker'].apply(lambda x : i == x)])  \n",
    "        \n",
    "df_2019 = pd.concat(template, ignore_index=True)\n",
    "\n",
    "for i in lst:\n",
    "      template.append(quotes_2018.loc[quotes_2018['speaker'].apply(lambda x : i == x)])  \n",
    "        \n",
    "df_2018 = pd.concat(template, ignore_index=True)\n",
    "\n",
    "for i in lst:\n",
    "      template.append(quotes_2017.loc[quotes_2017['speaker'].apply(lambda x : i == x)])  \n",
    "        \n",
    "df_2017 = pd.concat(template, ignore_index=True)\n",
    "\n",
    "for i in lst:\n",
    "      template.append(quotes_2016.loc[quotes_2016['speaker'].apply(lambda x : i == x)])  \n",
    "        \n",
    "df_2016 = pd.concat(template, ignore_index=True)\n",
    "\n",
    "for i in lst:\n",
    "      template.append(quotes_2015.loc[quotes_2015['speaker'].apply(lambda x : i == x)])  \n",
    "        \n",
    "df_2015 = pd.concat(template, ignore_index=True)"
   ]
  },
  {
   "cell_type": "markdown",
   "id": "a6357f1e-081b-48c7-9eea-48adcbccfe4a",
   "metadata": {},
   "source": [
    "We can see that we find our speakers of interest"
   ]
  },
  {
   "cell_type": "code",
   "execution_count": 115,
   "id": "630fe2d6-1d70-4df6-b3ad-7a0982135f7f",
   "metadata": {},
   "outputs": [],
   "source": [
    "#we will now construct a list with the quotations only for each year\n",
    "quotations_2020 = df_2020['quotation'].tolist()\n",
    "quotations_2019 = df_2019['quotation'].tolist()\n",
    "quotations_2018 = df_2018['quotation'].tolist()\n",
    "quotations_2017 = df_2017['quotation'].tolist()\n",
    "quotations_2016 = df_2016['quotation'].tolist()\n",
    "quotations_2015 = df_2015['quotation'].tolist()"
   ]
  },
  {
   "cell_type": "code",
   "execution_count": 61,
   "id": "0e46f9ae-5c11-4da5-b454-8548c36577ef",
   "metadata": {},
   "outputs": [
    {
     "name": "stderr",
     "output_type": "stream",
     "text": [
      "[nltk_data] Downloading package punkt to /Users/maria/nltk_data...\n",
      "[nltk_data]   Package punkt is already up-to-date!\n",
      "[nltk_data] Downloading package words to /Users/maria/nltk_data...\n",
      "[nltk_data]   Package words is already up-to-date!\n"
     ]
    }
   ],
   "source": [
    "import nltk\n",
    "import nltk.corpus\n",
    "from nltk.tokenize import word_tokenize \n",
    "nltk.download('punkt')\n",
    "from nltk.probability import FreqDist\n",
    "from nltk import word_tokenize\n",
    "from nltk.corpus import stopwords\n",
    "nltk.download('words')\n",
    "import string"
   ]
  },
  {
   "cell_type": "code",
   "execution_count": 163,
   "id": "494559a6-54f7-445c-bda9-512c425180ff",
   "metadata": {},
   "outputs": [],
   "source": [
    "#functions that do what we want to do\n",
    "from nltk import word_tokenize\n",
    "from nltk.corpus import stopwords\n",
    "a = set(stopwords.words('english'))\n",
    "\n",
    "def remov_punc(lst):\n",
    "    punc = '''!()-[]{};:'\"\\,<>./?@#$%^&*_~''' #list of punctuations that we want to remove from our data\n",
    "    remov_punc = []\n",
    "    t = 0\n",
    "    \n",
    "    for i in lst :\n",
    "        t=t+1\n",
    "        for d in i:\n",
    "            if d in punc:\n",
    "                i = i.replace(d, \" \")\n",
    "        remov_punc.append(i)\n",
    "    return remov_punc\n",
    "    \n",
    "def words_freq(lst):\n",
    "    ls=[]\n",
    "    for i in lst: \n",
    "        text = i\n",
    "        text1 = word_tokenize(text.lower())\n",
    "        imp_words = [x for x in text1 if x not in a]\n",
    "        ls.append(imp_words)\n",
    "    return ls\n",
    "\n",
    "def words__highest_freq(lst):\n",
    "    ls_freq\n",
    "    for i in lst: \n",
    "        fdist = FreqDist(i)\n",
    "        fdist1 = fdist.most_common(1)\n",
    "        ls_freq.append(fdist1)\n",
    "    return ls_freq #this is a list with the highest frequency for each most written words\n"
   ]
  },
  {
   "cell_type": "code",
   "execution_count": 180,
   "id": "dbc7308a-5e2d-4c84-9ff8-97f291dba2a5",
   "metadata": {},
   "outputs": [
    {
     "data": {
      "text/plain": [
       "['science',\n",
       " 'religion',\n",
       " 'increasing',\n",
       " 'local',\n",
       " 'demonstration',\n",
       " 'climate',\n",
       " 'change',\n",
       " 'scientists']"
      ]
     },
     "execution_count": 180,
     "metadata": {},
     "output_type": "execute_result"
    }
   ],
   "source": [
    "words_freq_2020 = words_freq(remov_punc(quotations_2020))\n",
    "words_freq_2019 = words_freq(remov_punc(quotations_2020))\n",
    "words_freq_2018 = words_freq(remov_punc(quotations_2020))\n",
    "words_freq_2017 = words_freq(remov_punc(quotations_2020))\n",
    "words_freq_2016 = words_freq(remov_punc(quotations_2020))\n",
    "words_freq_2015 = words_freq(remov_punc(quotations_2020))\n",
    "\n",
    "w_freq = words_freq_2020 + words_freq_2019 + words_freq_2018 + words_freq_2017 + words_freq_2016 + words_freq_2015\n",
    "w_h_freq = words__highest_freq(w_freq)\n",
    "w_h_freq\n",
    "\n",
    "keywords_sceptic = []\n",
    "\n",
    "for i in w_h_freq:\n",
    "    for d in i: \n",
    "        if d[1] >=3 : \n",
    "            if d[0] not in keywords_sceptic:\n",
    "                keywords_sceptic.append(d[0])\n",
    "        \n",
    "keywords_sceptic        "
   ]
  },
  {
   "cell_type": "code",
   "execution_count": 182,
   "id": "0a141b38-f189-4f8b-b5c7-1525ed6ed665",
   "metadata": {},
   "outputs": [],
   "source": [
    "#let's try on 2020\n",
    "def chunk_filtering(chunk, lst):\n",
    "    template=[] #creation of an empty list :it's always cheaper to append to a list and create a DataFrame than append on a empty dataframe.\n",
    "    for i in lst: \n",
    "        template.append(chunk.loc[chunk[\"quotation\"].apply(lambda x : i in x) & \n",
    "                                  chunk[\"speaker\"].apply(lambda x: x!= \"None\")].drop(['phase'], axis=1))#select the quotation with value in speaker column different from 'None' \n",
    "                                                                             #and quotations containing the key word and drop Phase column\n",
    "        \n",
    "    return (pd.concat(template, ignore_index=True))# return a dataframe with our data of interest\n",
    "\n"
   ]
  },
  {
   "cell_type": "code",
   "execution_count": 183,
   "id": "4cc87577-62fa-4ddd-ac21-a1059777653e",
   "metadata": {},
   "outputs": [],
   "source": [
    "df_reader = pd.read_json('data/quotes-2020.json.bz2', lines=True, compression='bz2', chunksize=1000)\n",
    "for i, chunk in enumerate(df_reader):\n",
    "        chunk_clean=chunk_filtering(chunk, keywords_sceptic  ) #recover interested row of the chunk\n",
    "        header = i == 0 #we kept the name of the column only for the first chunk\n",
    "        mode = 'w' if i == 0 else 'a' # For appending data to an existing CSV file (so for every chunk exepct the first one), \n",
    "                                        #we can use mode = a\n",
    "            \n",
    "        chunk_clean.to_csv(path_or_buf=\"data/clean_quotes_sceptic-2020.bz2\",compression='bz2',header=header, mode=mode, index = False )\n",
    "#6 minutes"
   ]
  },
  {
   "cell_type": "code",
   "execution_count": 184,
   "id": "a70649af-167f-4d0a-8a0e-5b840a013724",
   "metadata": {},
   "outputs": [
    {
     "data": {
      "text/html": [
       "<div>\n",
       "<style scoped>\n",
       "    .dataframe tbody tr th:only-of-type {\n",
       "        vertical-align: middle;\n",
       "    }\n",
       "\n",
       "    .dataframe tbody tr th {\n",
       "        vertical-align: top;\n",
       "    }\n",
       "\n",
       "    .dataframe thead th {\n",
       "        text-align: right;\n",
       "    }\n",
       "</style>\n",
       "<table border=\"1\" class=\"dataframe\">\n",
       "  <thead>\n",
       "    <tr style=\"text-align: right;\">\n",
       "      <th></th>\n",
       "      <th>quoteID</th>\n",
       "      <th>quotation</th>\n",
       "      <th>speaker</th>\n",
       "      <th>qids</th>\n",
       "      <th>date</th>\n",
       "      <th>numOccurrences</th>\n",
       "      <th>probas</th>\n",
       "      <th>urls</th>\n",
       "    </tr>\n",
       "  </thead>\n",
       "  <tbody>\n",
       "    <tr>\n",
       "      <th>0</th>\n",
       "      <td>2020-02-04-008518</td>\n",
       "      <td>At least 7 million lives could be saved over t...</td>\n",
       "      <td>Tedros Adhanom Ghebreyesus</td>\n",
       "      <td>['Q16196017']</td>\n",
       "      <td>2020-02-04 02:25:29</td>\n",
       "      <td>14</td>\n",
       "      <td>[['Tedros Adhanom Ghebreyesus', '0.9326'], ['N...</td>\n",
       "      <td>['https://www.miragenews.com/who-outlines-step...</td>\n",
       "    </tr>\n",
       "    <tr>\n",
       "      <th>1</th>\n",
       "      <td>2020-02-07-008586</td>\n",
       "      <td>Asian inclusion and celebrating diversity more...</td>\n",
       "      <td>Laurence Jones</td>\n",
       "      <td>['Q26884000', 'Q27430504']</td>\n",
       "      <td>2020-02-07 10:43:24</td>\n",
       "      <td>1</td>\n",
       "      <td>[['Laurence Jones', '0.7837'], ['None', '0.205...</td>\n",
       "      <td>['http://www.thefa.com/news/2020/feb/07/englan...</td>\n",
       "    </tr>\n",
       "    <tr>\n",
       "      <th>2</th>\n",
       "      <td>2020-04-14-006537</td>\n",
       "      <td>Because of the worldwide COVID-19 virus pandem...</td>\n",
       "      <td>Rick Warren</td>\n",
       "      <td>['Q380107']</td>\n",
       "      <td>2020-04-14 06:41:23</td>\n",
       "      <td>1</td>\n",
       "      <td>[['Rick Warren', '0.7567'], ['None', '0.2433']]</td>\n",
       "      <td>['https://www.crossmap.com/news/coronavirus-ke...</td>\n",
       "    </tr>\n",
       "    <tr>\n",
       "      <th>3</th>\n",
       "      <td>2020-03-01-005419</td>\n",
       "      <td>Councils and communities are passionate about ...</td>\n",
       "      <td>Linda Scott</td>\n",
       "      <td>['Q19667145', 'Q469184']</td>\n",
       "      <td>2020-03-01 16:30:28</td>\n",
       "      <td>45</td>\n",
       "      <td>[['Linda Scott', '0.9437'], ['None', '0.0563']]</td>\n",
       "      <td>['http://avonadvocate.com.au/story/6656284/sum...</td>\n",
       "    </tr>\n",
       "    <tr>\n",
       "      <th>4</th>\n",
       "      <td>2020-04-11-006153</td>\n",
       "      <td>Following discussions with Cosla we have writt...</td>\n",
       "      <td>Roseanna Cunningham</td>\n",
       "      <td>['Q333953']</td>\n",
       "      <td>2020-04-11 15:21:07</td>\n",
       "      <td>39</td>\n",
       "      <td>[['Roseanna Cunningham', '0.9142'], ['None', '...</td>\n",
       "      <td>['https://www.belfasttelegraph.co.uk/news/uk/f...</td>\n",
       "    </tr>\n",
       "    <tr>\n",
       "      <th>...</th>\n",
       "      <td>...</td>\n",
       "      <td>...</td>\n",
       "      <td>...</td>\n",
       "      <td>...</td>\n",
       "      <td>...</td>\n",
       "      <td>...</td>\n",
       "      <td>...</td>\n",
       "      <td>...</td>\n",
       "    </tr>\n",
       "    <tr>\n",
       "      <th>128925</th>\n",
       "      <td>2020-03-12-084189</td>\n",
       "      <td>We may lose a flight or two, but we will not l...</td>\n",
       "      <td>Paul Campbell</td>\n",
       "      <td>['Q10506256', 'Q1320174', 'Q16193035', 'Q18685...</td>\n",
       "      <td>2020-03-12 22:00:00</td>\n",
       "      <td>1</td>\n",
       "      <td>[['Paul Campbell', '0.8603'], ['None', '0.1397']]</td>\n",
       "      <td>['http://postandcourier.com/business/europe-tr...</td>\n",
       "    </tr>\n",
       "    <tr>\n",
       "      <th>128926</th>\n",
       "      <td>2020-02-03-096569</td>\n",
       "      <td>We see her in a different time of her life tha...</td>\n",
       "      <td>Gal Gadot</td>\n",
       "      <td>['Q185654']</td>\n",
       "      <td>2020-02-03 07:33:51</td>\n",
       "      <td>3</td>\n",
       "      <td>[['Gal Gadot', '0.8869'], ['None', '0.1006'], ...</td>\n",
       "      <td>['https://in.ign.com/wonder-woman-2/144367/new...</td>\n",
       "    </tr>\n",
       "    <tr>\n",
       "      <th>128927</th>\n",
       "      <td>2020-01-09-106689</td>\n",
       "      <td>We want to see if it is going what we want it ...</td>\n",
       "      <td>Andrea Stewart-Cousins</td>\n",
       "      <td>['Q4755286']</td>\n",
       "      <td>2020-01-09 16:09:30</td>\n",
       "      <td>1</td>\n",
       "      <td>[['Andrea Stewart-Cousins', '0.8199'], ['None'...</td>\n",
       "      <td>['http://timesunion.com/news/article/State-Sen...</td>\n",
       "    </tr>\n",
       "    <tr>\n",
       "      <th>128928</th>\n",
       "      <td>2020-01-09-108973</td>\n",
       "      <td>We're looking at 180 years of neglect and chan...</td>\n",
       "      <td>Colin Walker</td>\n",
       "      <td>['Q1108713', 'Q26464525', 'Q47471830', 'Q51456...</td>\n",
       "      <td>2020-01-09 00:00:00</td>\n",
       "      <td>3</td>\n",
       "      <td>[['Colin Walker', '0.7325'], ['None', '0.2675']]</td>\n",
       "      <td>['http://sheppnews.com.au/news/2020/01/09/9816...</td>\n",
       "    </tr>\n",
       "    <tr>\n",
       "      <th>128929</th>\n",
       "      <td>2020-02-23-041538</td>\n",
       "      <td>We've been writing about climate change being ...</td>\n",
       "      <td>Lesley Hughes</td>\n",
       "      <td>['Q53473786']</td>\n",
       "      <td>2020-02-23 22:38:42</td>\n",
       "      <td>2</td>\n",
       "      <td>[['Lesley Hughes', '0.9023'], ['None', '0.0978']]</td>\n",
       "      <td>['https://www.nytimes.com/2020/02/23/world/aus...</td>\n",
       "    </tr>\n",
       "  </tbody>\n",
       "</table>\n",
       "<p>128930 rows × 8 columns</p>\n",
       "</div>"
      ],
      "text/plain": [
       "                  quoteID                                          quotation  \\\n",
       "0       2020-02-04-008518  At least 7 million lives could be saved over t...   \n",
       "1       2020-02-07-008586  Asian inclusion and celebrating diversity more...   \n",
       "2       2020-04-14-006537  Because of the worldwide COVID-19 virus pandem...   \n",
       "3       2020-03-01-005419  Councils and communities are passionate about ...   \n",
       "4       2020-04-11-006153  Following discussions with Cosla we have writt...   \n",
       "...                   ...                                                ...   \n",
       "128925  2020-03-12-084189  We may lose a flight or two, but we will not l...   \n",
       "128926  2020-02-03-096569  We see her in a different time of her life tha...   \n",
       "128927  2020-01-09-106689  We want to see if it is going what we want it ...   \n",
       "128928  2020-01-09-108973  We're looking at 180 years of neglect and chan...   \n",
       "128929  2020-02-23-041538  We've been writing about climate change being ...   \n",
       "\n",
       "                           speaker  \\\n",
       "0       Tedros Adhanom Ghebreyesus   \n",
       "1                   Laurence Jones   \n",
       "2                      Rick Warren   \n",
       "3                      Linda Scott   \n",
       "4              Roseanna Cunningham   \n",
       "...                            ...   \n",
       "128925               Paul Campbell   \n",
       "128926                   Gal Gadot   \n",
       "128927      Andrea Stewart-Cousins   \n",
       "128928                Colin Walker   \n",
       "128929               Lesley Hughes   \n",
       "\n",
       "                                                     qids  \\\n",
       "0                                           ['Q16196017']   \n",
       "1                              ['Q26884000', 'Q27430504']   \n",
       "2                                             ['Q380107']   \n",
       "3                                ['Q19667145', 'Q469184']   \n",
       "4                                             ['Q333953']   \n",
       "...                                                   ...   \n",
       "128925  ['Q10506256', 'Q1320174', 'Q16193035', 'Q18685...   \n",
       "128926                                        ['Q185654']   \n",
       "128927                                       ['Q4755286']   \n",
       "128928  ['Q1108713', 'Q26464525', 'Q47471830', 'Q51456...   \n",
       "128929                                      ['Q53473786']   \n",
       "\n",
       "                       date  numOccurrences  \\\n",
       "0       2020-02-04 02:25:29              14   \n",
       "1       2020-02-07 10:43:24               1   \n",
       "2       2020-04-14 06:41:23               1   \n",
       "3       2020-03-01 16:30:28              45   \n",
       "4       2020-04-11 15:21:07              39   \n",
       "...                     ...             ...   \n",
       "128925  2020-03-12 22:00:00               1   \n",
       "128926  2020-02-03 07:33:51               3   \n",
       "128927  2020-01-09 16:09:30               1   \n",
       "128928  2020-01-09 00:00:00               3   \n",
       "128929  2020-02-23 22:38:42               2   \n",
       "\n",
       "                                                   probas  \\\n",
       "0       [['Tedros Adhanom Ghebreyesus', '0.9326'], ['N...   \n",
       "1       [['Laurence Jones', '0.7837'], ['None', '0.205...   \n",
       "2         [['Rick Warren', '0.7567'], ['None', '0.2433']]   \n",
       "3         [['Linda Scott', '0.9437'], ['None', '0.0563']]   \n",
       "4       [['Roseanna Cunningham', '0.9142'], ['None', '...   \n",
       "...                                                   ...   \n",
       "128925  [['Paul Campbell', '0.8603'], ['None', '0.1397']]   \n",
       "128926  [['Gal Gadot', '0.8869'], ['None', '0.1006'], ...   \n",
       "128927  [['Andrea Stewart-Cousins', '0.8199'], ['None'...   \n",
       "128928   [['Colin Walker', '0.7325'], ['None', '0.2675']]   \n",
       "128929  [['Lesley Hughes', '0.9023'], ['None', '0.0978']]   \n",
       "\n",
       "                                                     urls  \n",
       "0       ['https://www.miragenews.com/who-outlines-step...  \n",
       "1       ['http://www.thefa.com/news/2020/feb/07/englan...  \n",
       "2       ['https://www.crossmap.com/news/coronavirus-ke...  \n",
       "3       ['http://avonadvocate.com.au/story/6656284/sum...  \n",
       "4       ['https://www.belfasttelegraph.co.uk/news/uk/f...  \n",
       "...                                                   ...  \n",
       "128925  ['http://postandcourier.com/business/europe-tr...  \n",
       "128926  ['https://in.ign.com/wonder-woman-2/144367/new...  \n",
       "128927  ['http://timesunion.com/news/article/State-Sen...  \n",
       "128928  ['http://sheppnews.com.au/news/2020/01/09/9816...  \n",
       "128929  ['https://www.nytimes.com/2020/02/23/world/aus...  \n",
       "\n",
       "[128930 rows x 8 columns]"
      ]
     },
     "execution_count": 184,
     "metadata": {},
     "output_type": "execute_result"
    }
   ],
   "source": [
    "quotes_2020_sceptic= pd.read_csv('data/clean_quotes_sceptic-2020.bz2', compression='bz2')\n",
    "quotes_2020_sceptic"
   ]
  },
  {
   "cell_type": "code",
   "execution_count": null,
   "id": "3e6183bf-5e5f-4dd2-a149-bbbf2c13562b",
   "metadata": {},
   "outputs": [],
   "source": []
  }
 ],
 "metadata": {
  "kernelspec": {
   "display_name": "Python 3 (ipykernel)",
   "language": "python",
   "name": "python3"
  },
  "language_info": {
   "codemirror_mode": {
    "name": "ipython",
    "version": 3
   },
   "file_extension": ".py",
   "mimetype": "text/x-python",
   "name": "python",
   "nbconvert_exporter": "python",
   "pygments_lexer": "ipython3",
   "version": "3.8.11"
  }
 },
 "nbformat": 4,
 "nbformat_minor": 5
}
