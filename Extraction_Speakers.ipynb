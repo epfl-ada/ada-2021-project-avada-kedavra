{
 "cells": [
  {
   "cell_type": "code",
   "execution_count": 1,
   "id": "0b96e040-0b76-4e37-9723-227fa140d08b",
   "metadata": {
    "tags": []
   },
   "outputs": [],
   "source": [
    "import numpy as np\n",
    "import pandas as pd\n",
    "\n",
    "import ast\n",
    "from ast import literal_eval"
   ]
  },
  {
   "cell_type": "markdown",
   "id": "7954e981-8339-4b5e-9647-38f0bf45f7b1",
   "metadata": {},
   "source": [
    "# Load additional data Relative to speakers"
   ]
  },
  {
   "cell_type": "markdown",
   "id": "b4546326-50a9-4515-beed-d591bb7c6716",
   "metadata": {
    "tags": []
   },
   "source": [
    "## Extracted labels QIDs\n",
    "\n",
    "The provided speaker_attributes.parquet file contains attributes in terms of QIDs, thereby being uninterpretable by humans (df_qid).\n",
    "To map the QIDs to meaningful labels, we used the provided wikidata_labels_descriptions_quotebank.csv.bz2 containing the label and value for the respective QID containing the df_qid (df_label_qid).\n",
    "By combining the information of both we can obtained usefull information about speakers."
   ]
  },
  {
   "cell_type": "markdown",
   "id": "44d8f6f6-d292-4118-a6b6-e9b9c26796c1",
   "metadata": {},
   "source": [
    "#### *Load parquet file*"
   ]
  },
  {
   "cell_type": "code",
   "execution_count": 3,
   "id": "cb0e7203-86c4-4f63-ba31-bb9907490542",
   "metadata": {},
   "outputs": [],
   "source": [
    "#Loading our speakers attribute dataset, and the dataset necessary to interpret our QIDs.\n",
    "df_qid = pd.read_parquet(\"speaker_attributes.parquet\",engine= \"pyarrow\" )\n",
    "df_label_qid = pd.read_csv('data/wikidata_labels_descriptions_quotebank.csv.bz2',index_col='QID')"
   ]
  },
  {
   "cell_type": "markdown",
   "id": "5927725e-d2c3-4e6d-bb65-db2f48f4d6ad",
   "metadata": {},
   "source": [
    "#### *Somes visualisation and sort of the parquet file*"
   ]
  },
  {
   "cell_type": "code",
   "execution_count": 4,
   "id": "a16a5c95-6205-4492-b67c-e1197598436d",
   "metadata": {},
   "outputs": [
    {
     "data": {
      "text/plain": [
       "True"
      ]
     },
     "execution_count": 4,
     "metadata": {},
     "output_type": "execute_result"
    }
   ],
   "source": [
    "df_qid.id.is_unique"
   ]
  },
  {
   "cell_type": "code",
   "execution_count": 5,
   "id": "897bc7a3-246c-4ba0-a080-897002eaf048",
   "metadata": {},
   "outputs": [
    {
     "data": {
      "text/html": [
       "<div>\n",
       "<style scoped>\n",
       "    .dataframe tbody tr th:only-of-type {\n",
       "        vertical-align: middle;\n",
       "    }\n",
       "\n",
       "    .dataframe tbody tr th {\n",
       "        vertical-align: top;\n",
       "    }\n",
       "\n",
       "    .dataframe thead th {\n",
       "        text-align: right;\n",
       "    }\n",
       "</style>\n",
       "<table border=\"1\" class=\"dataframe\">\n",
       "  <thead>\n",
       "    <tr style=\"text-align: right;\">\n",
       "      <th></th>\n",
       "      <th>aliases</th>\n",
       "      <th>date_of_birth</th>\n",
       "      <th>nationality</th>\n",
       "      <th>gender</th>\n",
       "      <th>lastrevid</th>\n",
       "      <th>ethnic_group</th>\n",
       "      <th>US_congress_bio_ID</th>\n",
       "      <th>occupation</th>\n",
       "      <th>party</th>\n",
       "      <th>academic_degree</th>\n",
       "      <th>id</th>\n",
       "      <th>label</th>\n",
       "      <th>candidacy</th>\n",
       "      <th>type</th>\n",
       "      <th>religion</th>\n",
       "    </tr>\n",
       "  </thead>\n",
       "  <tbody>\n",
       "    <tr>\n",
       "      <th>0</th>\n",
       "      <td>[Washington, President Washington, G. Washingt...</td>\n",
       "      <td>[+1732-02-22T00:00:00Z]</td>\n",
       "      <td>[Q161885, Q30]</td>\n",
       "      <td>[Q6581097]</td>\n",
       "      <td>1395141751</td>\n",
       "      <td>None</td>\n",
       "      <td>W000178</td>\n",
       "      <td>[Q82955, Q189290, Q131512, Q1734662, Q294126, ...</td>\n",
       "      <td>[Q327591]</td>\n",
       "      <td>None</td>\n",
       "      <td>Q23</td>\n",
       "      <td>George Washington</td>\n",
       "      <td>[Q698073, Q697949]</td>\n",
       "      <td>item</td>\n",
       "      <td>[Q682443]</td>\n",
       "    </tr>\n",
       "    <tr>\n",
       "      <th>1</th>\n",
       "      <td>[Douglas Noel Adams, Douglas Noël Adams, Dougl...</td>\n",
       "      <td>[+1952-03-11T00:00:00Z]</td>\n",
       "      <td>[Q145]</td>\n",
       "      <td>[Q6581097]</td>\n",
       "      <td>1395737157</td>\n",
       "      <td>[Q7994501]</td>\n",
       "      <td>None</td>\n",
       "      <td>[Q214917, Q28389, Q6625963, Q4853732, Q1884422...</td>\n",
       "      <td>None</td>\n",
       "      <td>None</td>\n",
       "      <td>Q42</td>\n",
       "      <td>Douglas Adams</td>\n",
       "      <td>None</td>\n",
       "      <td>item</td>\n",
       "      <td>None</td>\n",
       "    </tr>\n",
       "    <tr>\n",
       "      <th>2</th>\n",
       "      <td>[Paul Marie Ghislain Otlet, Paul Marie Otlet]</td>\n",
       "      <td>[+1868-08-23T00:00:00Z]</td>\n",
       "      <td>[Q31]</td>\n",
       "      <td>[Q6581097]</td>\n",
       "      <td>1380367296</td>\n",
       "      <td>None</td>\n",
       "      <td>None</td>\n",
       "      <td>[Q36180, Q40348, Q182436, Q1265807, Q205375, Q...</td>\n",
       "      <td>None</td>\n",
       "      <td>None</td>\n",
       "      <td>Q1868</td>\n",
       "      <td>Paul Otlet</td>\n",
       "      <td>None</td>\n",
       "      <td>item</td>\n",
       "      <td>None</td>\n",
       "    </tr>\n",
       "  </tbody>\n",
       "</table>\n",
       "</div>"
      ],
      "text/plain": [
       "                                             aliases            date_of_birth  \\\n",
       "0  [Washington, President Washington, G. Washingt...  [+1732-02-22T00:00:00Z]   \n",
       "1  [Douglas Noel Adams, Douglas Noël Adams, Dougl...  [+1952-03-11T00:00:00Z]   \n",
       "2      [Paul Marie Ghislain Otlet, Paul Marie Otlet]  [+1868-08-23T00:00:00Z]   \n",
       "\n",
       "      nationality      gender   lastrevid ethnic_group US_congress_bio_ID  \\\n",
       "0  [Q161885, Q30]  [Q6581097]  1395141751         None            W000178   \n",
       "1          [Q145]  [Q6581097]  1395737157   [Q7994501]               None   \n",
       "2           [Q31]  [Q6581097]  1380367296         None               None   \n",
       "\n",
       "                                          occupation      party  \\\n",
       "0  [Q82955, Q189290, Q131512, Q1734662, Q294126, ...  [Q327591]   \n",
       "1  [Q214917, Q28389, Q6625963, Q4853732, Q1884422...       None   \n",
       "2  [Q36180, Q40348, Q182436, Q1265807, Q205375, Q...       None   \n",
       "\n",
       "  academic_degree     id              label           candidacy  type  \\\n",
       "0            None    Q23  George Washington  [Q698073, Q697949]  item   \n",
       "1            None    Q42      Douglas Adams                None  item   \n",
       "2            None  Q1868         Paul Otlet                None  item   \n",
       "\n",
       "    religion  \n",
       "0  [Q682443]  \n",
       "1       None  \n",
       "2       None  "
      ]
     },
     "execution_count": 5,
     "metadata": {},
     "output_type": "execute_result"
    }
   ],
   "source": [
    "df_qid.head(3)"
   ]
  },
  {
   "cell_type": "markdown",
   "id": "d911dfa7-8a49-4ccf-9ff4-a294a533c52f",
   "metadata": {},
   "source": [
    "Let's verify that academic_degree has revelant values."
   ]
  },
  {
   "cell_type": "code",
   "execution_count": 6,
   "id": "6e34cc1f-957c-4eb9-ad08-b7c8e38e0dbd",
   "metadata": {},
   "outputs": [
    {
     "name": "stdout",
     "output_type": "stream",
     "text": [
      "There's no academic degree revelant value ? False\n"
     ]
    }
   ],
   "source": [
    "print(\"There's no academic degree revelant value ? {}\".format(all(df_qid.academic_degree.isna())))"
   ]
  },
  {
   "cell_type": "markdown",
   "id": "f18addb8-657e-4963-8aab-a14e3050a8cb",
   "metadata": {},
   "source": [
    "It seems that academic degree values are revelant, we decided to drop lastrevid, US_congress_bio_ID, type, Alisiase as they will not be used in our project."
   ]
  },
  {
   "cell_type": "code",
   "execution_count": 7,
   "id": "f1df2dd0-42e2-4ef8-948f-95da32722fd3",
   "metadata": {},
   "outputs": [],
   "source": [
    "df_qid.drop(['lastrevid', 'US_congress_bio_ID', 'type', 'aliases'], axis=1, inplace=True)"
   ]
  },
  {
   "cell_type": "markdown",
   "id": "715c7fdc-c340-4a91-a039-bd5d63a9a1ea",
   "metadata": {},
   "source": [
    "#### *Transformation of the df_qid with the label value from df_label_qid*"
   ]
  },
  {
   "cell_type": "code",
   "execution_count": 8,
   "id": "5ab4ef7c-b9f4-47d9-8fb2-469e6dcf2b2a",
   "metadata": {},
   "outputs": [],
   "source": [
    "#We found that one of the QID was deleted from Wikidata. We will start by dropping this value, so that it does not distrurb our labelling. \n",
    "\n",
    "def transform(y):\n",
    "    if y is None: return None\n",
    "    x = set(y)\n",
    "    x.discard(\"Q99753484\")\n",
    "    return np.array(list(x))\n",
    "    \n",
    "df_qid['occupation']=df_qid['occupation'].apply(lambda y : transform(y))"
   ]
  },
  {
   "cell_type": "code",
   "execution_count": 9,
   "id": "8acf341f-ee7e-4f52-bcbc-2ecb7b4fecf3",
   "metadata": {},
   "outputs": [],
   "source": [
    "#We found out that some of the QIDs used in the speaker attribute file are actually redirection from an original QID. \n",
    "#We will manulally add their corresponding information using the orginal QID. We found the corespondance manualy between the two. \n",
    "#Here, there are in order, respectively the redirection QID, and its corresponding original one. One of he QID was only present \n",
    "#as a redirection, so we manually added this one (Q3186984), and its corresponding info. \n",
    "\n",
    "redirect_QID=['Q3268166', 'Q11815360', 'Q12014399', 'Q16287483',\n",
    "              'Q20432251', 'Q21550646', 'Q13365117', 'Q13424794',\n",
    "             'Q1248362', 'Q6859927', 'Q15145782',\n",
    "             'Q15991263', 'Q12455619', 'Q5568256', \n",
    "             'Q6363085', 'Q11819457', 'Q12334852', 'Q15145783']\n",
    "actual_QID=['Q1113899', 'Q1919436', 'Q250867', 'Q6051619',\n",
    "             'Q26934816', 'Q18431816', 'Q12840545', 'Q5157338',\n",
    "            'Q3455803', 'Q715222', 'Q1052281',\n",
    "            'Q2743689', 'Q7019111', 'Q3738699', \n",
    "            'Q380075', 'Q3391743', 'Q476246', 'Q2449503']\n",
    "\n",
    "\n",
    "lst=[['Journalist', 'monthly magazine of the United Kingdom‘s National Union of Journalists (NUJ)']]\n",
    "indexes=['Q3186984']\n",
    "col=['Label', 'Description']\n",
    "for i in range(len(redirect_QID)):\n",
    "    lst.append([df_label_qid.loc[actual_QID[i]]['Label'], \n",
    "                df_label_qid.loc[actual_QID[i]]['Description']])\n",
    "    indexes.append(redirect_QID[i])\n",
    "\n",
    "additional_df= pd.DataFrame(lst, columns= col, index=indexes)\n",
    "df_label=df_label_qid.append(additional_df, ignore_index= False)"
   ]
  },
  {
   "cell_type": "code",
   "execution_count": 10,
   "id": "23b2be77-bbd7-45af-9a41-5c7f66598932",
   "metadata": {},
   "outputs": [],
   "source": [
    "#Applying the function to every column containing QIDs. \n",
    "cols=['nationality', 'gender', 'ethnic_group','occupation', 'party', 'academic_degree', 'candidacy', 'religion'] #List of columns \n",
    "#containing QID to be replace\n",
    "\n",
    "df_qid[cols] = df_qid[cols].applymap(lambda d: d if d is not None else []) #Replacing every None value with an empty list for futur analysis.\n",
    "df_qid[cols] = df_qid[cols].applymap(lambda y: [df_label.loc[Q].Label for Q in y]) #Replacing QIDs with their corresponding label."
   ]
  },
  {
   "cell_type": "markdown",
   "id": "2dfd49a6-fb46-4777-aca9-ae4785d96835",
   "metadata": {},
   "source": [
    "### Let's have additional data "
   ]
  },
  {
   "cell_type": "markdown",
   "id": "48e7829c-85a8-4ea0-8de9-41665d3b0080",
   "metadata": {},
   "source": [
    "Now, we want to see which speakers said quotes that we consider as climate-related and climate change sceptical. We will match speaker from the df_qid with a value septic/climate. We will add two boolean columns to our dataframe df_qid: one for climate-related, and one for climate change sceptical. In order to do that, we will select every QID that appears in our list of climate-related-quotes and climat-change-sceptical quotes"
   ]
  },
  {
   "cell_type": "code",
   "execution_count": 11,
   "id": "305ee765-d44d-4fff-994b-6034896d1473",
   "metadata": {},
   "outputs": [],
   "source": [
    "dico_clean={} \n",
    "length = 0\n",
    "for date in [2020, 2019, 2018, 2017, 2016, 2015]:\n",
    "    dico_clean[date] = pd.read_csv(f'data/clean_quotes-{date}.bz2', compression='bz2')\n",
    "    length += len(dico_clean[date]) #The length is used here to obtain the total number of quotes. "
   ]
  },
  {
   "cell_type": "markdown",
   "id": "f8299c54-5eab-4bff-b23d-827b70875069",
   "metadata": {},
   "source": [
    "#### *Qid_climate list*"
   ]
  },
  {
   "cell_type": "code",
   "execution_count": 12,
   "id": "85655c9a-7e4e-464a-a9f6-8ace9e0aa1e6",
   "metadata": {},
   "outputs": [],
   "source": [
    "qid_climate=[]\n",
    "\n",
    "#iteration in the dico_clean containing extracted files for climate involved quotes\n",
    "for key, file in dico_clean.items() :\n",
    "    qid_climate.append(file.drop_duplicates(['qids'], keep='first')['qids'].map(lambda y : ast.literal_eval(y)[0]).tolist()) #add unique QIDs from each file\n",
    "qid_climate=set(item for sublist in qid_climate for item in sublist)#create a set with unique QIDs from each year/file."
   ]
  },
  {
   "cell_type": "code",
   "execution_count": 13,
   "id": "bffd611c-06a7-4dc9-bc95-3d588094d67c",
   "metadata": {},
   "outputs": [
    {
     "name": "stdout",
     "output_type": "stream",
     "text": [
      "We extracted 63645 QIDs related to speakers that talk about climate.\n"
     ]
    }
   ],
   "source": [
    "print(\"We extracted {} QIDs related to speakers that talk about climate.\".format(len(qid_climate)))"
   ]
  },
  {
   "cell_type": "markdown",
   "id": "f1ce149b-c1c8-4068-8045-18b73340c156",
   "metadata": {},
   "source": [
    "#### *Add an additional column to df_qid*"
   ]
  },
  {
   "cell_type": "code",
   "execution_count": 14,
   "id": "3371211f-66bd-4780-be3a-69f2f66c368d",
   "metadata": {},
   "outputs": [],
   "source": [
    "df_qid['climate']=0 #create a column named climate with value equals 0\n",
    "df_qid.loc[df_qid[pd.Index(df_qid.id.isin(pd.Index(qid_climate)))].index, 'climate']=1 #replace with 1 for speakers that appear in the climate-involved quotes."
   ]
  },
  {
   "cell_type": "code",
   "execution_count": 15,
   "id": "302c6ce5-23bc-47d0-8441-33e09ddddf9b",
   "metadata": {},
   "outputs": [
    {
     "data": {
      "text/html": [
       "<div>\n",
       "<style scoped>\n",
       "    .dataframe tbody tr th:only-of-type {\n",
       "        vertical-align: middle;\n",
       "    }\n",
       "\n",
       "    .dataframe tbody tr th {\n",
       "        vertical-align: top;\n",
       "    }\n",
       "\n",
       "    .dataframe thead th {\n",
       "        text-align: right;\n",
       "    }\n",
       "</style>\n",
       "<table border=\"1\" class=\"dataframe\">\n",
       "  <thead>\n",
       "    <tr style=\"text-align: right;\">\n",
       "      <th></th>\n",
       "      <th>date_of_birth</th>\n",
       "      <th>nationality</th>\n",
       "      <th>gender</th>\n",
       "      <th>ethnic_group</th>\n",
       "      <th>occupation</th>\n",
       "      <th>party</th>\n",
       "      <th>academic_degree</th>\n",
       "      <th>id</th>\n",
       "      <th>label</th>\n",
       "      <th>candidacy</th>\n",
       "      <th>religion</th>\n",
       "      <th>climate</th>\n",
       "    </tr>\n",
       "  </thead>\n",
       "  <tbody>\n",
       "    <tr>\n",
       "      <th>7758145</th>\n",
       "      <td>None</td>\n",
       "      <td>[]</td>\n",
       "      <td>[male]</td>\n",
       "      <td>[]</td>\n",
       "      <td>[property master]</td>\n",
       "      <td>[]</td>\n",
       "      <td>[]</td>\n",
       "      <td>Q95822591</td>\n",
       "      <td>Andy Wirth</td>\n",
       "      <td>[]</td>\n",
       "      <td>[]</td>\n",
       "      <td>0</td>\n",
       "    </tr>\n",
       "    <tr>\n",
       "      <th>3044573</th>\n",
       "      <td>None</td>\n",
       "      <td>[]</td>\n",
       "      <td>[male]</td>\n",
       "      <td>[]</td>\n",
       "      <td>[researcher]</td>\n",
       "      <td>[]</td>\n",
       "      <td>[]</td>\n",
       "      <td>Q80621224</td>\n",
       "      <td>Pedro Nogueroles</td>\n",
       "      <td>[]</td>\n",
       "      <td>[]</td>\n",
       "      <td>0</td>\n",
       "    </tr>\n",
       "    <tr>\n",
       "      <th>7934643</th>\n",
       "      <td>[+1981-10-03T00:00:00Z]</td>\n",
       "      <td>[Sweden]</td>\n",
       "      <td>[male]</td>\n",
       "      <td>[]</td>\n",
       "      <td>[association football player]</td>\n",
       "      <td>[]</td>\n",
       "      <td>[]</td>\n",
       "      <td>Q205773</td>\n",
       "      <td>Andreas Isaksson</td>\n",
       "      <td>[]</td>\n",
       "      <td>[]</td>\n",
       "      <td>0</td>\n",
       "    </tr>\n",
       "    <tr>\n",
       "      <th>8523930</th>\n",
       "      <td>[+1937-00-00T00:00:00Z]</td>\n",
       "      <td>[]</td>\n",
       "      <td>[male]</td>\n",
       "      <td>[]</td>\n",
       "      <td>[musical instrument maker]</td>\n",
       "      <td>[]</td>\n",
       "      <td>[]</td>\n",
       "      <td>Q60194767</td>\n",
       "      <td>Tullio Bassi</td>\n",
       "      <td>[]</td>\n",
       "      <td>[]</td>\n",
       "      <td>0</td>\n",
       "    </tr>\n",
       "    <tr>\n",
       "      <th>8391253</th>\n",
       "      <td>None</td>\n",
       "      <td>[Song dynasty]</td>\n",
       "      <td>[male]</td>\n",
       "      <td>[]</td>\n",
       "      <td>[]</td>\n",
       "      <td>[]</td>\n",
       "      <td>[]</td>\n",
       "      <td>Q45367758</td>\n",
       "      <td>Bian Shen</td>\n",
       "      <td>[]</td>\n",
       "      <td>[]</td>\n",
       "      <td>0</td>\n",
       "    </tr>\n",
       "    <tr>\n",
       "      <th>8672380</th>\n",
       "      <td>None</td>\n",
       "      <td>[]</td>\n",
       "      <td>[male]</td>\n",
       "      <td>[]</td>\n",
       "      <td>[]</td>\n",
       "      <td>[]</td>\n",
       "      <td>[]</td>\n",
       "      <td>Q76097038</td>\n",
       "      <td>Christopher Newton</td>\n",
       "      <td>[]</td>\n",
       "      <td>[]</td>\n",
       "      <td>0</td>\n",
       "    </tr>\n",
       "    <tr>\n",
       "      <th>8275330</th>\n",
       "      <td>[+1913-06-22T00:00:00Z]</td>\n",
       "      <td>[Spain]</td>\n",
       "      <td>[male]</td>\n",
       "      <td>[]</td>\n",
       "      <td>[anarchist, teacher]</td>\n",
       "      <td>[]</td>\n",
       "      <td>[]</td>\n",
       "      <td>Q19999642</td>\n",
       "      <td>Evaristo Viñuales Larroy</td>\n",
       "      <td>[]</td>\n",
       "      <td>[]</td>\n",
       "      <td>0</td>\n",
       "    </tr>\n",
       "    <tr>\n",
       "      <th>482789</th>\n",
       "      <td>None</td>\n",
       "      <td>[Ming dynasty]</td>\n",
       "      <td>[male]</td>\n",
       "      <td>[]</td>\n",
       "      <td>[]</td>\n",
       "      <td>[]</td>\n",
       "      <td>[]</td>\n",
       "      <td>Q45532388</td>\n",
       "      <td>Zheng Hong</td>\n",
       "      <td>[]</td>\n",
       "      <td>[]</td>\n",
       "      <td>0</td>\n",
       "    </tr>\n",
       "    <tr>\n",
       "      <th>6603722</th>\n",
       "      <td>[+1837-00-00T00:00:00Z]</td>\n",
       "      <td>[]</td>\n",
       "      <td>[male]</td>\n",
       "      <td>[]</td>\n",
       "      <td>[]</td>\n",
       "      <td>[]</td>\n",
       "      <td>[]</td>\n",
       "      <td>Q95252981</td>\n",
       "      <td>Julius Bunzel</td>\n",
       "      <td>[]</td>\n",
       "      <td>[]</td>\n",
       "      <td>0</td>\n",
       "    </tr>\n",
       "    <tr>\n",
       "      <th>1655264</th>\n",
       "      <td>[+1962-01-01T00:00:00Z]</td>\n",
       "      <td>[People's Republic of China]</td>\n",
       "      <td>[]</td>\n",
       "      <td>[]</td>\n",
       "      <td>[politician]</td>\n",
       "      <td>[Communist Party of China]</td>\n",
       "      <td>[]</td>\n",
       "      <td>Q51106452</td>\n",
       "      <td>None</td>\n",
       "      <td>[]</td>\n",
       "      <td>[]</td>\n",
       "      <td>0</td>\n",
       "    </tr>\n",
       "  </tbody>\n",
       "</table>\n",
       "</div>"
      ],
      "text/plain": [
       "                   date_of_birth                   nationality  gender  \\\n",
       "7758145                     None                            []  [male]   \n",
       "3044573                     None                            []  [male]   \n",
       "7934643  [+1981-10-03T00:00:00Z]                      [Sweden]  [male]   \n",
       "8523930  [+1937-00-00T00:00:00Z]                            []  [male]   \n",
       "8391253                     None                [Song dynasty]  [male]   \n",
       "8672380                     None                            []  [male]   \n",
       "8275330  [+1913-06-22T00:00:00Z]                       [Spain]  [male]   \n",
       "482789                      None                [Ming dynasty]  [male]   \n",
       "6603722  [+1837-00-00T00:00:00Z]                            []  [male]   \n",
       "1655264  [+1962-01-01T00:00:00Z]  [People's Republic of China]      []   \n",
       "\n",
       "        ethnic_group                     occupation  \\\n",
       "7758145           []              [property master]   \n",
       "3044573           []                   [researcher]   \n",
       "7934643           []  [association football player]   \n",
       "8523930           []     [musical instrument maker]   \n",
       "8391253           []                             []   \n",
       "8672380           []                             []   \n",
       "8275330           []           [anarchist, teacher]   \n",
       "482789            []                             []   \n",
       "6603722           []                             []   \n",
       "1655264           []                   [politician]   \n",
       "\n",
       "                              party academic_degree         id  \\\n",
       "7758145                          []              []  Q95822591   \n",
       "3044573                          []              []  Q80621224   \n",
       "7934643                          []              []    Q205773   \n",
       "8523930                          []              []  Q60194767   \n",
       "8391253                          []              []  Q45367758   \n",
       "8672380                          []              []  Q76097038   \n",
       "8275330                          []              []  Q19999642   \n",
       "482789                           []              []  Q45532388   \n",
       "6603722                          []              []  Q95252981   \n",
       "1655264  [Communist Party of China]              []  Q51106452   \n",
       "\n",
       "                            label candidacy religion  climate  \n",
       "7758145                Andy Wirth        []       []        0  \n",
       "3044573          Pedro Nogueroles        []       []        0  \n",
       "7934643          Andreas Isaksson        []       []        0  \n",
       "8523930              Tullio Bassi        []       []        0  \n",
       "8391253                 Bian Shen        []       []        0  \n",
       "8672380        Christopher Newton        []       []        0  \n",
       "8275330  Evaristo Viñuales Larroy        []       []        0  \n",
       "482789                 Zheng Hong        []       []        0  \n",
       "6603722             Julius Bunzel        []       []        0  \n",
       "1655264                      None        []       []        0  "
      ]
     },
     "execution_count": 15,
     "metadata": {},
     "output_type": "execute_result"
    }
   ],
   "source": [
    "df_qid.sample(10)"
   ]
  },
  {
   "cell_type": "markdown",
   "id": "6d57c85c-a06a-4aea-b348-04e833ea212e",
   "metadata": {},
   "source": [
    "## *Filter the data*"
   ]
  },
  {
   "cell_type": "markdown",
   "id": "bdbf4994-8b0c-4e53-84bc-91310c58d89a",
   "metadata": {},
   "source": [
    "As a good data scientist, the first thing to do is to clean up the data. In order to do that, we will first check for missing rows. Then we will replace the date of birth by the year of birth. Lastly, we will filter our speakers in order to keep only the ones whose age is bewteen 12 and 100 . (As climate change is a relatively new topic, and we do not consider quotes from speakers that are younger then 12 years old)."
   ]
  },
  {
   "cell_type": "code",
   "execution_count": 16,
   "id": "a9ec8a2f-f897-4345-8d7d-64e2795a7151",
   "metadata": {},
   "outputs": [
    {
     "name": "stdout",
     "output_type": "stream",
     "text": [
      "Is there some missing rows ? False \n"
     ]
    }
   ],
   "source": [
    "print(\"Is there some missing rows ? {} \".format(np.array([df_qid.drop(columns=['label', 'id']).isnull().any(axis=1)]).all()))"
   ]
  },
  {
   "cell_type": "code",
   "execution_count": 17,
   "id": "bccd9910-5ba4-408a-9133-54d8f6e6cbb9",
   "metadata": {},
   "outputs": [],
   "source": [
    "df_qid.date_of_birth=df_qid.fillna(0).date_of_birth.map(lambda y : str(y).split(\"-\")[0][3:])#Keep only the year of birth.\n",
    "df_qid=df_qid.loc[df_qid['date_of_birth'].apply(lambda x: x!= '' and int(x)>1920 and int(x)< 2008)]#Keep only speakers born after 1920.\n",
    "df_qid['date_of_birth']=df_qid['date_of_birth'].astype(int)"
   ]
  },
  {
   "cell_type": "code",
   "execution_count": 18,
   "id": "992d99e3-3fe9-44f6-9de5-12ffada085bc",
   "metadata": {},
   "outputs": [
    {
     "data": {
      "text/html": [
       "<div>\n",
       "<style scoped>\n",
       "    .dataframe tbody tr th:only-of-type {\n",
       "        vertical-align: middle;\n",
       "    }\n",
       "\n",
       "    .dataframe tbody tr th {\n",
       "        vertical-align: top;\n",
       "    }\n",
       "\n",
       "    .dataframe thead th {\n",
       "        text-align: right;\n",
       "    }\n",
       "</style>\n",
       "<table border=\"1\" class=\"dataframe\">\n",
       "  <thead>\n",
       "    <tr style=\"text-align: right;\">\n",
       "      <th></th>\n",
       "      <th>date_of_birth</th>\n",
       "      <th>nationality</th>\n",
       "      <th>gender</th>\n",
       "      <th>ethnic_group</th>\n",
       "      <th>occupation</th>\n",
       "      <th>party</th>\n",
       "      <th>academic_degree</th>\n",
       "      <th>id</th>\n",
       "      <th>label</th>\n",
       "      <th>candidacy</th>\n",
       "      <th>religion</th>\n",
       "      <th>climate</th>\n",
       "    </tr>\n",
       "  </thead>\n",
       "  <tbody>\n",
       "    <tr>\n",
       "      <th>6948746</th>\n",
       "      <td>1937</td>\n",
       "      <td>[United Kingdom]</td>\n",
       "      <td>[male]</td>\n",
       "      <td>[]</td>\n",
       "      <td>[politician, aristocrat]</td>\n",
       "      <td>[Conservative Party]</td>\n",
       "      <td>[]</td>\n",
       "      <td>Q5719953</td>\n",
       "      <td>Henry Crichton, 6th Earl Erne</td>\n",
       "      <td>[]</td>\n",
       "      <td>[]</td>\n",
       "      <td>0</td>\n",
       "    </tr>\n",
       "    <tr>\n",
       "      <th>3197878</th>\n",
       "      <td>1986</td>\n",
       "      <td>[]</td>\n",
       "      <td>[male]</td>\n",
       "      <td>[]</td>\n",
       "      <td>[exhibition curator, historian, contributing e...</td>\n",
       "      <td>[]</td>\n",
       "      <td>[]</td>\n",
       "      <td>Q95087048</td>\n",
       "      <td>Adam Štěch</td>\n",
       "      <td>[]</td>\n",
       "      <td>[]</td>\n",
       "      <td>0</td>\n",
       "    </tr>\n",
       "    <tr>\n",
       "      <th>999376</th>\n",
       "      <td>1965</td>\n",
       "      <td>[Kingdom of the Netherlands]</td>\n",
       "      <td>[male]</td>\n",
       "      <td>[]</td>\n",
       "      <td>[]</td>\n",
       "      <td>[]</td>\n",
       "      <td>[]</td>\n",
       "      <td>Q97521309</td>\n",
       "      <td>Tom Phijffer</td>\n",
       "      <td>[]</td>\n",
       "      <td>[]</td>\n",
       "      <td>0</td>\n",
       "    </tr>\n",
       "    <tr>\n",
       "      <th>8048152</th>\n",
       "      <td>1976</td>\n",
       "      <td>[Ukraine]</td>\n",
       "      <td>[male]</td>\n",
       "      <td>[]</td>\n",
       "      <td>[presenter, actor]</td>\n",
       "      <td>[]</td>\n",
       "      <td>[]</td>\n",
       "      <td>Q4522302</td>\n",
       "      <td>Grigory Shevchuk</td>\n",
       "      <td>[]</td>\n",
       "      <td>[]</td>\n",
       "      <td>0</td>\n",
       "    </tr>\n",
       "    <tr>\n",
       "      <th>141842</th>\n",
       "      <td>1979</td>\n",
       "      <td>[United States of America]</td>\n",
       "      <td>[male]</td>\n",
       "      <td>[]</td>\n",
       "      <td>[American football player]</td>\n",
       "      <td>[]</td>\n",
       "      <td>[]</td>\n",
       "      <td>Q5261885</td>\n",
       "      <td>Derek Combs</td>\n",
       "      <td>[]</td>\n",
       "      <td>[]</td>\n",
       "      <td>0</td>\n",
       "    </tr>\n",
       "  </tbody>\n",
       "</table>\n",
       "</div>"
      ],
      "text/plain": [
       "         date_of_birth                   nationality  gender ethnic_group  \\\n",
       "6948746           1937              [United Kingdom]  [male]           []   \n",
       "3197878           1986                            []  [male]           []   \n",
       "999376            1965  [Kingdom of the Netherlands]  [male]           []   \n",
       "8048152           1976                     [Ukraine]  [male]           []   \n",
       "141842            1979    [United States of America]  [male]           []   \n",
       "\n",
       "                                                occupation  \\\n",
       "6948746                           [politician, aristocrat]   \n",
       "3197878  [exhibition curator, historian, contributing e...   \n",
       "999376                                                  []   \n",
       "8048152                                 [presenter, actor]   \n",
       "141842                          [American football player]   \n",
       "\n",
       "                        party academic_degree         id  \\\n",
       "6948746  [Conservative Party]              []   Q5719953   \n",
       "3197878                    []              []  Q95087048   \n",
       "999376                     []              []  Q97521309   \n",
       "8048152                    []              []   Q4522302   \n",
       "141842                     []              []   Q5261885   \n",
       "\n",
       "                                 label candidacy religion  climate  \n",
       "6948746  Henry Crichton, 6th Earl Erne        []       []        0  \n",
       "3197878                     Adam Štěch        []       []        0  \n",
       "999376                    Tom Phijffer        []       []        0  \n",
       "8048152               Grigory Shevchuk        []       []        0  \n",
       "141842                     Derek Combs        []       []        0  "
      ]
     },
     "execution_count": 18,
     "metadata": {},
     "output_type": "execute_result"
    }
   ],
   "source": [
    "df_qid.sample(5)"
   ]
  },
  {
   "cell_type": "markdown",
   "id": "dbe0b01d-0224-4cae-9087-140a1fec969d",
   "metadata": {},
   "source": [
    "#### *Load resulting data into a csv compressed filled*"
   ]
  },
  {
   "cell_type": "code",
   "execution_count": 19,
   "id": "5b1247fd-5a16-4322-8144-636283075105",
   "metadata": {},
   "outputs": [],
   "source": [
    "df_qid.to_csv(\"data/speaker_attribute.bz2\", compression = 'bz2', index=False)"
   ]
  }
 ],
 "metadata": {
  "kernelspec": {
   "display_name": "Python 3 (ipykernel)",
   "language": "python",
   "name": "python3"
  },
  "language_info": {
   "codemirror_mode": {
    "name": "ipython",
    "version": 3
   },
   "file_extension": ".py",
   "mimetype": "text/x-python",
   "name": "python",
   "nbconvert_exporter": "python",
   "pygments_lexer": "ipython3",
   "version": "3.8.12"
  }
 },
 "nbformat": 4,
 "nbformat_minor": 5
}
