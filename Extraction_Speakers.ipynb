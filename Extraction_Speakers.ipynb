{
 "cells": [
  {
   "cell_type": "code",
   "execution_count": 17,
   "id": "0b96e040-0b76-4e37-9723-227fa140d08b",
   "metadata": {
    "tags": []
   },
   "outputs": [],
   "source": [
    "import numpy as np\n",
    "import pandas as pd\n",
    "\n",
    "import ast\n",
    "from ast import literal_eval"
   ]
  },
  {
   "cell_type": "markdown",
   "id": "7954e981-8339-4b5e-9647-38f0bf45f7b1",
   "metadata": {},
   "source": [
    "# Load additional data Relative to speakers"
   ]
  },
  {
   "cell_type": "markdown",
   "id": "b4546326-50a9-4515-beed-d591bb7c6716",
   "metadata": {
    "tags": []
   },
   "source": [
    "## Extracted labels QIDs\n",
    "\n",
    "The provided speaker_attributes.parquet file contains attributes in terms of QIDs, thereby being uninterpretable by humans (df_qid).\n",
    "To map the QIDs to meaningful labels, we used the provided wikidata_labels_descriptions_quotebank.csv.bz2 containing the label and value for the respective QID containing the df_qid (df_label_qid).\n",
    "By combining the information of both we can obtained usefull information about speakers."
   ]
  },
  {
   "cell_type": "markdown",
   "id": "44d8f6f6-d292-4118-a6b6-e9b9c26796c1",
   "metadata": {},
   "source": [
    "#### *Load parquet file*"
   ]
  },
  {
   "cell_type": "code",
   "execution_count": 5,
   "id": "cb0e7203-86c4-4f63-ba31-bb9907490542",
   "metadata": {},
   "outputs": [],
   "source": [
    "#Loading our speakers attribute dataset, and the dataset necessary to interpret our QIDs.\n",
    "df_qid = pd.read_parquet(\"speaker_attributes.parquet\",engine= \"pyarrow\" )\n",
    "df_label_qid = pd.read_csv('data/wikidata_labels_descriptions_quotebank.csv.bz2',index_col='QID')"
   ]
  },
  {
   "cell_type": "markdown",
   "id": "5927725e-d2c3-4e6d-bb65-db2f48f4d6ad",
   "metadata": {},
   "source": [
    "#### *Somes visualisation and sort of the parquet file*"
   ]
  },
  {
   "cell_type": "code",
   "execution_count": 6,
   "id": "a16a5c95-6205-4492-b67c-e1197598436d",
   "metadata": {},
   "outputs": [
    {
     "data": {
      "text/plain": [
       "True"
      ]
     },
     "execution_count": 6,
     "metadata": {},
     "output_type": "execute_result"
    }
   ],
   "source": [
    "df_qid.id.is_unique"
   ]
  },
  {
   "cell_type": "code",
   "execution_count": 7,
   "id": "897bc7a3-246c-4ba0-a080-897002eaf048",
   "metadata": {},
   "outputs": [
    {
     "data": {
      "text/html": [
       "<div>\n",
       "<style scoped>\n",
       "    .dataframe tbody tr th:only-of-type {\n",
       "        vertical-align: middle;\n",
       "    }\n",
       "\n",
       "    .dataframe tbody tr th {\n",
       "        vertical-align: top;\n",
       "    }\n",
       "\n",
       "    .dataframe thead th {\n",
       "        text-align: right;\n",
       "    }\n",
       "</style>\n",
       "<table border=\"1\" class=\"dataframe\">\n",
       "  <thead>\n",
       "    <tr style=\"text-align: right;\">\n",
       "      <th></th>\n",
       "      <th>aliases</th>\n",
       "      <th>date_of_birth</th>\n",
       "      <th>nationality</th>\n",
       "      <th>gender</th>\n",
       "      <th>lastrevid</th>\n",
       "      <th>ethnic_group</th>\n",
       "      <th>US_congress_bio_ID</th>\n",
       "      <th>occupation</th>\n",
       "      <th>party</th>\n",
       "      <th>academic_degree</th>\n",
       "      <th>id</th>\n",
       "      <th>label</th>\n",
       "      <th>candidacy</th>\n",
       "      <th>type</th>\n",
       "      <th>religion</th>\n",
       "    </tr>\n",
       "  </thead>\n",
       "  <tbody>\n",
       "    <tr>\n",
       "      <th>0</th>\n",
       "      <td>[Washington, President Washington, G. Washingt...</td>\n",
       "      <td>[+1732-02-22T00:00:00Z]</td>\n",
       "      <td>[Q161885, Q30]</td>\n",
       "      <td>[Q6581097]</td>\n",
       "      <td>1395141751</td>\n",
       "      <td>None</td>\n",
       "      <td>W000178</td>\n",
       "      <td>[Q82955, Q189290, Q131512, Q1734662, Q294126, ...</td>\n",
       "      <td>[Q327591]</td>\n",
       "      <td>None</td>\n",
       "      <td>Q23</td>\n",
       "      <td>George Washington</td>\n",
       "      <td>[Q698073, Q697949]</td>\n",
       "      <td>item</td>\n",
       "      <td>[Q682443]</td>\n",
       "    </tr>\n",
       "    <tr>\n",
       "      <th>1</th>\n",
       "      <td>[Douglas Noel Adams, Douglas Noël Adams, Dougl...</td>\n",
       "      <td>[+1952-03-11T00:00:00Z]</td>\n",
       "      <td>[Q145]</td>\n",
       "      <td>[Q6581097]</td>\n",
       "      <td>1395737157</td>\n",
       "      <td>[Q7994501]</td>\n",
       "      <td>None</td>\n",
       "      <td>[Q214917, Q28389, Q6625963, Q4853732, Q1884422...</td>\n",
       "      <td>None</td>\n",
       "      <td>None</td>\n",
       "      <td>Q42</td>\n",
       "      <td>Douglas Adams</td>\n",
       "      <td>None</td>\n",
       "      <td>item</td>\n",
       "      <td>None</td>\n",
       "    </tr>\n",
       "    <tr>\n",
       "      <th>2</th>\n",
       "      <td>[Paul Marie Ghislain Otlet, Paul Marie Otlet]</td>\n",
       "      <td>[+1868-08-23T00:00:00Z]</td>\n",
       "      <td>[Q31]</td>\n",
       "      <td>[Q6581097]</td>\n",
       "      <td>1380367296</td>\n",
       "      <td>None</td>\n",
       "      <td>None</td>\n",
       "      <td>[Q36180, Q40348, Q182436, Q1265807, Q205375, Q...</td>\n",
       "      <td>None</td>\n",
       "      <td>None</td>\n",
       "      <td>Q1868</td>\n",
       "      <td>Paul Otlet</td>\n",
       "      <td>None</td>\n",
       "      <td>item</td>\n",
       "      <td>None</td>\n",
       "    </tr>\n",
       "  </tbody>\n",
       "</table>\n",
       "</div>"
      ],
      "text/plain": [
       "                                             aliases            date_of_birth  \\\n",
       "0  [Washington, President Washington, G. Washingt...  [+1732-02-22T00:00:00Z]   \n",
       "1  [Douglas Noel Adams, Douglas Noël Adams, Dougl...  [+1952-03-11T00:00:00Z]   \n",
       "2      [Paul Marie Ghislain Otlet, Paul Marie Otlet]  [+1868-08-23T00:00:00Z]   \n",
       "\n",
       "      nationality      gender   lastrevid ethnic_group US_congress_bio_ID  \\\n",
       "0  [Q161885, Q30]  [Q6581097]  1395141751         None            W000178   \n",
       "1          [Q145]  [Q6581097]  1395737157   [Q7994501]               None   \n",
       "2           [Q31]  [Q6581097]  1380367296         None               None   \n",
       "\n",
       "                                          occupation      party  \\\n",
       "0  [Q82955, Q189290, Q131512, Q1734662, Q294126, ...  [Q327591]   \n",
       "1  [Q214917, Q28389, Q6625963, Q4853732, Q1884422...       None   \n",
       "2  [Q36180, Q40348, Q182436, Q1265807, Q205375, Q...       None   \n",
       "\n",
       "  academic_degree     id              label           candidacy  type  \\\n",
       "0            None    Q23  George Washington  [Q698073, Q697949]  item   \n",
       "1            None    Q42      Douglas Adams                None  item   \n",
       "2            None  Q1868         Paul Otlet                None  item   \n",
       "\n",
       "    religion  \n",
       "0  [Q682443]  \n",
       "1       None  \n",
       "2       None  "
      ]
     },
     "execution_count": 7,
     "metadata": {},
     "output_type": "execute_result"
    }
   ],
   "source": [
    "df_qid.head(3)"
   ]
  },
  {
   "cell_type": "markdown",
   "id": "d911dfa7-8a49-4ccf-9ff4-a294a533c52f",
   "metadata": {},
   "source": [
    "Let's verify that academic_degree has revelant values."
   ]
  },
  {
   "cell_type": "code",
   "execution_count": 9,
   "id": "6e34cc1f-957c-4eb9-ad08-b7c8e38e0dbd",
   "metadata": {},
   "outputs": [
    {
     "name": "stdout",
     "output_type": "stream",
     "text": [
      "There's no academic degree revelant value ? False\n"
     ]
    }
   ],
   "source": [
    "print(\"There's no academic degree revelant value ? {}\".format(all(df_qid.academic_degree.isna())))"
   ]
  },
  {
   "cell_type": "markdown",
   "id": "f18addb8-657e-4963-8aab-a14e3050a8cb",
   "metadata": {},
   "source": [
    "It seems that academic degree values are revelant, we decided to drop lastrevid, US_congress_bio_ID, type, Alisiase as they will not be used in our project."
   ]
  },
  {
   "cell_type": "code",
   "execution_count": 8,
   "id": "f1df2dd0-42e2-4ef8-948f-95da32722fd3",
   "metadata": {},
   "outputs": [],
   "source": [
    "df_qid.drop(['lastrevid', 'US_congress_bio_ID', 'type', 'aliases'], axis=1, inplace=True)"
   ]
  },
  {
   "cell_type": "markdown",
   "id": "715c7fdc-c340-4a91-a039-bd5d63a9a1ea",
   "metadata": {},
   "source": [
    "#### *Transformation of the df_qid with the label value from df_label_qid*"
   ]
  },
  {
   "cell_type": "code",
   "execution_count": 10,
   "id": "5ab4ef7c-b9f4-47d9-8fb2-469e6dcf2b2a",
   "metadata": {},
   "outputs": [],
   "source": [
    "#We found that one of the QID was deleted from Wikidata. We will start by dropping this value, so that it does not distrurb our labelling. \n",
    "\n",
    "def transform(y):\n",
    "    if y is None: return None\n",
    "    x = set(y)\n",
    "    x.discard(\"Q99753484\")\n",
    "    return np.array(list(x))\n",
    "    \n",
    "df_qid['occupation']=df_qid['occupation'].apply(lambda y : transform(y))"
   ]
  },
  {
   "cell_type": "code",
   "execution_count": 11,
   "id": "8acf341f-ee7e-4f52-bcbc-2ecb7b4fecf3",
   "metadata": {},
   "outputs": [],
   "source": [
    "#We found out that some of the QIDs used in the speaker attribute file are actually redirection from an original QID. \n",
    "#We will manulally add their corresponding information using the orginal QID. We found the corespondance manualy between the two. \n",
    "#Here, there are in order, respectively the redirection QID, and its corresponding original one. One of he QID was only present \n",
    "#as a redirection, so we manually added this one (Q3186984), and its corresponding info. \n",
    "\n",
    "redirect_QID=['Q3268166', 'Q11815360', 'Q12014399', 'Q16287483',\n",
    "              'Q20432251', 'Q21550646', 'Q13365117', 'Q13424794',\n",
    "             'Q1248362', 'Q6859927', 'Q15145782',\n",
    "             'Q15991263', 'Q12455619', 'Q5568256', \n",
    "             'Q6363085', 'Q11819457', 'Q12334852', 'Q15145783']\n",
    "actual_QID=['Q1113899', 'Q1919436', 'Q250867', 'Q6051619',\n",
    "             'Q26934816', 'Q18431816', 'Q12840545', 'Q5157338',\n",
    "            'Q3455803', 'Q715222', 'Q1052281',\n",
    "            'Q2743689', 'Q7019111', 'Q3738699', \n",
    "            'Q380075', 'Q3391743', 'Q476246', 'Q2449503']\n",
    "\n",
    "\n",
    "lst=[['Journalist', 'monthly magazine of the United Kingdom‘s National Union of Journalists (NUJ)']]\n",
    "indexes=['Q3186984']\n",
    "col=['Label', 'Description']\n",
    "for i in range(len(redirect_QID)):\n",
    "    lst.append([df_label_qid.loc[actual_QID[i]]['Label'], \n",
    "                df_label_qid.loc[actual_QID[i]]['Description']])\n",
    "    indexes.append(redirect_QID[i])\n",
    "\n",
    "additional_df= pd.DataFrame(lst, columns= col, index=indexes)\n",
    "df_label=df_label_qid.append(additional_df, ignore_index= False)"
   ]
  },
  {
   "cell_type": "code",
   "execution_count": 12,
   "id": "23b2be77-bbd7-45af-9a41-5c7f66598932",
   "metadata": {},
   "outputs": [],
   "source": [
    "#Applying the function to every column containing QIDs. \n",
    "cols=['nationality', 'gender', 'ethnic_group','occupation', 'party', 'academic_degree', 'candidacy', 'religion'] #List of columns \n",
    "#containing QID to be replace\n",
    "\n",
    "df_qid[cols] = df_qid[cols].applymap(lambda d: d if d is not None else []) #Replacing every None value with an empty list for futur analysis.\n",
    "df_qid[cols] = df_qid[cols].applymap(lambda y: [df_label.loc[Q].Label for Q in y]) #Replacing QIDs with their corresponding label."
   ]
  },
  {
   "cell_type": "markdown",
   "id": "2dfd49a6-fb46-4777-aca9-ae4785d96835",
   "metadata": {},
   "source": [
    "### Let's have additional data "
   ]
  },
  {
   "cell_type": "markdown",
   "id": "48e7829c-85a8-4ea0-8de9-41665d3b0080",
   "metadata": {},
   "source": [
    "Now, we want to see which speakers said quotes that we consider as climate-related and climate change sceptical. We will match speaker from the df_qid with a value septic/climate. We will add two boolean columns to our dataframe df_qid: one for climate-related, and one for climate change sceptical. In order to do that, we will select every QID that appears in our list of climate-related-quotes and climat-change-sceptical quotes"
   ]
  },
  {
   "cell_type": "code",
   "execution_count": 15,
   "id": "305ee765-d44d-4fff-994b-6034896d1473",
   "metadata": {},
   "outputs": [],
   "source": [
    "dico_clean={} \n",
    "length = 0\n",
    "for date in [2020, 2019, 2018, 2017, 2016, 2015]:\n",
    "    dico_clean[date] = pd.read_csv(f'data/clean_quotes-{date}.bz2', compression='bz2')\n",
    "    length += len(dico_clean[date]) #The length is used here to obtain the total number of quotes. "
   ]
  },
  {
   "cell_type": "markdown",
   "id": "f8299c54-5eab-4bff-b23d-827b70875069",
   "metadata": {},
   "source": [
    "#### *Qid_climate list*"
   ]
  },
  {
   "cell_type": "code",
   "execution_count": 18,
   "id": "85655c9a-7e4e-464a-a9f6-8ace9e0aa1e6",
   "metadata": {},
   "outputs": [],
   "source": [
    "qid_climate=[]\n",
    "\n",
    "#iteration in the dico_clean containing extracted files for climate involved quotes\n",
    "for key, file in dico_clean.items() :\n",
    "    qid_climate.append(file.drop_duplicates(['qids'], keep='first')['qids'].map(lambda y : ast.literal_eval(y)[0]).tolist()) #add unique QIDs from each file\n",
    "qid_climate=set(item for sublist in qid_climate for item in sublist)#create a set with unique QIDs from each year/file."
   ]
  },
  {
   "cell_type": "code",
   "execution_count": 19,
   "id": "bffd611c-06a7-4dc9-bc95-3d588094d67c",
   "metadata": {},
   "outputs": [
    {
     "name": "stdout",
     "output_type": "stream",
     "text": [
      "We extracted 255071 QIDs related to speakers that talk about climate.\n"
     ]
    }
   ],
   "source": [
    "print(\"We extracted {} QIDs related to speakers that talk about climate.\".format(len(qid_climate)))"
   ]
  },
  {
   "cell_type": "markdown",
   "id": "f1ce149b-c1c8-4068-8045-18b73340c156",
   "metadata": {},
   "source": [
    "#### *Add an additional column to df_qid*"
   ]
  },
  {
   "cell_type": "code",
   "execution_count": 20,
   "id": "3371211f-66bd-4780-be3a-69f2f66c368d",
   "metadata": {},
   "outputs": [],
   "source": [
    "df_qid['climate']=0 #create a column named climate with value equals 0\n",
    "df_qid.loc[df_qid[pd.Index(df_qid.id.isin(pd.Index(qid_climate)))].index, 'climate']=1 #replace with 1 for speakers that appear in the climate-involved quotes."
   ]
  },
  {
   "cell_type": "code",
   "execution_count": 24,
   "id": "302c6ce5-23bc-47d0-8441-33e09ddddf9b",
   "metadata": {},
   "outputs": [
    {
     "data": {
      "text/html": [
       "<div>\n",
       "<style scoped>\n",
       "    .dataframe tbody tr th:only-of-type {\n",
       "        vertical-align: middle;\n",
       "    }\n",
       "\n",
       "    .dataframe tbody tr th {\n",
       "        vertical-align: top;\n",
       "    }\n",
       "\n",
       "    .dataframe thead th {\n",
       "        text-align: right;\n",
       "    }\n",
       "</style>\n",
       "<table border=\"1\" class=\"dataframe\">\n",
       "  <thead>\n",
       "    <tr style=\"text-align: right;\">\n",
       "      <th></th>\n",
       "      <th>date_of_birth</th>\n",
       "      <th>nationality</th>\n",
       "      <th>gender</th>\n",
       "      <th>ethnic_group</th>\n",
       "      <th>occupation</th>\n",
       "      <th>party</th>\n",
       "      <th>academic_degree</th>\n",
       "      <th>id</th>\n",
       "      <th>label</th>\n",
       "      <th>candidacy</th>\n",
       "      <th>religion</th>\n",
       "      <th>climate</th>\n",
       "    </tr>\n",
       "  </thead>\n",
       "  <tbody>\n",
       "    <tr>\n",
       "      <th>3204675</th>\n",
       "      <td>[+1964-00-00T00:00:00Z]</td>\n",
       "      <td>[]</td>\n",
       "      <td>[female]</td>\n",
       "      <td>[]</td>\n",
       "      <td>[music teacher]</td>\n",
       "      <td>[]</td>\n",
       "      <td>[]</td>\n",
       "      <td>Q95207366</td>\n",
       "      <td>Claudia Schoppmann</td>\n",
       "      <td>[]</td>\n",
       "      <td>[]</td>\n",
       "      <td>0</td>\n",
       "    </tr>\n",
       "    <tr>\n",
       "      <th>8164935</th>\n",
       "      <td>[+1946-01-01T00:00:00Z]</td>\n",
       "      <td>[Japan]</td>\n",
       "      <td>[male]</td>\n",
       "      <td>[]</td>\n",
       "      <td>[]</td>\n",
       "      <td>[]</td>\n",
       "      <td>[]</td>\n",
       "      <td>Q11615321</td>\n",
       "      <td>Fumio Hanaoka</td>\n",
       "      <td>[]</td>\n",
       "      <td>[]</td>\n",
       "      <td>0</td>\n",
       "    </tr>\n",
       "    <tr>\n",
       "      <th>6817200</th>\n",
       "      <td>[+1941-11-25T00:00:00Z]</td>\n",
       "      <td>[United Kingdom]</td>\n",
       "      <td>[male]</td>\n",
       "      <td>[]</td>\n",
       "      <td>[journalist, novelist]</td>\n",
       "      <td>[]</td>\n",
       "      <td>[]</td>\n",
       "      <td>Q670108</td>\n",
       "      <td>Gerald Seymour</td>\n",
       "      <td>[]</td>\n",
       "      <td>[]</td>\n",
       "      <td>1</td>\n",
       "    </tr>\n",
       "    <tr>\n",
       "      <th>913475</th>\n",
       "      <td>[+1882-00-00T00:00:00Z]</td>\n",
       "      <td>[]</td>\n",
       "      <td>[]</td>\n",
       "      <td>[]</td>\n",
       "      <td>[]</td>\n",
       "      <td>[]</td>\n",
       "      <td>[]</td>\n",
       "      <td>Q94298564</td>\n",
       "      <td>J. F. Moulton</td>\n",
       "      <td>[]</td>\n",
       "      <td>[]</td>\n",
       "      <td>0</td>\n",
       "    </tr>\n",
       "    <tr>\n",
       "      <th>2515895</th>\n",
       "      <td>[+1901-00-00T00:00:00Z]</td>\n",
       "      <td>[Spain]</td>\n",
       "      <td>[male]</td>\n",
       "      <td>[]</td>\n",
       "      <td>[association football player]</td>\n",
       "      <td>[]</td>\n",
       "      <td>[]</td>\n",
       "      <td>Q11936940</td>\n",
       "      <td>Miquel Nadal Pont</td>\n",
       "      <td>[]</td>\n",
       "      <td>[]</td>\n",
       "      <td>0</td>\n",
       "    </tr>\n",
       "    <tr>\n",
       "      <th>7000101</th>\n",
       "      <td>[+1947-09-22T00:00:00Z]</td>\n",
       "      <td>[Brazil]</td>\n",
       "      <td>[female]</td>\n",
       "      <td>[]</td>\n",
       "      <td>[singer]</td>\n",
       "      <td>[]</td>\n",
       "      <td>[]</td>\n",
       "      <td>Q7915270</td>\n",
       "      <td>Vanusa</td>\n",
       "      <td>[]</td>\n",
       "      <td>[]</td>\n",
       "      <td>0</td>\n",
       "    </tr>\n",
       "    <tr>\n",
       "      <th>31880</th>\n",
       "      <td>[+1944-01-27T00:00:00Z]</td>\n",
       "      <td>[England]</td>\n",
       "      <td>[male]</td>\n",
       "      <td>[]</td>\n",
       "      <td>[poet, painter, guitarist, singer-songwriter]</td>\n",
       "      <td>[]</td>\n",
       "      <td>[]</td>\n",
       "      <td>Q940448</td>\n",
       "      <td>Kevin Coyne</td>\n",
       "      <td>[]</td>\n",
       "      <td>[]</td>\n",
       "      <td>0</td>\n",
       "    </tr>\n",
       "    <tr>\n",
       "      <th>936387</th>\n",
       "      <td>[+1891-10-20T00:00:00Z]</td>\n",
       "      <td>[Czechoslovakia]</td>\n",
       "      <td>[male]</td>\n",
       "      <td>[]</td>\n",
       "      <td>[journalist, writer, prosaist]</td>\n",
       "      <td>[]</td>\n",
       "      <td>[]</td>\n",
       "      <td>Q95123487</td>\n",
       "      <td>Rudolf Kepka</td>\n",
       "      <td>[]</td>\n",
       "      <td>[]</td>\n",
       "      <td>0</td>\n",
       "    </tr>\n",
       "    <tr>\n",
       "      <th>8356939</th>\n",
       "      <td>[+2002-09-22T00:00:00Z]</td>\n",
       "      <td>[]</td>\n",
       "      <td>[male]</td>\n",
       "      <td>[]</td>\n",
       "      <td>[actor, film actor]</td>\n",
       "      <td>[]</td>\n",
       "      <td>[]</td>\n",
       "      <td>Q30319189</td>\n",
       "      <td>Cody Veith</td>\n",
       "      <td>[]</td>\n",
       "      <td>[]</td>\n",
       "      <td>0</td>\n",
       "    </tr>\n",
       "    <tr>\n",
       "      <th>6909423</th>\n",
       "      <td>None</td>\n",
       "      <td>[]</td>\n",
       "      <td>[male]</td>\n",
       "      <td>[]</td>\n",
       "      <td>[philosopher]</td>\n",
       "      <td>[]</td>\n",
       "      <td>[]</td>\n",
       "      <td>Q4217639</td>\n",
       "      <td>None</td>\n",
       "      <td>[]</td>\n",
       "      <td>[]</td>\n",
       "      <td>0</td>\n",
       "    </tr>\n",
       "  </tbody>\n",
       "</table>\n",
       "</div>"
      ],
      "text/plain": [
       "                   date_of_birth       nationality    gender ethnic_group  \\\n",
       "3204675  [+1964-00-00T00:00:00Z]                []  [female]           []   \n",
       "8164935  [+1946-01-01T00:00:00Z]           [Japan]    [male]           []   \n",
       "6817200  [+1941-11-25T00:00:00Z]  [United Kingdom]    [male]           []   \n",
       "913475   [+1882-00-00T00:00:00Z]                []        []           []   \n",
       "2515895  [+1901-00-00T00:00:00Z]           [Spain]    [male]           []   \n",
       "7000101  [+1947-09-22T00:00:00Z]          [Brazil]  [female]           []   \n",
       "31880    [+1944-01-27T00:00:00Z]         [England]    [male]           []   \n",
       "936387   [+1891-10-20T00:00:00Z]  [Czechoslovakia]    [male]           []   \n",
       "8356939  [+2002-09-22T00:00:00Z]                []    [male]           []   \n",
       "6909423                     None                []    [male]           []   \n",
       "\n",
       "                                            occupation party academic_degree  \\\n",
       "3204675                                [music teacher]    []              []   \n",
       "8164935                                             []    []              []   \n",
       "6817200                         [journalist, novelist]    []              []   \n",
       "913475                                              []    []              []   \n",
       "2515895                  [association football player]    []              []   \n",
       "7000101                                       [singer]    []              []   \n",
       "31880    [poet, painter, guitarist, singer-songwriter]    []              []   \n",
       "936387                  [journalist, writer, prosaist]    []              []   \n",
       "8356939                            [actor, film actor]    []              []   \n",
       "6909423                                  [philosopher]    []              []   \n",
       "\n",
       "                id               label candidacy religion  climate  \n",
       "3204675  Q95207366  Claudia Schoppmann        []       []        0  \n",
       "8164935  Q11615321       Fumio Hanaoka        []       []        0  \n",
       "6817200    Q670108      Gerald Seymour        []       []        1  \n",
       "913475   Q94298564       J. F. Moulton        []       []        0  \n",
       "2515895  Q11936940   Miquel Nadal Pont        []       []        0  \n",
       "7000101   Q7915270              Vanusa        []       []        0  \n",
       "31880      Q940448         Kevin Coyne        []       []        0  \n",
       "936387   Q95123487        Rudolf Kepka        []       []        0  \n",
       "8356939  Q30319189          Cody Veith        []       []        0  \n",
       "6909423   Q4217639                None        []       []        0  "
      ]
     },
     "execution_count": 24,
     "metadata": {},
     "output_type": "execute_result"
    }
   ],
   "source": [
    "df_qid.sample(10)"
   ]
  },
  {
   "cell_type": "markdown",
   "id": "6d57c85c-a06a-4aea-b348-04e833ea212e",
   "metadata": {},
   "source": [
    "## *Filter the data*"
   ]
  },
  {
   "cell_type": "markdown",
   "id": "bdbf4994-8b0c-4e53-84bc-91310c58d89a",
   "metadata": {},
   "source": [
    "As a good data scientist, the first thing to do is to clean up the data. In order to do that, we will first check for missing rows. Then we will replace the date of birth by the year of birth. Lastly, we will filter our speakers in order to keep only the ones whose age is bewteen 12 and 100 . (As climate change is a relatively new topic, and we do not consider quotes from speakers that are younger then 12 years old)."
   ]
  },
  {
   "cell_type": "code",
   "execution_count": 27,
   "id": "a9ec8a2f-f897-4345-8d7d-64e2795a7151",
   "metadata": {},
   "outputs": [
    {
     "name": "stdout",
     "output_type": "stream",
     "text": [
      "Is there some missing rows ? False \n"
     ]
    }
   ],
   "source": [
    "print(\"Is there some missing rows ? {} \".format(np.array([df_qid.drop(columns=['label', 'id']).isnull().any(axis=1)]).all()))"
   ]
  },
  {
   "cell_type": "code",
   "execution_count": 29,
   "id": "bccd9910-5ba4-408a-9133-54d8f6e6cbb9",
   "metadata": {},
   "outputs": [
    {
     "name": "stderr",
     "output_type": "stream",
     "text": [
      "/var/folders/dp/xm3y4vf11sd5mzn0yd618jhm0000gn/T/ipykernel_2329/189858043.py:3: SettingWithCopyWarning: \n",
      "A value is trying to be set on a copy of a slice from a DataFrame.\n",
      "Try using .loc[row_indexer,col_indexer] = value instead\n",
      "\n",
      "See the caveats in the documentation: https://pandas.pydata.org/pandas-docs/stable/user_guide/indexing.html#returning-a-view-versus-a-copy\n",
      "  df_qid['date_of_birth']=df_qid['date_of_birth'].astype(int)\n"
     ]
    }
   ],
   "source": [
    "df_qid.date_of_birth=df_qid.fillna(0).date_of_birth.map(lambda y : str(y).split(\"-\")[0][3:])#Keep only the year of birth.\n",
    "df_qid=df_qid.loc[df_qid['date_of_birth'].apply(lambda x: x!= '' and int(x)>1920 and int(x)< 2008)]#Keep only speakers born after 1920.\n",
    "df_qid['date_of_birth']=df_qid['date_of_birth'].astype(int)"
   ]
  },
  {
   "cell_type": "code",
   "execution_count": 30,
   "id": "992d99e3-3fe9-44f6-9de5-12ffada085bc",
   "metadata": {},
   "outputs": [
    {
     "data": {
      "text/html": [
       "<div>\n",
       "<style scoped>\n",
       "    .dataframe tbody tr th:only-of-type {\n",
       "        vertical-align: middle;\n",
       "    }\n",
       "\n",
       "    .dataframe tbody tr th {\n",
       "        vertical-align: top;\n",
       "    }\n",
       "\n",
       "    .dataframe thead th {\n",
       "        text-align: right;\n",
       "    }\n",
       "</style>\n",
       "<table border=\"1\" class=\"dataframe\">\n",
       "  <thead>\n",
       "    <tr style=\"text-align: right;\">\n",
       "      <th></th>\n",
       "      <th>date_of_birth</th>\n",
       "      <th>nationality</th>\n",
       "      <th>gender</th>\n",
       "      <th>ethnic_group</th>\n",
       "      <th>occupation</th>\n",
       "      <th>party</th>\n",
       "      <th>academic_degree</th>\n",
       "      <th>id</th>\n",
       "      <th>label</th>\n",
       "      <th>candidacy</th>\n",
       "      <th>religion</th>\n",
       "      <th>climate</th>\n",
       "    </tr>\n",
       "  </thead>\n",
       "  <tbody>\n",
       "    <tr>\n",
       "      <th>3095739</th>\n",
       "      <td>1983</td>\n",
       "      <td>[]</td>\n",
       "      <td>[]</td>\n",
       "      <td>[]</td>\n",
       "      <td>[botanist]</td>\n",
       "      <td>[]</td>\n",
       "      <td>[]</td>\n",
       "      <td>Q88851348</td>\n",
       "      <td>Surya Shekhawat</td>\n",
       "      <td>[]</td>\n",
       "      <td>[]</td>\n",
       "      <td>0</td>\n",
       "    </tr>\n",
       "    <tr>\n",
       "      <th>3423873</th>\n",
       "      <td>1956</td>\n",
       "      <td>[United States of America, Costa Rica]</td>\n",
       "      <td>[male]</td>\n",
       "      <td>[]</td>\n",
       "      <td>[cross-country skier, alpine skier]</td>\n",
       "      <td>[]</td>\n",
       "      <td>[]</td>\n",
       "      <td>Q715323</td>\n",
       "      <td>Arturo Kinch</td>\n",
       "      <td>[]</td>\n",
       "      <td>[]</td>\n",
       "      <td>0</td>\n",
       "    </tr>\n",
       "    <tr>\n",
       "      <th>3919841</th>\n",
       "      <td>1947</td>\n",
       "      <td>[]</td>\n",
       "      <td>[male]</td>\n",
       "      <td>[]</td>\n",
       "      <td>[economist]</td>\n",
       "      <td>[]</td>\n",
       "      <td>[Doctor of Economics]</td>\n",
       "      <td>Q51120611</td>\n",
       "      <td>Arkadiy Ismailovich Sukhorukov</td>\n",
       "      <td>[]</td>\n",
       "      <td>[]</td>\n",
       "      <td>0</td>\n",
       "    </tr>\n",
       "    <tr>\n",
       "      <th>7164526</th>\n",
       "      <td>1938</td>\n",
       "      <td>[]</td>\n",
       "      <td>[male]</td>\n",
       "      <td>[]</td>\n",
       "      <td>[painter]</td>\n",
       "      <td>[]</td>\n",
       "      <td>[]</td>\n",
       "      <td>Q21464537</td>\n",
       "      <td>Philip Darby</td>\n",
       "      <td>[]</td>\n",
       "      <td>[]</td>\n",
       "      <td>0</td>\n",
       "    </tr>\n",
       "    <tr>\n",
       "      <th>7796579</th>\n",
       "      <td>2003</td>\n",
       "      <td>[Germany]</td>\n",
       "      <td>[female]</td>\n",
       "      <td>[]</td>\n",
       "      <td>[association football player]</td>\n",
       "      <td>[]</td>\n",
       "      <td>[]</td>\n",
       "      <td>Q97750507</td>\n",
       "      <td>Clara Funk</td>\n",
       "      <td>[]</td>\n",
       "      <td>[]</td>\n",
       "      <td>0</td>\n",
       "    </tr>\n",
       "  </tbody>\n",
       "</table>\n",
       "</div>"
      ],
      "text/plain": [
       "         date_of_birth                             nationality    gender  \\\n",
       "3095739           1983                                      []        []   \n",
       "3423873           1956  [United States of America, Costa Rica]    [male]   \n",
       "3919841           1947                                      []    [male]   \n",
       "7164526           1938                                      []    [male]   \n",
       "7796579           2003                               [Germany]  [female]   \n",
       "\n",
       "        ethnic_group                           occupation party  \\\n",
       "3095739           []                           [botanist]    []   \n",
       "3423873           []  [cross-country skier, alpine skier]    []   \n",
       "3919841           []                          [economist]    []   \n",
       "7164526           []                            [painter]    []   \n",
       "7796579           []        [association football player]    []   \n",
       "\n",
       "               academic_degree         id                           label  \\\n",
       "3095739                     []  Q88851348                 Surya Shekhawat   \n",
       "3423873                     []    Q715323                    Arturo Kinch   \n",
       "3919841  [Doctor of Economics]  Q51120611  Arkadiy Ismailovich Sukhorukov   \n",
       "7164526                     []  Q21464537                    Philip Darby   \n",
       "7796579                     []  Q97750507                      Clara Funk   \n",
       "\n",
       "        candidacy religion  climate  \n",
       "3095739        []       []        0  \n",
       "3423873        []       []        0  \n",
       "3919841        []       []        0  \n",
       "7164526        []       []        0  \n",
       "7796579        []       []        0  "
      ]
     },
     "execution_count": 30,
     "metadata": {},
     "output_type": "execute_result"
    }
   ],
   "source": [
    "df_qid.sample(5)"
   ]
  },
  {
   "cell_type": "markdown",
   "id": "dbe0b01d-0224-4cae-9087-140a1fec969d",
   "metadata": {},
   "source": [
    "#### *Load resulting data into a csv compressed filled*"
   ]
  },
  {
   "cell_type": "code",
   "execution_count": 31,
   "id": "5b1247fd-5a16-4322-8144-636283075105",
   "metadata": {},
   "outputs": [],
   "source": [
    "df_qid.to_csv(\"data/speaker_attribute.bz2\", compression = 'bz2', index=False)"
   ]
  }
 ],
 "metadata": {
  "kernelspec": {
   "display_name": "Python 3 (ipykernel)",
   "language": "python",
   "name": "python3"
  },
  "language_info": {
   "codemirror_mode": {
    "name": "ipython",
    "version": 3
   },
   "file_extension": ".py",
   "mimetype": "text/x-python",
   "name": "python",
   "nbconvert_exporter": "python",
   "pygments_lexer": "ipython3",
   "version": "3.8.11"
  }
 },
 "nbformat": 4,
 "nbformat_minor": 5
}
