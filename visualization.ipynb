{
 "cells": [
  {
   "cell_type": "code",
   "execution_count": 2,
   "id": "0c4f3bfb-1250-4fe3-9fd7-6c5ccc66a943",
   "metadata": {},
   "outputs": [],
   "source": [
    "import numpy as np\n",
    "import pandas as pd\n",
    "\n",
    "import matplotlib.pyplot as plt\n",
    "import seaborn as sns\n",
    "\n",
    "import ast\n",
    "from ast import literal_eval\n",
    "\n",
    "from sklearn.ensemble import GradientBoostingClassifier\n",
    "from sklearn.ensemble import RandomForestClassifier\n",
    "from sklearn.dummy import DummyClassifier\n",
    "from sklearn.metrics import classification_report\n",
    "from imblearn.pipeline import Pipeline\n",
    "from sklearn.model_selection import train_test_split, GridSearchCV\n",
    "from sklearn.linear_model import LogisticRegression\n",
    "\n",
    "\n",
    "\n",
    "from datetime import datetime"
   ]
  },
  {
   "cell_type": "markdown",
   "id": "661de6df-3ac3-4334-89f1-9653b26ff97d",
   "metadata": {
    "tags": []
   },
   "source": [
    "# ORGANISATION\n",
    "- classification - alicia / maria \n",
    "- temporal evolution - anissa \n",
    "- majoritiy representation - virginie\n",
    "- climate speaking proprotion - virginie \n",
    "- sentiment analysis - alicia / maria \n",
    "- readme data,set  - virginie\n",
    "- readme methodes - alicia / maria \n",
    "- data story (site web) - anissa"
   ]
  },
  {
   "cell_type": "markdown",
   "id": "e49d1f72-7149-4a64-b458-c1c9aa4d4623",
   "metadata": {},
   "source": [
    "- [doing] CLASSIFICATION - Based on the evolution of the profile of a person talking about climate in the media, can we predict what characteristics will a climate-involved person have in the future ? \n",
    " \n",
    " - [doing] TEMPORAL EVOLUTION - Is there any temporal evolution in the mediatic coverage of the climate crisis ? If so, does it correlate with specific events ? \n",
    " \n",
    " - [doing] MAJORITY REPRESENTATION - Who are the top 10 people that talks the most about climate change over the year ? Does it show an evolution in the general opinions made publicly avaiblable by mainstream media ? What is the current typical profile of a person talking about climate in the media ? Is it the same for other topic ? (Comparaison entre les caractéristiques de personnes les plus représentées dans le QuoteBank vs celles qui parlent du climat) (comparaison des nationalités avec une carte du monde) \n",
    " \n",
    " - [x] CLIMATE SPEAKING PROPORTION - Are some communities excluded from the mediatic discussion surround climate change ? (Comparer la proportion de chacun des communautés dans QB en général avec la propotion des communautés dans les phrases qui parlent du climat) - plot climate vs non climate \n",
    " \n",
    " - [x] NLP TOPIC CLASSIFICATION - What is the most represented climate crisis-related topic along the years ? Does it show an evolution in the general opinions made publicly avaiblable by mainstream media ? (Trouver les mots reliés au climat les plus représentés dans les quotes chaque années) \n",
    "\n",
    "- [x] SENTIMENT ANALYSIS - Vander Analysis among people that talks about climate"
   ]
  },
  {
   "cell_type": "markdown",
   "id": "140ddab1-34ea-4f5f-8406-bedf453d2ab0",
   "metadata": {
    "tags": []
   },
   "source": [
    "# A RUN POUR AVOIR SUBDATA (Year-month)"
   ]
  },
  {
   "cell_type": "code",
   "execution_count": 2,
   "id": "96facbb7-7c5f-453b-a330-31215b3e4f8f",
   "metadata": {},
   "outputs": [],
   "source": [
    "dico_clean={} \n",
    "length = 0\n",
    "for date in [2020, 2019, 2018, 2017, 2016, 2015]:\n",
    "    dico_clean[date] = pd.read_csv(f'data/clean_quotes-{date}.bz2', compression='bz2')\n",
    "    length += len(dico_clean[date]) #The length is used here to obtain the total number of quotes."
   ]
  },
  {
   "cell_type": "code",
   "execution_count": 3,
   "id": "42406e88-3bcc-4c91-8be3-eb06bbd3178d",
   "metadata": {},
   "outputs": [],
   "source": [
    "subdata=pd.DataFrame()\n",
    "for years, quotes in dico_clean.items() : \n",
    "    subdata = pd.concat([subdata, quotes])"
   ]
  },
  {
   "cell_type": "code",
   "execution_count": 4,
   "id": "f8c86d71-8c5c-4868-bdc0-fb09aa15ea42",
   "metadata": {},
   "outputs": [],
   "source": [
    "subdata.date.map(lambda y : datetime.strptime(y, '%Y-%m-%d %H:%M:%S'))\n",
    "subdata.sort_values(by='date', inplace=True)\n",
    "subdata['date'] = pd.to_datetime(subdata['date']).dt.strftime('%Y-%m')"
   ]
  },
  {
   "cell_type": "markdown",
   "id": "c652e95a-f8f3-4f71-bae9-e8b756e72bdb",
   "metadata": {
    "tags": []
   },
   "source": [
    "# I- CLASSIFICATION - ALICIA ET MARIA"
   ]
  },
  {
   "cell_type": "code",
   "execution_count": null,
   "id": "44db0915-8ec0-406f-9333-8452f90ad8fe",
   "metadata": {},
   "outputs": [],
   "source": [
    "#Run virginie"
   ]
  },
  {
   "cell_type": "markdown",
   "id": "6e8bd3cc-4953-4691-819b-ee8bd37bac8f",
   "metadata": {
    "tags": []
   },
   "source": [
    "## *Methods*"
   ]
  },
  {
   "cell_type": "code",
   "execution_count": 76,
   "id": "6c144b59-e13e-4bd7-82ca-07886bfa1915",
   "metadata": {},
   "outputs": [],
   "source": [
    "def compute_confusion_matrix(true_label, prediction_proba, decision_threshold=0.5): \n",
    "    \n",
    "    predict_label = (prediction_proba[:,1]>decision_threshold).astype(int)   \n",
    "                                                                                                                       \n",
    "    TP = np.sum(np.logical_and(predict_label==1, true_label==1))\n",
    "    TN = np.sum(np.logical_and(predict_label==0, true_label==0))\n",
    "    FP = np.sum(np.logical_and(predict_label==1, true_label==0))\n",
    "    FN = np.sum(np.logical_and(predict_label==0, true_label==1))\n",
    "    \n",
    "    confusion_matrix = np.asarray([[TP, FP],\n",
    "                                    [FN, TN]])\n",
    "    return confusion_matrix\n",
    "\n",
    "def plot_confusion_matrix(confusion_matrix):\n",
    "    [[TP, FP],[FN, TN]] = confusion_matrix\n",
    "    label = np.asarray([['TP {}'.format(TP), 'FP {}'.format(FP)],\n",
    "                        ['FN {}'.format(FN), 'TN {}'.format(TN)]])\n",
    "    \n",
    "    df_cm = pd.DataFrame(confusion_matrix, index=['Yes', 'No'], columns=['Positive', 'Negative']) \n",
    "    \n",
    "    return sns.heatmap(df_cm, cmap='YlOrRd', annot=label, annot_kws={\"size\": 16}, cbar=False, fmt='')\n",
    "\n",
    "def compute_all_score(confusion_matrix, t=0.5):\n",
    "    [[TP, FP],[FN, TN]] = confusion_matrix.astype(float)\n",
    "    \n",
    "    accuracy =  (TP+TN)/np.sum(confusion_matrix)\n",
    "    \n",
    "    precision_positive = TP/(TP+FP) if (TP+FP) !=0 else np.nan\n",
    "    precision_negative = TN/(TN+FN) if (TN+FN) !=0 else np.nan\n",
    "    \n",
    "    recall_positive = TP/(TP+FN) if (TP+FN) !=0 else np.nan\n",
    "    recall_negative = TN/(TN+FP) if (TN+FP) !=0 else np.nan\n",
    "\n",
    "    F1_score_positive = 2 *(precision_positive*recall_positive)/(precision_positive+recall_positive) if (precision_positive+recall_positive) !=0 else np.nan\n",
    "    F1_score_negative = 2 *(precision_negative*recall_negative)/(precision_negative+recall_negative) if (precision_negative+recall_negative) !=0 else np.nan\n",
    "\n",
    "    return [t, accuracy, precision_positive, recall_positive, F1_score_positive, precision_negative, recall_negative, F1_score_negative]"
   ]
  },
  {
   "cell_type": "code",
   "execution_count": 41,
   "id": "e9431b30-2631-4700-8204-1b3be8bc7776",
   "metadata": {},
   "outputs": [],
   "source": [
    "def accuracy (matrix_confusion) : \n",
    "    \n",
    "    [t, accuracy, precision_positive, recall_positive, F1_score_positive, \\\n",
    "    precision_negative, recall_negative, F1_score_negative] = compute_all_score(matrix_confusion)\n",
    "    print(\"The accuracy of this model is {0:1.3f}\".format(accuracy))\n",
    "    print(\"For the positive case, the precision is {0:1.3f}, the recall is {1:1.3f} and the F1 score is {2:1.3f}\"\\\n",
    "      .format(precision_positive, recall_positive, F1_score_positive))\n",
    "    print(\"For the negative case, the precision is {0:1.3f}, the recall is {1:1.3f} and the F1 score is {2:1.3f}\"\\\n",
    "      .format(precision_negative, recall_negative, F1_score_negative))\n",
    "    "
   ]
  },
  {
   "cell_type": "code",
   "execution_count": 42,
   "id": "ec062c8c-824d-46cb-8b4e-5b18e2a3f239",
   "metadata": {},
   "outputs": [],
   "source": [
    "def features_imp (train_f, params) :\n",
    "    tmp = []\n",
    "    for name, value in zip(train_f, params):\n",
    "        tmp.append({\"name\": name, \"value\": value})\n",
    "\n",
    "    features_coef = pd.DataFrame(tmp).sort_values(\"value\")\n",
    "    features_coef.head() # visualise first coefficient\n",
    "    \n",
    "    plt.subplots(figsize=(5,7))\n",
    "    plt.barh(features_coef.name, features_coef.value, alpha=0.6)"
   ]
  },
  {
   "cell_type": "markdown",
   "id": "35c2b4da-7af6-4dfa-bfe2-b003dcb7b40c",
   "metadata": {},
   "source": [
    "## *Data preparation*"
   ]
  },
  {
   "cell_type": "code",
   "execution_count": 43,
   "id": "c53b9f25-9410-4348-8e61-d0efd4129205",
   "metadata": {},
   "outputs": [],
   "source": [
    "data_original = pd.read_csv(\"data/one_hot.bz2\", compression = 'bz2') #load the data one hot encoding"
   ]
  },
  {
   "cell_type": "code",
   "execution_count": 44,
   "id": "846748ed-b92c-48b4-b631-bd2c63126745",
   "metadata": {},
   "outputs": [],
   "source": [
    "#method to split our data\n",
    "def split_set(data_to_split, ratio=0.8):\n",
    "    mask = np.random.rand(len(data_to_split)) < ratio\n",
    "    return [data_to_split[mask].reset_index(drop=True), data_to_split[~mask].reset_index(drop=True)]"
   ]
  },
  {
   "cell_type": "code",
   "execution_count": 45,
   "id": "174e0351-506b-41dc-85a4-f35fbaac8b8e",
   "metadata": {},
   "outputs": [
    {
     "data": {
      "text/html": [
       "<div>\n",
       "<style scoped>\n",
       "    .dataframe tbody tr th:only-of-type {\n",
       "        vertical-align: middle;\n",
       "    }\n",
       "\n",
       "    .dataframe tbody tr th {\n",
       "        vertical-align: top;\n",
       "    }\n",
       "\n",
       "    .dataframe thead th {\n",
       "        text-align: right;\n",
       "    }\n",
       "</style>\n",
       "<table border=\"1\" class=\"dataframe\">\n",
       "  <thead>\n",
       "    <tr style=\"text-align: right;\">\n",
       "      <th></th>\n",
       "      <th>date_of_birth</th>\n",
       "      <th>climate</th>\n",
       "      <th>['association football player']</th>\n",
       "      <th>['politician']</th>\n",
       "      <th>['actor']</th>\n",
       "      <th>['writer']</th>\n",
       "      <th>['researcher']</th>\n",
       "      <th>['painter']</th>\n",
       "      <th>['visual artist']</th>\n",
       "      <th>['journalist']</th>\n",
       "      <th>...</th>\n",
       "      <th>['transgender female', 'male']</th>\n",
       "      <th>['transgender female', 'female']</th>\n",
       "      <th>['intersex', 'non-binary']</th>\n",
       "      <th>['genderqueer']</th>\n",
       "      <th>['cisgender female']</th>\n",
       "      <th>['intersex', 'female']</th>\n",
       "      <th>['male', 'transgender female']</th>\n",
       "      <th>['female', 'non-binary']</th>\n",
       "      <th>['transgender person']</th>\n",
       "      <th>['cisgender male']</th>\n",
       "    </tr>\n",
       "  </thead>\n",
       "  <tbody>\n",
       "    <tr>\n",
       "      <th>0</th>\n",
       "      <td>1952</td>\n",
       "      <td>0</td>\n",
       "      <td>0</td>\n",
       "      <td>0</td>\n",
       "      <td>0</td>\n",
       "      <td>0</td>\n",
       "      <td>0</td>\n",
       "      <td>0</td>\n",
       "      <td>0</td>\n",
       "      <td>0</td>\n",
       "      <td>...</td>\n",
       "      <td>0</td>\n",
       "      <td>0</td>\n",
       "      <td>0</td>\n",
       "      <td>0</td>\n",
       "      <td>0</td>\n",
       "      <td>0</td>\n",
       "      <td>0</td>\n",
       "      <td>0</td>\n",
       "      <td>0</td>\n",
       "      <td>0</td>\n",
       "    </tr>\n",
       "    <tr>\n",
       "      <th>1</th>\n",
       "      <td>1946</td>\n",
       "      <td>1</td>\n",
       "      <td>0</td>\n",
       "      <td>0</td>\n",
       "      <td>0</td>\n",
       "      <td>0</td>\n",
       "      <td>0</td>\n",
       "      <td>0</td>\n",
       "      <td>0</td>\n",
       "      <td>0</td>\n",
       "      <td>...</td>\n",
       "      <td>0</td>\n",
       "      <td>0</td>\n",
       "      <td>0</td>\n",
       "      <td>0</td>\n",
       "      <td>0</td>\n",
       "      <td>0</td>\n",
       "      <td>0</td>\n",
       "      <td>0</td>\n",
       "      <td>0</td>\n",
       "      <td>0</td>\n",
       "    </tr>\n",
       "    <tr>\n",
       "      <th>2</th>\n",
       "      <td>1945</td>\n",
       "      <td>0</td>\n",
       "      <td>0</td>\n",
       "      <td>0</td>\n",
       "      <td>0</td>\n",
       "      <td>0</td>\n",
       "      <td>0</td>\n",
       "      <td>0</td>\n",
       "      <td>0</td>\n",
       "      <td>0</td>\n",
       "      <td>...</td>\n",
       "      <td>0</td>\n",
       "      <td>0</td>\n",
       "      <td>0</td>\n",
       "      <td>0</td>\n",
       "      <td>0</td>\n",
       "      <td>0</td>\n",
       "      <td>0</td>\n",
       "      <td>0</td>\n",
       "      <td>0</td>\n",
       "      <td>0</td>\n",
       "    </tr>\n",
       "  </tbody>\n",
       "</table>\n",
       "<p>3 rows × 142 columns</p>\n",
       "</div>"
      ],
      "text/plain": [
       "   date_of_birth  climate  ['association football player']  ['politician']  \\\n",
       "0           1952        0                                0               0   \n",
       "1           1946        1                                0               0   \n",
       "2           1945        0                                0               0   \n",
       "\n",
       "   ['actor']  ['writer']  ['researcher']  ['painter']  ['visual artist']  \\\n",
       "0          0           0               0            0                  0   \n",
       "1          0           0               0            0                  0   \n",
       "2          0           0               0            0                  0   \n",
       "\n",
       "   ['journalist']  ...  ['transgender female', 'male']  \\\n",
       "0               0  ...                               0   \n",
       "1               0  ...                               0   \n",
       "2               0  ...                               0   \n",
       "\n",
       "   ['transgender female', 'female']  ['intersex', 'non-binary']  \\\n",
       "0                                 0                           0   \n",
       "1                                 0                           0   \n",
       "2                                 0                           0   \n",
       "\n",
       "   ['genderqueer']  ['cisgender female']  ['intersex', 'female']  \\\n",
       "0                0                     0                       0   \n",
       "1                0                     0                       0   \n",
       "2                0                     0                       0   \n",
       "\n",
       "   ['male', 'transgender female']  ['female', 'non-binary']  \\\n",
       "0                               0                         0   \n",
       "1                               0                         0   \n",
       "2                               0                         0   \n",
       "\n",
       "   ['transgender person']  ['cisgender male']  \n",
       "0                       0                   0  \n",
       "1                       0                   0  \n",
       "2                       0                   0  \n",
       "\n",
       "[3 rows x 142 columns]"
      ]
     },
     "execution_count": 45,
     "metadata": {},
     "output_type": "execute_result"
    }
   ],
   "source": [
    "data_features = data_original.copy()\n",
    "data_features.head(3)"
   ]
  },
  {
   "cell_type": "code",
   "execution_count": 47,
   "id": "eb8b365f-0b3f-480a-9710-1f2a40dee7df",
   "metadata": {},
   "outputs": [],
   "source": [
    "[train, test] = split_set(data_features)"
   ]
  },
  {
   "cell_type": "code",
   "execution_count": 48,
   "id": "1230bcd1-652f-42b8-897d-d0268475bd70",
   "metadata": {},
   "outputs": [
    {
     "name": "stdout",
     "output_type": "stream",
     "text": [
      "Length of the train dataset : 2315662\n",
      "Length of the test dataset : 579374\n"
     ]
    }
   ],
   "source": [
    "train_label=train.climate\n",
    "train_features = train.drop('climate', axis=1)\n",
    "print('Length of the train dataset : {}'.format(len(train)))\n",
    "\n",
    "test_label=test.climate\n",
    "test_features = test.drop('climate', axis=1)\n",
    "print('Length of the test dataset : {}'.format(len(test)))"
   ]
  },
  {
   "cell_type": "code",
   "execution_count": 49,
   "id": "30b8b7cc-8649-462f-8b5e-3b48603b0709",
   "metadata": {},
   "outputs": [
    {
     "name": "stderr",
     "output_type": "stream",
     "text": [
      "/var/folders/dp/xm3y4vf11sd5mzn0yd618jhm0000gn/T/ipykernel_3964/175649817.py:6: PerformanceWarning: DataFrame is highly fragmented.  This is usually the result of calling `frame.insert` many times, which has poor performance.  Consider joining all columns at once using pd.concat(axis=1) instead.  To get a de-fragmented frame, use `newframe = frame.copy()`\n",
      "  train_features_std[c] = (train_features[c]-means[c])/stddevs[c]\n",
      "/var/folders/dp/xm3y4vf11sd5mzn0yd618jhm0000gn/T/ipykernel_3964/175649817.py:11: PerformanceWarning: DataFrame is highly fragmented.  This is usually the result of calling `frame.insert` many times, which has poor performance.  Consider joining all columns at once using pd.concat(axis=1) instead.  To get a de-fragmented frame, use `newframe = frame.copy()`\n",
      "  test_features_std[c] = (test_features[c]-means[c])/stddevs[c]\n"
     ]
    }
   ],
   "source": [
    "means = train_features.mean()\n",
    "stddevs = train_features.std()\n",
    "\n",
    "train_features_std = pd.DataFrame()\n",
    "for c in train_features.columns:\n",
    "    train_features_std[c] = (train_features[c]-means[c])/stddevs[c]\n",
    "\n",
    "# Use the mean and stddev of the training set\n",
    "test_features_std = pd.DataFrame()\n",
    "for c in test_features.columns:\n",
    "    test_features_std[c] = (test_features[c]-means[c])/stddevs[c]"
   ]
  },
  {
   "cell_type": "code",
   "execution_count": 53,
   "id": "6590c778-a931-41ab-a077-fb09943c9273",
   "metadata": {},
   "outputs": [],
   "source": [
    "train = [train_features, train_features_std]\n",
    "test =[test_features, test_features_std]"
   ]
  },
  {
   "cell_type": "code",
   "execution_count": null,
   "id": "3e23f89b-72b7-4e78-822f-d3ca97b5c854",
   "metadata": {},
   "outputs": [],
   "source": [
    "#fin run virginie"
   ]
  },
  {
   "cell_type": "markdown",
   "id": "3c6b43b0-7251-4723-8ea8-37106f65f9ac",
   "metadata": {},
   "source": [
    "#### 1- Baseline Classifier \n",
    "A dummy classifier is basically a classifier which doesn’t even look at the training data while classification, but follows just a rule of thumb or strategy that we instruct it to use while classifying. It is done by including the strategy we want in the strategy parameter of the DummyClassifier. In the above case, we used “most frequent”. At the end of the day, we use it as a baseline and expect our models to classify better than this baseline. It is based on an obvious notion that we want our classifier which is based on an analytic approach to do better than random guessing approach."
   ]
  },
  {
   "cell_type": "code",
   "execution_count": 83,
   "id": "b6ab6df5-e831-46f4-80c1-494dcb75a493",
   "metadata": {},
   "outputs": [
    {
     "name": "stdout",
     "output_type": "stream",
     "text": [
      "For non standarized\n",
      "The accuracy of this model is 0.932\n",
      "For the positive case, the precision is nan, the recall is 0.000 and the F1 score is nan\n",
      "For the negative case, the precision is 0.932, the recall is 1.000 and the F1 score is 0.965\n",
      "For standarized\n",
      "The accuracy of this model is 0.932\n",
      "For the positive case, the precision is nan, the recall is 0.000 and the F1 score is nan\n",
      "For the negative case, the precision is 0.932, the recall is 1.000 and the F1 score is 0.965\n"
     ]
    },
    {
     "data": {
      "image/png": "[encoded data removed]",
      "text/plain": [
       "<Figure size 288x216 with 1 Axes>"
      ]
     },
     "metadata": {
      "needs_background": "light"
     },
     "output_type": "display_data"
    },
    {
     "data": {
      "image/png": "[encoded data removed]",
      "text/plain": [
       "<Figure size 360x504 with 1 Axes>"
      ]
     },
     "metadata": {
      "needs_background": "light"
     },
     "output_type": "display_data"
    },
    {
     "data": {
      "image/png": "[encoded data removed]",
      "text/plain": [
       "<Figure size 288x216 with 1 Axes>"
      ]
     },
     "metadata": {
      "needs_background": "light"
     },
     "output_type": "display_data"
    },
    {
     "data": {
      "image/png": "[encoded data removed]",
      "text/plain": [
       "<Figure size 360x504 with 1 Axes>"
      ]
     },
     "metadata": {
      "needs_background": "light"
     },
     "output_type": "display_data"
    }
   ],
   "source": [
    "name = ['non standarized', 'standarized']\n",
    "\n",
    "for idx, data in enumerate(train) : \n",
    "    \n",
    "    dummy_clf = DummyClassifier(strategy=\"most_frequent\") #The classifier always predicts the most frequent class label in the training data.\n",
    "    dummy_clf.fit(data, train_label) #fit the model\n",
    "    prediction_proba=dummy_clf.predict_proba(test[idx]) \n",
    "    \n",
    "    confusion_matrix_05_baseline = compute_confusion_matrix(test_label, prediction_proba, 0.5)\n",
    "    plt.figure(figsize = (4,3)) \n",
    "    ax = plot_confusion_matrix(confusion_matrix_05_baseline)\n",
    "    #setting axis\n",
    "    plt.xlabel('Actual')\n",
    "    plt.ylabel('Predicted')\n",
    "    ax.set(title = 'Confusion Matrix for {}'.format(name[idx]))\n",
    "    \n",
    "    print('For {}'.format(name[idx]))\n",
    "    accuracy (confusion_matrix_05_baseline)\n",
    "    \n",
    "    features_imp(data.columns, dummy_clf.get_params())\n",
    "    "
   ]
  },
  {
   "cell_type": "markdown",
   "id": "7f79371b-f7fe-4169-837f-e4b579a58082",
   "metadata": {
    "tags": []
   },
   "source": [
    "### 2 - Logistic Regression"
   ]
  },
  {
   "cell_type": "markdown",
   "id": "0aa435ff-6416-4d98-8810-dac43898ee22",
   "metadata": {},
   "source": [
    "#### 2.1 - standardized vs not"
   ]
  },
  {
   "cell_type": "code",
   "execution_count": null,
   "id": "6885e9e5-9237-4e39-9329-49d6c7bb74cc",
   "metadata": {},
   "outputs": [],
   "source": [
    "#A Run Virignie"
   ]
  },
  {
   "cell_type": "code",
   "execution_count": null,
   "id": "b21e90ca-cb05-48ff-8e3d-d34134e2730d",
   "metadata": {},
   "outputs": [
    {
     "name": "stdout",
     "output_type": "stream",
     "text": [
      "Fitting 5 folds for each of 21 candidates, totalling 105 fits\n"
     ]
    }
   ],
   "source": [
    "pipe = Pipeline([('logistic',LogisticRegression() ) ])\n",
    "\n",
    "\n",
    "\n",
    "parameters = { \n",
    "              'logistic__penalty' : ['l1', 'l2', 'elasticnet'],\n",
    "              'logistic__C' : [0.01, 0.1, 1, 10, 100, 1000, 10000] ,\n",
    "              'logistic__solver' : ['liblinear'], \n",
    "             }\n",
    "log = GridSearchCV(pipe, parameters, cv=5, scoring='roc_auc', n_jobs=-1, verbose=1)\n",
    "    \n",
    "\n",
    "for idx, data in enumerate(train): \n",
    "\n",
    "    grid_result = log.fit(data, train_label) \n",
    "    print('for {} features'.format(name[idx]))\n",
    "    print('Best Score: ', grid_result.best_score_) \n",
    "    print('Best Params: ', grid_result.best_params_)"
   ]
  },
  {
   "cell_type": "code",
   "execution_count": null,
   "id": "9a54344c-f002-467c-908b-7c372254e5b4",
   "metadata": {},
   "outputs": [],
   "source": [
    "#fin du Run Virginie"
   ]
  },
  {
   "cell_type": "markdown",
   "id": "547d466a-2dbd-4b09-bce4-8e802b1a58df",
   "metadata": {},
   "source": [
    "*Visualisation of the best selected model :*"
   ]
  },
  {
   "cell_type": "code",
   "execution_count": null,
   "id": "e00f581f-19b8-4269-852e-eeb6b9653654",
   "metadata": {},
   "outputs": [],
   "source": [
    "logistic = LogisticRegression(solver='lbfgs', max_iter=10000)\n",
    "logistic.fit(train_features_std,train_label)\n",
    "prediction_proba = logistic.predict_proba(test_features_std)"
   ]
  },
  {
   "cell_type": "code",
   "execution_count": null,
   "id": "2382230b-54fb-4286-8b7a-e321a8ad6a24",
   "metadata": {},
   "outputs": [],
   "source": [
    "for idx, data in enumerate(train) : \n",
    "    \n",
    "    log_clf = LogisticRegression(solver='lbfgs', max_iter=10000)\n",
    "    log_clf.fit(data, train_label) #fit the model\n",
    "    prediction_proba=log_clf.predict_proba(test[idx]) \n",
    "    \n",
    "    confusion_matrix_05_log = compute_confusion_matrix(test_label, prediction_proba, 0.5)\n",
    "    plt.figure(figsize = (4,3)) \n",
    "    ax = plot_confusion_matrix(confusion_matrix_05_log)\n",
    "    #setting axis\n",
    "    plt.xlabel('Actual')\n",
    "    plt.ylabel('Predicted')\n",
    "    ax.set(title = 'Confusion Matrix for {}'.format(name[idx]))\n",
    "    \n",
    "    print('For {}'.format(name[idx]))\n",
    "    accuracy (confusion_matrix_05_log)\n",
    "    \n",
    "    features_imp(data.columns, log_clf.coef_[0])\n",
    "    "
   ]
  },
  {
   "cell_type": "markdown",
   "id": "b5833f1a-5b37-4c67-8d3e-99ff54a0a0e6",
   "metadata": {},
   "source": [
    "#### 2.2 - Remove features vs not "
   ]
  },
  {
   "cell_type": "markdown",
   "id": "4ba52a1f-ea3f-4413-aeb1-80ccc8f45f58",
   "metadata": {
    "tags": []
   },
   "source": [
    "### 3 - Random forest "
   ]
  },
  {
   "cell_type": "markdown",
   "id": "4dc116d8-e7fc-47d4-8c95-a7a4017c11be",
   "metadata": {},
   "source": [
    "#### 3.1 - standardized vs not"
   ]
  },
  {
   "cell_type": "code",
   "execution_count": null,
   "id": "a32d488b-fe35-4b9d-bb8c-6137e109ef8d",
   "metadata": {},
   "outputs": [],
   "source": [
    "#A run Virginie"
   ]
  },
  {
   "cell_type": "code",
   "execution_count": null,
   "id": "79eb9b3d-dc9c-4162-891d-5983876f6f4d",
   "metadata": {
    "tags": []
   },
   "outputs": [],
   "source": [
    "pipe = Pipeline([  \n",
    "                 ('random_forest', RandomForestClassifier()),  \n",
    "                 ])\n",
    "\n",
    "parameters = { \n",
    "              'random_forest__n_estimators': [50, 100, 200, 500],    \n",
    "              'random_forest__max_depth': [5, 10],         \n",
    "              'random_forest__random_state': [42], \n",
    "              }\n",
    "\n",
    "rf = GridSearchCV(pipe, parameters, cv=5, scoring='roc_auc', n_jobs=-1, verbose=1)\n",
    "\n",
    "for idx, data in enumerate(train): \n",
    "    grid_result = rf.fit(data, train_label) \n",
    "    print('for {} features'.format(name[idx]))\n",
    "    print('Best Score: ', grid_result.best_score_) \n",
    "    print('Best Params: ', grid_result.best_params_) \n",
    "    "
   ]
  },
  {
   "cell_type": "code",
   "execution_count": null,
   "id": "ab6c853d-4d67-438b-a2d2-fa38a95a1bb8",
   "metadata": {},
   "outputs": [],
   "source": []
  },
  {
   "cell_type": "code",
   "execution_count": null,
   "id": "c9f06a91-6ca7-4c57-83c6-46cfd2ab5b81",
   "metadata": {},
   "outputs": [],
   "source": [
    "#Fin du Run virginie"
   ]
  },
  {
   "cell_type": "markdown",
   "id": "b11ad8c3-1c11-42b6-ac32-cbd5426a1287",
   "metadata": {},
   "source": [
    "*Visualisation of the best selected model :*"
   ]
  },
  {
   "cell_type": "code",
   "execution_count": null,
   "id": "63fa80d3-a76c-41f3-a321-0f307d94865e",
   "metadata": {},
   "outputs": [],
   "source": []
  },
  {
   "cell_type": "markdown",
   "id": "e8f39811-2542-4aa5-8831-edb55e0d6673",
   "metadata": {},
   "source": [
    "#### 3.2 - Remove features vs not "
   ]
  },
  {
   "cell_type": "markdown",
   "id": "5c60597c-be61-4c19-bc2e-fa03edb1aa39",
   "metadata": {
    "tags": []
   },
   "source": [
    "### 4 - Gradient Boosting"
   ]
  },
  {
   "cell_type": "markdown",
   "id": "104ee0ac-6881-4bcb-bcfb-a2ff7bb8b304",
   "metadata": {
    "tags": []
   },
   "source": [
    "#### 4.1 - standardized vs not"
   ]
  },
  {
   "cell_type": "code",
   "execution_count": null,
   "id": "20f1cbfd-0527-43d4-9a51-397a51baa678",
   "metadata": {},
   "outputs": [],
   "source": [
    "#A Run virignie"
   ]
  },
  {
   "cell_type": "code",
   "execution_count": 38,
   "id": "563afb1e-cb06-447c-8a1b-5af144126db9",
   "metadata": {},
   "outputs": [
    {
     "name": "stdout",
     "output_type": "stream",
     "text": [
      "Fitting 10 folds for each of 120 candidates, totalling 1200 fits\n"
     ]
    },
    {
     "ename": "KeyboardInterrupt",
     "evalue": "",
     "output_type": "error",
     "traceback": [
      "\u001b[0;31m---------------------------------------------------------------------------\u001b[0m",
      "\u001b[0;31mKeyboardInterrupt\u001b[0m                         Traceback (most recent call last)",
      "\u001b[0;32m/var/folders/dp/xm3y4vf11sd5mzn0yd618jhm0000gn/T/ipykernel_3964/3555630704.py\u001b[0m in \u001b[0;36m<module>\u001b[0;34m\u001b[0m\n\u001b[1;32m     11\u001b[0m \u001b[0mboosting\u001b[0m \u001b[0;34m=\u001b[0m \u001b[0mGridSearchCV\u001b[0m\u001b[0;34m(\u001b[0m\u001b[0mpipe\u001b[0m\u001b[0;34m,\u001b[0m \u001b[0mparameters\u001b[0m\u001b[0;34m,\u001b[0m \u001b[0mcv\u001b[0m\u001b[0;34m=\u001b[0m\u001b[0;36m10\u001b[0m\u001b[0;34m,\u001b[0m \u001b[0mscoring\u001b[0m\u001b[0;34m=\u001b[0m\u001b[0;34m'roc_auc'\u001b[0m\u001b[0;34m,\u001b[0m \u001b[0mn_jobs\u001b[0m\u001b[0;34m=\u001b[0m\u001b[0;34m-\u001b[0m\u001b[0;36m1\u001b[0m\u001b[0;34m,\u001b[0m \u001b[0mverbose\u001b[0m\u001b[0;34m=\u001b[0m\u001b[0;36m1\u001b[0m\u001b[0;34m)\u001b[0m\u001b[0;34m\u001b[0m\u001b[0;34m\u001b[0m\u001b[0m\n\u001b[1;32m     12\u001b[0m \u001b[0;34m\u001b[0m\u001b[0m\n\u001b[0;32m---> 13\u001b[0;31m \u001b[0mboosting\u001b[0m\u001b[0;34m.\u001b[0m\u001b[0mfit\u001b[0m\u001b[0;34m(\u001b[0m\u001b[0mtrain_features\u001b[0m\u001b[0;34m,\u001b[0m \u001b[0mtrain_label\u001b[0m\u001b[0;34m)\u001b[0m\u001b[0;34m\u001b[0m\u001b[0;34m\u001b[0m\u001b[0m\n\u001b[0m",
      "\u001b[0;32m~/opt/anaconda3/envs/ada/lib/python3.8/site-packages/sklearn/model_selection/_search.py\u001b[0m in \u001b[0;36mfit\u001b[0;34m(self, X, y, groups, **fit_params)\u001b[0m\n\u001b[1;32m    889\u001b[0m                 \u001b[0;32mreturn\u001b[0m \u001b[0mresults\u001b[0m\u001b[0;34m\u001b[0m\u001b[0;34m\u001b[0m\u001b[0m\n\u001b[1;32m    890\u001b[0m \u001b[0;34m\u001b[0m\u001b[0m\n\u001b[0;32m--> 891\u001b[0;31m             \u001b[0mself\u001b[0m\u001b[0;34m.\u001b[0m\u001b[0m_run_search\u001b[0m\u001b[0;34m(\u001b[0m\u001b[0mevaluate_candidates\u001b[0m\u001b[0;34m)\u001b[0m\u001b[0;34m\u001b[0m\u001b[0;34m\u001b[0m\u001b[0m\n\u001b[0m\u001b[1;32m    892\u001b[0m \u001b[0;34m\u001b[0m\u001b[0m\n\u001b[1;32m    893\u001b[0m             \u001b[0;31m# multimetric is determined here because in the case of a callable\u001b[0m\u001b[0;34m\u001b[0m\u001b[0;34m\u001b[0m\u001b[0;34m\u001b[0m\u001b[0m\n",
      "\u001b[0;32m~/opt/anaconda3/envs/ada/lib/python3.8/site-packages/sklearn/model_selection/_search.py\u001b[0m in \u001b[0;36m_run_search\u001b[0;34m(self, evaluate_candidates)\u001b[0m\n\u001b[1;32m   1390\u001b[0m     \u001b[0;32mdef\u001b[0m \u001b[0m_run_search\u001b[0m\u001b[0;34m(\u001b[0m\u001b[0mself\u001b[0m\u001b[0;34m,\u001b[0m \u001b[0mevaluate_candidates\u001b[0m\u001b[0;34m)\u001b[0m\u001b[0;34m:\u001b[0m\u001b[0;34m\u001b[0m\u001b[0;34m\u001b[0m\u001b[0m\n\u001b[1;32m   1391\u001b[0m         \u001b[0;34m\"\"\"Search all candidates in param_grid\"\"\"\u001b[0m\u001b[0;34m\u001b[0m\u001b[0;34m\u001b[0m\u001b[0m\n\u001b[0;32m-> 1392\u001b[0;31m         \u001b[0mevaluate_candidates\u001b[0m\u001b[0;34m(\u001b[0m\u001b[0mParameterGrid\u001b[0m\u001b[0;34m(\u001b[0m\u001b[0mself\u001b[0m\u001b[0;34m.\u001b[0m\u001b[0mparam_grid\u001b[0m\u001b[0;34m)\u001b[0m\u001b[0;34m)\u001b[0m\u001b[0;34m\u001b[0m\u001b[0;34m\u001b[0m\u001b[0m\n\u001b[0m\u001b[1;32m   1393\u001b[0m \u001b[0;34m\u001b[0m\u001b[0m\n\u001b[1;32m   1394\u001b[0m \u001b[0;34m\u001b[0m\u001b[0m\n",
      "\u001b[0;32m~/opt/anaconda3/envs/ada/lib/python3.8/site-packages/sklearn/model_selection/_search.py\u001b[0m in \u001b[0;36mevaluate_candidates\u001b[0;34m(candidate_params, cv, more_results)\u001b[0m\n\u001b[1;32m    836\u001b[0m                     )\n\u001b[1;32m    837\u001b[0m \u001b[0;34m\u001b[0m\u001b[0m\n\u001b[0;32m--> 838\u001b[0;31m                 out = parallel(\n\u001b[0m\u001b[1;32m    839\u001b[0m                     delayed(_fit_and_score)(\n\u001b[1;32m    840\u001b[0m                         \u001b[0mclone\u001b[0m\u001b[0;34m(\u001b[0m\u001b[0mbase_estimator\u001b[0m\u001b[0;34m)\u001b[0m\u001b[0;34m,\u001b[0m\u001b[0;34m\u001b[0m\u001b[0;34m\u001b[0m\u001b[0m\n",
      "\u001b[0;32m~/opt/anaconda3/envs/ada/lib/python3.8/site-packages/joblib/parallel.py\u001b[0m in \u001b[0;36m__call__\u001b[0;34m(self, iterable)\u001b[0m\n\u001b[1;32m   1054\u001b[0m \u001b[0;34m\u001b[0m\u001b[0m\n\u001b[1;32m   1055\u001b[0m             \u001b[0;32mwith\u001b[0m \u001b[0mself\u001b[0m\u001b[0;34m.\u001b[0m\u001b[0m_backend\u001b[0m\u001b[0;34m.\u001b[0m\u001b[0mretrieval_context\u001b[0m\u001b[0;34m(\u001b[0m\u001b[0;34m)\u001b[0m\u001b[0;34m:\u001b[0m\u001b[0;34m\u001b[0m\u001b[0;34m\u001b[0m\u001b[0m\n\u001b[0;32m-> 1056\u001b[0;31m                 \u001b[0mself\u001b[0m\u001b[0;34m.\u001b[0m\u001b[0mretrieve\u001b[0m\u001b[0;34m(\u001b[0m\u001b[0;34m)\u001b[0m\u001b[0;34m\u001b[0m\u001b[0;34m\u001b[0m\u001b[0m\n\u001b[0m\u001b[1;32m   1057\u001b[0m             \u001b[0;31m# Make sure that we get a last message telling us we are done\u001b[0m\u001b[0;34m\u001b[0m\u001b[0;34m\u001b[0m\u001b[0;34m\u001b[0m\u001b[0m\n\u001b[1;32m   1058\u001b[0m             \u001b[0melapsed_time\u001b[0m \u001b[0;34m=\u001b[0m \u001b[0mtime\u001b[0m\u001b[0;34m.\u001b[0m\u001b[0mtime\u001b[0m\u001b[0;34m(\u001b[0m\u001b[0;34m)\u001b[0m \u001b[0;34m-\u001b[0m \u001b[0mself\u001b[0m\u001b[0;34m.\u001b[0m\u001b[0m_start_time\u001b[0m\u001b[0;34m\u001b[0m\u001b[0;34m\u001b[0m\u001b[0m\n",
      "\u001b[0;32m~/opt/anaconda3/envs/ada/lib/python3.8/site-packages/joblib/parallel.py\u001b[0m in \u001b[0;36mretrieve\u001b[0;34m(self)\u001b[0m\n\u001b[1;32m    933\u001b[0m             \u001b[0;32mtry\u001b[0m\u001b[0;34m:\u001b[0m\u001b[0;34m\u001b[0m\u001b[0;34m\u001b[0m\u001b[0m\n\u001b[1;32m    934\u001b[0m                 \u001b[0;32mif\u001b[0m \u001b[0mgetattr\u001b[0m\u001b[0;34m(\u001b[0m\u001b[0mself\u001b[0m\u001b[0;34m.\u001b[0m\u001b[0m_backend\u001b[0m\u001b[0;34m,\u001b[0m \u001b[0;34m'supports_timeout'\u001b[0m\u001b[0;34m,\u001b[0m \u001b[0;32mFalse\u001b[0m\u001b[0;34m)\u001b[0m\u001b[0;34m:\u001b[0m\u001b[0;34m\u001b[0m\u001b[0;34m\u001b[0m\u001b[0m\n\u001b[0;32m--> 935\u001b[0;31m                     \u001b[0mself\u001b[0m\u001b[0;34m.\u001b[0m\u001b[0m_output\u001b[0m\u001b[0;34m.\u001b[0m\u001b[0mextend\u001b[0m\u001b[0;34m(\u001b[0m\u001b[0mjob\u001b[0m\u001b[0;34m.\u001b[0m\u001b[0mget\u001b[0m\u001b[0;34m(\u001b[0m\u001b[0mtimeout\u001b[0m\u001b[0;34m=\u001b[0m\u001b[0mself\u001b[0m\u001b[0;34m.\u001b[0m\u001b[0mtimeout\u001b[0m\u001b[0;34m)\u001b[0m\u001b[0;34m)\u001b[0m\u001b[0;34m\u001b[0m\u001b[0;34m\u001b[0m\u001b[0m\n\u001b[0m\u001b[1;32m    936\u001b[0m                 \u001b[0;32melse\u001b[0m\u001b[0;34m:\u001b[0m\u001b[0;34m\u001b[0m\u001b[0;34m\u001b[0m\u001b[0m\n\u001b[1;32m    937\u001b[0m                     \u001b[0mself\u001b[0m\u001b[0;34m.\u001b[0m\u001b[0m_output\u001b[0m\u001b[0;34m.\u001b[0m\u001b[0mextend\u001b[0m\u001b[0;34m(\u001b[0m\u001b[0mjob\u001b[0m\u001b[0;34m.\u001b[0m\u001b[0mget\u001b[0m\u001b[0;34m(\u001b[0m\u001b[0;34m)\u001b[0m\u001b[0;34m)\u001b[0m\u001b[0;34m\u001b[0m\u001b[0;34m\u001b[0m\u001b[0m\n",
      "\u001b[0;32m~/opt/anaconda3/envs/ada/lib/python3.8/site-packages/joblib/_parallel_backends.py\u001b[0m in \u001b[0;36mwrap_future_result\u001b[0;34m(future, timeout)\u001b[0m\n\u001b[1;32m    540\u001b[0m         AsyncResults.get from multiprocessing.\"\"\"\n\u001b[1;32m    541\u001b[0m         \u001b[0;32mtry\u001b[0m\u001b[0;34m:\u001b[0m\u001b[0;34m\u001b[0m\u001b[0;34m\u001b[0m\u001b[0m\n\u001b[0;32m--> 542\u001b[0;31m             \u001b[0;32mreturn\u001b[0m \u001b[0mfuture\u001b[0m\u001b[0;34m.\u001b[0m\u001b[0mresult\u001b[0m\u001b[0;34m(\u001b[0m\u001b[0mtimeout\u001b[0m\u001b[0;34m=\u001b[0m\u001b[0mtimeout\u001b[0m\u001b[0;34m)\u001b[0m\u001b[0;34m\u001b[0m\u001b[0;34m\u001b[0m\u001b[0m\n\u001b[0m\u001b[1;32m    543\u001b[0m         \u001b[0;32mexcept\u001b[0m \u001b[0mCfTimeoutError\u001b[0m \u001b[0;32mas\u001b[0m \u001b[0me\u001b[0m\u001b[0;34m:\u001b[0m\u001b[0;34m\u001b[0m\u001b[0;34m\u001b[0m\u001b[0m\n\u001b[1;32m    544\u001b[0m             \u001b[0;32mraise\u001b[0m \u001b[0mTimeoutError\u001b[0m \u001b[0;32mfrom\u001b[0m \u001b[0me\u001b[0m\u001b[0;34m\u001b[0m\u001b[0;34m\u001b[0m\u001b[0m\n",
      "\u001b[0;32m~/opt/anaconda3/envs/ada/lib/python3.8/concurrent/futures/_base.py\u001b[0m in \u001b[0;36mresult\u001b[0;34m(self, timeout)\u001b[0m\n\u001b[1;32m    437\u001b[0m                     \u001b[0;32mreturn\u001b[0m \u001b[0mself\u001b[0m\u001b[0;34m.\u001b[0m\u001b[0m__get_result\u001b[0m\u001b[0;34m(\u001b[0m\u001b[0;34m)\u001b[0m\u001b[0;34m\u001b[0m\u001b[0;34m\u001b[0m\u001b[0m\n\u001b[1;32m    438\u001b[0m \u001b[0;34m\u001b[0m\u001b[0m\n\u001b[0;32m--> 439\u001b[0;31m                 \u001b[0mself\u001b[0m\u001b[0;34m.\u001b[0m\u001b[0m_condition\u001b[0m\u001b[0;34m.\u001b[0m\u001b[0mwait\u001b[0m\u001b[0;34m(\u001b[0m\u001b[0mtimeout\u001b[0m\u001b[0;34m)\u001b[0m\u001b[0;34m\u001b[0m\u001b[0;34m\u001b[0m\u001b[0m\n\u001b[0m\u001b[1;32m    440\u001b[0m \u001b[0;34m\u001b[0m\u001b[0m\n\u001b[1;32m    441\u001b[0m                 \u001b[0;32mif\u001b[0m \u001b[0mself\u001b[0m\u001b[0;34m.\u001b[0m\u001b[0m_state\u001b[0m \u001b[0;32min\u001b[0m \u001b[0;34m[\u001b[0m\u001b[0mCANCELLED\u001b[0m\u001b[0;34m,\u001b[0m \u001b[0mCANCELLED_AND_NOTIFIED\u001b[0m\u001b[0;34m]\u001b[0m\u001b[0;34m:\u001b[0m\u001b[0;34m\u001b[0m\u001b[0;34m\u001b[0m\u001b[0m\n",
      "\u001b[0;32m~/opt/anaconda3/envs/ada/lib/python3.8/threading.py\u001b[0m in \u001b[0;36mwait\u001b[0;34m(self, timeout)\u001b[0m\n\u001b[1;32m    300\u001b[0m         \u001b[0;32mtry\u001b[0m\u001b[0;34m:\u001b[0m    \u001b[0;31m# restore state no matter what (e.g., KeyboardInterrupt)\u001b[0m\u001b[0;34m\u001b[0m\u001b[0;34m\u001b[0m\u001b[0m\n\u001b[1;32m    301\u001b[0m             \u001b[0;32mif\u001b[0m \u001b[0mtimeout\u001b[0m \u001b[0;32mis\u001b[0m \u001b[0;32mNone\u001b[0m\u001b[0;34m:\u001b[0m\u001b[0;34m\u001b[0m\u001b[0;34m\u001b[0m\u001b[0m\n\u001b[0;32m--> 302\u001b[0;31m                 \u001b[0mwaiter\u001b[0m\u001b[0;34m.\u001b[0m\u001b[0macquire\u001b[0m\u001b[0;34m(\u001b[0m\u001b[0;34m)\u001b[0m\u001b[0;34m\u001b[0m\u001b[0;34m\u001b[0m\u001b[0m\n\u001b[0m\u001b[1;32m    303\u001b[0m                 \u001b[0mgotit\u001b[0m \u001b[0;34m=\u001b[0m \u001b[0;32mTrue\u001b[0m\u001b[0;34m\u001b[0m\u001b[0;34m\u001b[0m\u001b[0m\n\u001b[1;32m    304\u001b[0m             \u001b[0;32melse\u001b[0m\u001b[0;34m:\u001b[0m\u001b[0;34m\u001b[0m\u001b[0;34m\u001b[0m\u001b[0m\n",
      "\u001b[0;31mKeyboardInterrupt\u001b[0m: "
     ]
    }
   ],
   "source": [
    "pipe = Pipeline([ \n",
    "                 ('boosting', GradientBoostingClassifier()),  \n",
    "                 ])\n",
    "\n",
    "parameters = {\n",
    "              'boosting__loss' : ['deviance', 'expo'],\n",
    "              'boosting__learning_rate' : [1e-4, 1e-3, 1e-2, 1e-1, 1e0, 10],\n",
    "              'boosting__n_estimators' : list(range(10,101,10)), }\n",
    "              \n",
    "\n",
    "boosting = GridSearchCV(pipe, parameters, cv=5, scoring='roc_auc', n_jobs=-1, verbose=1)\n",
    "\n",
    "for idx, data in enumerate(train): \n",
    "    grid_result = boosting.fit(data, train_label) \n",
    "    print('for {} features'.format(name[idx]))\n",
    "    print('Best Score: ', grid_result.best_score_) \n",
    "    print('Best Params: ', grid_result.best_params_)"
   ]
  },
  {
   "cell_type": "code",
   "execution_count": null,
   "id": "af821308-2c47-4638-8d7f-00daf608ebfa",
   "metadata": {},
   "outputs": [],
   "source": [
    "#fin du run Virignie"
   ]
  },
  {
   "cell_type": "markdown",
   "id": "1ddc35f8-d9df-4e9c-88a3-5add65146dbd",
   "metadata": {},
   "source": [
    "*Visualisation of the best selected model :*"
   ]
  },
  {
   "cell_type": "code",
   "execution_count": null,
   "id": "52733261-5d24-4bc1-b09c-81651f06ae0c",
   "metadata": {},
   "outputs": [],
   "source": [
    "print(gradient_booster.feature_importances_)\n",
    "\n",
    "# plot\n",
    "pyplot.bar(range(len(gradient_booster.feature_importances_)), gradient_booster.feature_importances_)\n",
    "pyplot.show()"
   ]
  },
  {
   "cell_type": "markdown",
   "id": "6e85b75d-6152-4179-9437-8e9c0dcdc474",
   "metadata": {
    "tags": []
   },
   "source": [
    "#### 4.2 - Remove features vs not "
   ]
  },
  {
   "cell_type": "code",
   "execution_count": null,
   "id": "d3eec91d-0a5f-488d-84a2-17d66994ec60",
   "metadata": {},
   "outputs": [],
   "source": []
  },
  {
   "cell_type": "markdown",
   "id": "060fcdfa-72ef-40e4-a036-a84b9d6d514f",
   "metadata": {},
   "source": [
    "# Temporal Evolution - ANISSA"
   ]
  },
  {
   "cell_type": "markdown",
   "id": "bd67b12f-635d-4243-9c46-d8eca604ced3",
   "metadata": {},
   "source": [
    "> Years and month "
   ]
  },
  {
   "cell_type": "code",
   "execution_count": 5,
   "id": "1cbed301-fc6b-4b34-8bc4-8549d49e58df",
   "metadata": {},
   "outputs": [
    {
     "data": {
      "image/png": "[encoded data removed]",
      "text/plain": [
       "<Figure size 1008x504 with 1 Axes>"
      ]
     },
     "metadata": {
      "needs_background": "light"
     },
     "output_type": "display_data"
    }
   ],
   "source": [
    "ax=sns.catplot(data=subdata, x = 'date',  kind=\"count\", \n",
    "               palette=\"ch:.25\",height=7, aspect=2)\n",
    "ax.set_xticklabels(rotation=80)\n",
    "\n",
    "ax.set(xlabel='Time', ylabel='Number of quotes', \n",
    "       title= 'frequency of climate related quotes over the time ', yscale='log') #We chose a log scale for better data visulalisation. \n",
    "\n",
    "sns.despine()"
   ]
  },
  {
   "cell_type": "markdown",
   "id": "adf1d76c-a75b-4c94-8d1e-a578f7c0dba0",
   "metadata": {},
   "source": [
    "> Years"
   ]
  },
  {
   "cell_type": "code",
   "execution_count": 6,
   "id": "2cd654af-cf8d-439a-9d92-249d732901fd",
   "metadata": {},
   "outputs": [
    {
     "data": {
      "image/png": "[encoded data removed]",
      "text/plain": [
       "<Figure size 518.4x288 with 1 Axes>"
      ]
     },
     "metadata": {
      "needs_background": "light"
     },
     "output_type": "display_data"
    }
   ],
   "source": [
    "subdata_years = subdata.copy()\n",
    "subdata_years['date'] = pd.to_datetime(subdata_years['date']).dt.strftime('%Y')\n",
    "\n",
    "\n",
    "ax=sns.catplot(data=subdata_years, x = 'date',  kind=\"count\", \n",
    "               palette=\"ch:.25\",height=4, aspect=1.8)\n",
    "\n",
    "ax.set_xticklabels(rotation=80)\n",
    "\n",
    "ax.set(xlabel='Time', ylabel='Number of quotes', \n",
    "       title= 'frequency of climate related quotes over the years ', yscale='log') #We chose a log scale for better data visulalisation. \n",
    "\n",
    "sns.despine()"
   ]
  },
  {
   "cell_type": "markdown",
   "id": "435bd1da-3e9d-4cd7-8fab-703fb93167a3",
   "metadata": {},
   "source": [
    "# Majority representation - VIRGINIE"
   ]
  },
  {
   "cell_type": "code",
   "execution_count": null,
   "id": "d1d3c1c7-0e4a-449f-9c4e-8e9cbc958804",
   "metadata": {},
   "outputs": [],
   "source": [
    "top_10 = subdata.copy()\n",
    "speaker_time = top_10[['speaker','date','numOccurrences']]\n",
    "count_top_10 = speaker_time.groupby('speaker')['numOccurrences'].agg(['count']).sort_values('count', ascending=False).head(10)"
   ]
  },
  {
   "cell_type": "code",
   "execution_count": null,
   "id": "9f680dcb-ff2d-4176-8e02-200ddb652193",
   "metadata": {},
   "outputs": [],
   "source": [
    "count_top_10"
   ]
  },
  {
   "cell_type": "code",
   "execution_count": null,
   "id": "ab7bb313-e581-4b49-8786-db1e32e4bd5a",
   "metadata": {},
   "outputs": [],
   "source": [
    "speaker_list = speaker_time['speaker'].tolist()\n",
    "\n",
    "x = 0 \n",
    "big_ls = []\n",
    "\n",
    "for i in count_top_10.index:\n",
    "    ls = []\n",
    "    x = x+1\n",
    "    if i in speaker_list:\n",
    "        ls.append(speaker_time['date'])\n",
    "        big_ls.append(ls)\n",
    "\n",
    "count_top_10['date'] = big_ls\n",
    "count_top_10"
   ]
  },
  {
   "cell_type": "code",
   "execution_count": null,
   "id": "40695b5e-aa04-4fb0-8f97-196f6b39b71e",
   "metadata": {},
   "outputs": [],
   "source": [
    "x_speaker = count_top_10.index.tolist()\n",
    "y_count = count_top_10['count']\n",
    "\n",
    "count_top_10.plot.bar()"
   ]
  },
  {
   "cell_type": "markdown",
   "id": "f0a30e08-5c4e-4213-a068-744620f9712b",
   "metadata": {},
   "source": [
    "# Climate speaking proprotion - VIRGINIE"
   ]
  },
  {
   "cell_type": "markdown",
   "id": "716a57cf-c57a-4651-979b-1a1d2ed0c1e8",
   "metadata": {},
   "source": [
    "# NLP - "
   ]
  },
  {
   "cell_type": "code",
   "execution_count": 3,
   "id": "b723c271-2a8b-4356-8b20-3371d7209631",
   "metadata": {},
   "outputs": [],
   "source": [
    "import warnings; warnings.simplefilter('ignore')\n",
    "import os, codecs, string, random\n",
    "from numpy.random import seed as random_seed\n",
    "from numpy.random import shuffle as random_shuffle \n",
    "\n",
    "seed = 42\n",
    "random.seed(seed)\n",
    "np.random.seed(seed)\n",
    "\n",
    "#NLP libraries\n",
    "import spacy, nltk, gensim, sklearn\n",
    "import pyLDAvis.gensim_models as gensimvis\n",
    "#import pyLDAvis.gensim\n",
    "\n",
    "#Vader\n",
    "import vaderSentiment\n",
    "from vaderSentiment.vaderSentiment import SentimentIntensityAnalyzer\n",
    "\n",
    "#Scikit imports\n",
    "from sklearn.feature_extraction.text import CountVectorizer\n",
    "from sklearn.model_selection import cross_val_score\n",
    "from sklearn import preprocessing\n",
    "from sklearn.preprocessing import StandardScaler\n",
    "from sklearn.utils import shuffle"
   ]
  },
  {
   "cell_type": "code",
   "execution_count": 4,
   "id": "2aada296-c1e3-48c1-8058-896ff1776869",
   "metadata": {},
   "outputs": [
    {
     "name": "stderr",
     "output_type": "stream",
     "text": [
      "/opt/anaconda3/lib/python3.8/site-packages/ipykernel/ipkernel.py:287: DeprecationWarning: `should_run_async` will not call `transform_cell` automatically in the future. Please pass the result to `transformed_cell` argument and any exception that happen during thetransform in `preprocessing_exc_tuple` in IPython 7.17 and above.\n",
      "  and should_run_async(code)\n"
     ]
    }
   ],
   "source": [
    "analyzer = SentimentIntensityAnalyzer()"
   ]
  },
  {
   "cell_type": "code",
   "execution_count": 5,
   "id": "320e5cc7-77dc-4bc2-8f95-701d893592a8",
   "metadata": {},
   "outputs": [
    {
     "name": "stderr",
     "output_type": "stream",
     "text": [
      "/opt/anaconda3/lib/python3.8/site-packages/ipykernel/ipkernel.py:287: DeprecationWarning: `should_run_async` will not call `transform_cell` automatically in the future. Please pass the result to `transformed_cell` argument and any exception that happen during thetransform in `preprocessing_exc_tuple` in IPython 7.17 and above.\n",
      "  and should_run_async(code)\n"
     ]
    }
   ],
   "source": [
    "dico={} #We create a dictonary to loop over our years. \n",
    "for date in [2020, 2019, 2018, 2017, 2016, 2015]:\n",
    "    dico[date] = pd.read_csv(f\"data/clean_quotes-{date}.bz2\", compression = 'bz2')"
   ]
  },
  {
   "cell_type": "code",
   "execution_count": 6,
   "id": "2489248b-b874-47b6-bbcd-53d5d22b5cf9",
   "metadata": {},
   "outputs": [
    {
     "name": "stderr",
     "output_type": "stream",
     "text": [
      "/opt/anaconda3/lib/python3.8/site-packages/ipykernel/ipkernel.py:287: DeprecationWarning: `should_run_async` will not call `transform_cell` automatically in the future. Please pass the result to `transformed_cell` argument and any exception that happen during thetransform in `preprocessing_exc_tuple` in IPython 7.17 and above.\n",
      "  and should_run_async(code)\n"
     ]
    }
   ],
   "source": [
    "dico_quotes = {}\n",
    "for date in [2020, 2019, 2018, 2017, 2016, 2015]:\n",
    "    dico_quotes[date] = dico[date]['quotation']"
   ]
  },
  {
   "cell_type": "code",
   "execution_count": 7,
   "id": "7eb84cec-52df-4c45-a977-2937292b7475",
   "metadata": {},
   "outputs": [
    {
     "name": "stderr",
     "output_type": "stream",
     "text": [
      "/opt/anaconda3/lib/python3.8/site-packages/ipykernel/ipkernel.py:287: DeprecationWarning: `should_run_async` will not call `transform_cell` automatically in the future. Please pass the result to `transformed_cell` argument and any exception that happen during thetransform in `preprocessing_exc_tuple` in IPython 7.17 and above.\n",
      "  and should_run_async(code)\n"
     ]
    }
   ],
   "source": [
    "def print_sentiment(text):\n",
    "    \n",
    "    vs = analyzer.polarity_scores(text)\n",
    "    print(text, '\\n')\n",
    "    print('Negative sentiment:',vs['neg'])\n",
    "    print('Neutral sentiment:',vs['neu'])\n",
    "    print('Positive sentiment:',vs['pos'])\n",
    "    print('Compound sentiment:',vs['compound'])\n",
    "    return vs "
   ]
  },
  {
   "cell_type": "markdown",
   "id": "dfedafdf-8fc0-41ff-bfa8-f1ef21e67e0b",
   "metadata": {
    "tags": []
   },
   "source": [
    "## Distributions"
   ]
  },
  {
   "cell_type": "markdown",
   "id": "dedab02f-53b6-4329-bce0-fe41da1972c2",
   "metadata": {
    "tags": []
   },
   "source": [
    "### Positive and negative distributions through the years"
   ]
  },
  {
   "cell_type": "code",
   "execution_count": 8,
   "id": "fb14b1f6-965d-4ac3-8d70-502ce0d3bf7c",
   "metadata": {},
   "outputs": [
    {
     "name": "stderr",
     "output_type": "stream",
     "text": [
      "/opt/anaconda3/lib/python3.8/site-packages/ipykernel/ipkernel.py:287: DeprecationWarning: `should_run_async` will not call `transform_cell` automatically in the future. Please pass the result to `transformed_cell` argument and any exception that happen during thetransform in `preprocessing_exc_tuple` in IPython 7.17 and above.\n",
      "  and should_run_async(code)\n"
     ]
    }
   ],
   "source": [
    "positive_sent = {}\n",
    "negative_sent = {}\n",
    "ls_pos = []\n",
    "ls_neg = []\n",
    "\n",
    "#iterate through the sentencs, get polarity scores, choose a value\n",
    "\n",
    "for date in [2020,2019]: #, 2019, 2018, 2017, 2016, 2015]:\n",
    "    for quote in dico_quotes[date]:\n",
    "        ls_pos.append(analyzer.polarity_scores(quote)['pos'])\n",
    "        ls_neg.append(analyzer.polarity_scores(quote)['neg'])\n",
    "    \n",
    "    positive_sent[date] = ls_pos\n",
    "    negative_sent[date] = ls_neg"
   ]
  },
  {
   "cell_type": "code",
   "execution_count": 47,
   "id": "f783df7c-d909-4318-8762-c7eb8fa0d173",
   "metadata": {},
   "outputs": [
    {
     "name": "stderr",
     "output_type": "stream",
     "text": [
      "/opt/anaconda3/lib/python3.8/site-packages/ipykernel/ipkernel.py:287: DeprecationWarning: `should_run_async` will not call `transform_cell` automatically in the future. Please pass the result to `transformed_cell` argument and any exception that happen during thetransform in `preprocessing_exc_tuple` in IPython 7.17 and above.\n",
      "  and should_run_async(code)\n"
     ]
    }
   ],
   "source": [
    "def get_above_zero(my_list):\n",
    "    np_arr = np.array(my_list)\n",
    "    return np_arr[np_arr > 0]"
   ]
  },
  {
   "cell_type": "code",
   "execution_count": 100,
   "id": "cd4f8874-b55e-4234-b503-fe1bda66343c",
   "metadata": {
    "tags": []
   },
   "outputs": [
    {
     "name": "stderr",
     "output_type": "stream",
     "text": [
      "/opt/anaconda3/lib/python3.8/site-packages/ipykernel/ipkernel.py:287: DeprecationWarning: `should_run_async` will not call `transform_cell` automatically in the future. Please pass the result to `transformed_cell` argument and any exception that happen during thetransform in `preprocessing_exc_tuple` in IPython 7.17 and above.\n",
      "  and should_run_async(code)\n"
     ]
    },
    {
     "data": {
      "image/png": "[encoded data removed]",
      "text/plain": [
       "<Figure size 1080x1080 with 6 Axes>"
      ]
     },
     "metadata": {
      "needs_background": "light"
     },
     "output_type": "display_data"
    }
   ],
   "source": [
    "fig, axes = plt.subplots(3,2, figsize=(15,15))\n",
    "\n",
    "\n",
    "\n",
    "\n",
    "for i, date in enumerate(positive_sent.keys()): #add colors palette and 2015->2020\n",
    "    to_plot = [get_above_zero(positive_sent[date]),get_above_zero(negative_sent[date])]\n",
    "    line, col = divmod(i, 2)\n",
    "    sentiments = 'pos','neg'\n",
    "    sns.boxplot(data = to_plot, orient = \"h\", ax = axes[line,col],showfliers=False).set(title = f'Positive and negative distributions in the {date} quotes', xlabel='rates', ylabel='sentiments')\n",
    "    axes[line,col].set_yticklabels(['pos','neg'])"
   ]
  },
  {
   "cell_type": "markdown",
   "id": "da20f554-4b14-4241-b67d-8ef3de3773f3",
   "metadata": {
    "tags": []
   },
   "source": [
    "### Neutral ditribution"
   ]
  },
  {
   "cell_type": "code",
   "execution_count": null,
   "id": "d6018dd9-3093-4742-8820-c01db9a5fff5",
   "metadata": {},
   "outputs": [],
   "source": [
    "neutral_sent = {}\n",
    "ls_neu = []\n",
    "\n",
    "\n",
    "#iterate through the sentencs, get polarity scores, choose a value\n",
    "\n",
    "for date in [2020,2019]: #, 2019, 2018, 2017, 2016, 2015]:\n",
    "    for quote in dico_quotes[date]:\n",
    "        ls_pos.append(analyzer.polarity_scores(quote)['neu'])\n",
    "    \n",
    "    neutral_sent[date] = ls_neu"
   ]
  }
 ],
 "metadata": {
  "kernelspec": {
   "display_name": "Python 3 (ipykernel)",
   "language": "python",
   "name": "python3"
  },
  "language_info": {
   "codemirror_mode": {
    "name": "ipython",
    "version": 3
   },
   "file_extension": ".py",
   "mimetype": "text/x-python",
   "name": "python",
   "nbconvert_exporter": "python",
   "pygments_lexer": "ipython3",
   "version": "3.8.11"
  }
 },
 "nbformat": 4,
 "nbformat_minor": 5
}
