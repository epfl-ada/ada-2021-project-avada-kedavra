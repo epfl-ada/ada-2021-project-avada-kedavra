{
 "cells": [
  {
   "cell_type": "code",
   "execution_count": 1,
   "id": "f6630819-7845-4bfb-b746-6a7e780e0540",
   "metadata": {},
   "outputs": [
    {
     "name": "stderr",
     "output_type": "stream",
     "text": [
      "/Users/alicia/opt/anaconda3/envs/ada/lib/python3.8/site-packages/gensim/similarities/__init__.py:15: UserWarning: The gensim.similarities.levenshtein submodule is disabled, because the optional Levenshtein package <https://pypi.org/project/python-Levenshtein/> is unavailable. Install Levenhstein (e.g. `pip install python-Levenshtein`) to suppress this warning.\n",
      "  warnings.warn(msg)\n"
     ]
    }
   ],
   "source": [
    "import numpy as np\n",
    "import pandas as pd\n",
    "import json\n",
    "from urllib.request import urlopen\n",
    "import sqlite3\n",
    "import string\n",
    "\n",
    "import seaborn as sns\n",
    "import matplotlib.pyplot as plt\n",
    "\n",
    "#load the statistical libraries\n",
    "from statsmodels.stats import diagnostic\n",
    "from scipy import stats\n",
    "import ast\n",
    "\n",
    "#NLP libraries\n",
    "import spacy, nltk, gensim, sklearn\n",
    "import pyLDAvis.gensim_models\n",
    "\n",
    "\n",
    "#Scikit imports\n",
    "from sklearn.feature_extraction.text import CountVectorizer\n",
    "from sklearn.model_selection import train_test_split\n",
    "from sklearn.model_selection import cross_val_score\n",
    "from sklearn.linear_model import LogisticRegression\n",
    "from sklearn.utils import shuffle\n",
    "\n",
    "\n",
    "from sklearn.feature_extraction.text import TfidfTransformer\n",
    "from sklearn.naive_bayes import MultinomialNB\n",
    "from sklearn.model_selection import GridSearchCV\n",
    "from sklearn.linear_model import SGDClassifier"
   ]
  },
  {
   "cell_type": "markdown",
   "id": "d1981b18-a20b-4b10-b585-0b15563a9d26",
   "metadata": {},
   "source": [
    "# General information Remark"
   ]
  },
  {
   "cell_type": "markdown",
   "id": "66d9c90b-4fd4-4d09-8163-7c2b7021c9b3",
   "metadata": {},
   "source": [
    "### In the loading part we will recover data from 2015 to 2020, however, first visulation (part III) will only be on the data from 2020."
   ]
  },
  {
   "cell_type": "markdown",
   "id": "967b3b89-46e1-4377-96ab-830501273244",
   "metadata": {},
   "source": [
    "# I- Load the data"
   ]
  },
  {
   "cell_type": "markdown",
   "id": "1edcfe19-c424-4435-86bd-b0eb11096498",
   "metadata": {},
   "source": [
    "### Load Quotebank data"
   ]
  },
  {
   "cell_type": "markdown",
   "id": "6264bc75-8b74-44f3-9e45-c079a54bea3b",
   "metadata": {},
   "source": [
    "First, let's recover the quotations of interest : as our project is based on the caracterisation of the speaker, we decide to pre-select the quotations that are related to a speaker (i.e speaker value is different from 'None'). \n",
    "Moreover, we select the quotations whose subject is related to climate change : to do so we will recover a list of keyword related to climate subject by analyzing wwith NLP the dataset train_climate.tcsv. Then, we select quotes that contains at least one of these words(cf chunk_filtering method)."
   ]
  },
  {
   "cell_type": "markdown",
   "id": "bd4ee82b-a84e-4d40-ab45-136506d70769",
   "metadata": {},
   "source": [
    "> #### A/ Recovering of the keyword list "
   ]
  },
  {
   "cell_type": "code",
   "execution_count": 2,
   "id": "32930eb4-8b96-40a5-973f-a5f0531ae128",
   "metadata": {},
   "outputs": [],
   "source": [
    "data1 = pd.read_csv('data/Wiki_train.tsv', sep='\\t')\n",
    "data2=pd.read_csv('data/train_1.tsv', sep='\\t')"
   ]
  },
  {
   "cell_type": "code",
   "execution_count": 4,
   "id": "40bcd013-2233-44fe-84db-20398f37bd63",
   "metadata": {},
   "outputs": [],
   "source": [
    "data1.drop(labels = ['id', 'paragraph', 'title'], axis=1, inplace=True)\n",
    "data2.drop(labels = ['id', 'paragraph', 'title'], axis=1, inplace=True)"
   ]
  },
  {
   "cell_type": "code",
   "execution_count": 5,
   "id": "fb439466-7a67-4d03-aee0-a5ac5f6ed6bd",
   "metadata": {},
   "outputs": [],
   "source": [
    "subdata = pd.concat([data1, data2])"
   ]
  },
  {
   "cell_type": "markdown",
   "id": "119d119a-8b82-4e7b-b465-702a0318b573",
   "metadata": {},
   "source": [
    "> ##### Creation of our bag of word "
   ]
  },
  {
   "cell_type": "code",
   "execution_count": 6,
   "id": "3a20ae06-31fe-499d-917e-3794919d1735",
   "metadata": {},
   "outputs": [
    {
     "name": "stdout",
     "output_type": "stream",
     "text": [
      "Number of samples: 6000\n",
      "Number of features: 75261\n",
      "(6000,)\n",
      "(6000, 75261)\n"
     ]
    }
   ],
   "source": [
    "vectorizer = CountVectorizer(stop_words = 'english',ngram_range=(1, 2),lowercase=False)\n",
    "\n",
    "\n",
    "#create bag of words features\n",
    "X = vectorizer.fit_transform(subdata.sentence)\n",
    "\n",
    "\n",
    "print('Number of samples:',X.toarray().shape[0])\n",
    "print('Number of features:',X.toarray().shape[1])\n",
    "\n",
    "#mask and convert to int climate\n",
    "Y = np.array(subdata.label)\n",
    "\n",
    "\n",
    "\n",
    "print(Y.shape)\n",
    "print(X.shape)\n",
    "#shuffle the data\n",
    "\n",
    "X, Y = shuffle(X, Y, random_state=0)\n",
    "\n",
    "\n",
    "\n",
    "#split into training and test set\n",
    "X_train, X_test, Y_train, Y_test = train_test_split(X, Y, test_size=0.2, random_state=42)"
   ]
  },
  {
   "cell_type": "code",
   "execution_count": 7,
   "id": "6ffa172c-ac3f-45a8-bda2-ab3c1530d96d",
   "metadata": {},
   "outputs": [
    {
     "data": {
      "text/plain": [
       "<1200x75261 sparse matrix of type '<class 'numpy.float64'>'\n",
       "\twith 26161 stored elements in Compressed Sparse Row format>"
      ]
     },
     "execution_count": 7,
     "metadata": {},
     "output_type": "execute_result"
    }
   ],
   "source": [
    "tfidf_transformer = TfidfTransformer()\n",
    "X_train_tfidf = tfidf_transformer.fit_transform(X_train)\n",
    "X_test_tfidf=tfidf_transformer.fit_transform(X_test)\n",
    "#transform the count matrix X_train to a normalized tf-idf representation\n",
    "X_train_tfidf.shape \n",
    "X_test_tfidf"
   ]
  },
  {
   "cell_type": "code",
   "execution_count": 8,
   "id": "258e00ae-4b2d-4a68-838b-8f8681d8565f",
   "metadata": {},
   "outputs": [],
   "source": [
    "train = [X_train, X_train_tfidf]\n",
    "test = [X_test, X_test_tfidf]"
   ]
  },
  {
   "cell_type": "code",
   "execution_count": 9,
   "id": "43365c60-d65e-4f22-be91-708088660b38",
   "metadata": {},
   "outputs": [
    {
     "name": "stdout",
     "output_type": "stream",
     "text": [
      "Fitting 10 folds for each of 7 candidates, totalling 70 fits\n",
      "Best Score:  0.9394273127753303\n",
      "Best Params:  {'C': 0.1}\n",
      "Fitting 10 folds for each of 7 candidates, totalling 70 fits\n",
      "Best Score:  0.9443832599118943\n",
      "Best Params:  {'C': 10}\n"
     ]
    }
   ],
   "source": [
    "C = [0.01, 0.1, 1, 10, 100, 1000, 10000] \n",
    "\n",
    "\n",
    "param_grid = dict(C=C) \n",
    "\n",
    "logistic = LogisticRegression(solver = 'lbfgs', penalty = 'l2') \n",
    "\n",
    "grid = GridSearchCV(estimator=logistic, param_grid=param_grid, scoring='roc_auc', verbose=1, n_jobs=-1, cv = 10) \n",
    "\n",
    "for features in (train) : \n",
    "    grid_result = grid.fit(features, Y_train) \n",
    "    print('Best Score: ', grid_result.best_score_) \n",
    "    print('Best Params: ', grid_result.best_params_) "
   ]
  },
  {
   "cell_type": "code",
   "execution_count": 10,
   "id": "dd1d1f70-d88e-42f8-84f1-aa10d9c31da6",
   "metadata": {},
   "outputs": [
    {
     "name": "stdout",
     "output_type": "stream",
     "text": [
      "Fitting 10 folds for each of 144 candidates, totalling 1440 fits\n",
      "Best Score:  0.9285199932226365\n",
      "Best Params:  {'alpha': 0.001, 'loss': 'hinge', 'max_iter': 100000, 'n_jobs': -1, 'penalty': 'l2'}\n",
      "Fitting 10 folds for each of 144 candidates, totalling 1440 fits\n",
      "Best Score:  0.9418756353778381\n",
      "Best Params:  {'alpha': 0.0001, 'loss': 'log', 'max_iter': 1000000.0, 'n_jobs': -1, 'penalty': 'l2'}\n"
     ]
    }
   ],
   "source": [
    "penalty = ['l1', 'l2', 'elasticnet'] \n",
    "alpha = [1e-4, 1e-3, 1e-2, 1e-1, 1e0, 10]\n",
    "loss=['log', 'hinge']\n",
    "max_iter=[1000, 10000, 100000, 1e6]\n",
    "n_jobs = [-1]\n",
    "\n",
    "\n",
    "param_grid = dict(penalty=penalty, \n",
    "alpha=alpha,loss=loss,max_iter=max_iter, n_jobs=n_jobs) \n",
    "\n",
    "logistic = SGDClassifier() \n",
    "\n",
    "grid = GridSearchCV(estimator=logistic, param_grid=param_grid, scoring='roc_auc', verbose=1, n_jobs=-1, cv = 10) \n",
    "\n",
    "for features in (train) : \n",
    "    grid_result = grid.fit(features, Y_train) \n",
    "    print('Best Score: ', grid_result.best_score_) \n",
    "    print('Best Params: ', grid_result.best_params_) "
   ]
  },
  {
   "cell_type": "code",
   "execution_count": 11,
   "id": "acfee99b-0708-41af-8c37-30ab0df9ab5e",
   "metadata": {},
   "outputs": [
    {
     "name": "stdout",
     "output_type": "stream",
     "text": [
      "Accuracy:0.9508333333333333\n"
     ]
    }
   ],
   "source": [
    "clf = LogisticRegression(random_state=0, solver='lbfgs',C = 10, penalty='l2').fit(X_train_tfidf, Y_train)\n",
    "predicted = clf.predict(X_test_tfidf)\n",
    "print('Accuracy:{}'.format(np.mean(predicted == Y_test)))"
   ]
  },
  {
   "cell_type": "code",
   "execution_count": 12,
   "id": "dcf6f2e2-b317-41aa-89ea-b2225e1e8fb0",
   "metadata": {},
   "outputs": [
    {
     "name": "stdout",
     "output_type": "stream",
     "text": [
      "['gases' 'fuels' 'diesel' 'greenhouse gases' 'levels' 'increase' 'gas'\n",
      " 'warmer' 'carbon tax' '2010' 'climate change' 'precipitation' 'emission'\n",
      " 'change' 'glaciers' 'policy' 'GHG' 'global warming' 'global' 'greenhouse'\n",
      " 'cap' 'temperatures' 'Glacier' 'warming' 'increased' 'fuel' 'carbon'\n",
      " 'climate' 'Climate' 'emissions']\n"
     ]
    }
   ],
   "source": [
    "coefs=clf.coef_[0]\n",
    "top_three = np.argpartition(coefs, -30)[-30:]\n",
    "print(np.array(vectorizer.get_feature_names_out())[top_three])"
   ]
  },
  {
   "cell_type": "code",
   "execution_count": 13,
   "id": "6eda2d28-78b7-421a-8768-1e59aa003f24",
   "metadata": {},
   "outputs": [
    {
     "name": "stdout",
     "output_type": "stream",
     "text": [
      "Accuracy:0.95\n"
     ]
    }
   ],
   "source": [
    "clf_sdg = SGDClassifier(loss=\"log\", penalty=\"l2\", alpha = 0.0001,   max_iter=1e6, n_jobs=-1).fit(X_train_tfidf, Y_train)\n",
    "predicted = clf_sdg.predict(X_test_tfidf)\n",
    "print('Accuracy:{}'.format(np.mean(predicted == Y_test)))"
   ]
  },
  {
   "cell_type": "code",
   "execution_count": 14,
   "id": "bcb05b20-7ce8-4814-9a49-972bd42954f5",
   "metadata": {},
   "outputs": [
    {
     "name": "stdout",
     "output_type": "stream",
     "text": [
      "['increase' '2010' 'precipitation' 'CO' 'gases' 'temperature'\n",
      " 'greenhouse gases' 'change' 'levels' 'temperatures' 'warmer' 'warming'\n",
      " 'emission' 'Climate' 'emissions' 'increased' 'policy' 'GHG' 'climate'\n",
      " 'cap' 'diesel' 'greenhouse' 'fuel' 'carbon' 'fuels' 'global warming'\n",
      " 'global' 'glaciers' 'gas' 'Glacier']\n"
     ]
    }
   ],
   "source": [
    "coefs_sdg=clf_sdg.coef_[0]\n",
    "top_three_sdg = np.argpartition(coefs_sdg, -30)[-30:]\n",
    "\n",
    "print(np.array(vectorizer.get_feature_names_out())[top_three_sdg])"
   ]
  },
  {
   "cell_type": "code",
   "execution_count": 16,
   "id": "90f3931d-329a-43da-9d41-c425d6d718ba",
   "metadata": {},
   "outputs": [],
   "source": [
    "keywords = np.array(vectorizer.get_feature_names_out())[top_three]\n",
    "keywords=np.delete(keywords, [4, 5, 9, 15, 18, 24])"
   ]
  },
  {
   "cell_type": "code",
   "execution_count": 17,
   "id": "28c9603d-1216-4489-ab78-13bfb242a152",
   "metadata": {},
   "outputs": [
    {
     "data": {
      "text/plain": [
       "array(['gases', 'fuels', 'diesel', 'greenhouse gases', 'gas', 'warmer',\n",
       "       'carbon tax', 'climate change', 'precipitation', 'emission',\n",
       "       'change', 'glaciers', 'GHG', 'global warming', 'greenhouse', 'cap',\n",
       "       'temperatures', 'Glacier', 'warming', 'fuel', 'carbon', 'climate',\n",
       "       'Climate', 'emissions'], dtype=object)"
      ]
     },
     "execution_count": 17,
     "metadata": {},
     "output_type": "execute_result"
    }
   ],
   "source": [
    "keywords"
   ]
  },
  {
   "cell_type": "markdown",
   "id": "4cda5565-556e-48cc-b50a-e75d4015575e",
   "metadata": {},
   "source": [
    "> #### B/ Recover climate quotation from Quotebank"
   ]
  },
  {
   "cell_type": "code",
   "execution_count": 3,
   "id": "b031381d-12de-49d0-beb2-11debbae3192",
   "metadata": {},
   "outputs": [],
   "source": [
    "def chunk_filtering(chunk, lst):\n",
    "    template=[] #Creation of an empty list :it's always cheaper to append to a list and create a DataFrame than append on a empty dataframe.\n",
    "    for i in lst: \n",
    "        template.append(chunk.loc[chunk[\"quotation\"].apply(lambda x : i in x) & \n",
    "                                  chunk[\"speaker\"].apply(lambda x: x!= \"None\")&\n",
    "                                  chunk[\"qids\"].apply(lambda x: len(np.array(x))==1)].drop(['phase'], axis=1))\n",
    "        #Select quotations with value in speaker column different from 'None' and quotations containing the key word and drop Phase column. \n",
    "        #As the speaker is identified by their name and not their QID, we select the ones that have a unique QID to facilitate our analysis.\n",
    "        \n",
    "    return (pd.concat(template, ignore_index=True))# return a dataframe with our data of interest"
   ]
  },
  {
   "cell_type": "code",
   "execution_count": 6,
   "id": "7fcbcd14-ca03-4df4-983f-ad2b844a5d62",
   "metadata": {},
   "outputs": [],
   "source": [
    "dico={} #We create a dictonary to loop over our years. \n",
    "for date in [2020, 2019, 2018, 2017, 2016, 2015]:\n",
    "    dico[date] = pd.read_json(f'data/quotes-{date}.json.bz2', lines=True, compression='bz2', chunksize=1000)"
   ]
  },
  {
   "cell_type": "code",
   "execution_count": 7,
   "id": "7904c1b3-2210-480c-9f6c-ee5576e8330d",
   "metadata": {},
   "outputs": [],
   "source": [
    "for date, df in dico.items() : \n",
    "    for i, chunk in enumerate(df) : \n",
    "        chunk_clean=chunk_filtering(chunk, keywords) #recover interested row of the chunk\n",
    "        header = i == 0 #we kept the name of the column only for the first chunk\n",
    "        mode = 'w' if i == 0 else 'a' # For appending data to an existing CSV file (so for every chunk exepct the first one), \n",
    "                                        #we can use mode = a\n",
    "            \n",
    "        chunk_clean.to_csv(path_or_buf=f\"data/clean_quotes-{date}.bz2\",compression='bz2',header=header, mode=mode, index = False ) #Load to CSV."
   ]
  },
  {
   "cell_type": "code",
   "execution_count": 36,
   "id": "139e7ea8-90f5-46df-9dbf-141297edba9a",
   "metadata": {},
   "outputs": [],
   "source": [
    "dico_clean={} \n",
    "length = 0\n",
    "for date in [2020, 2019, 2018, 2017, 2016, 2015]:\n",
    "    dico_clean[date] = pd.read_csv(f'data/clean_quotes-{date}.bz2', compression='bz2')\n",
    "    length += len(dico_clean[date]) #The length is used here to obtain the total number of quotes. "
   ]
  },
  {
   "cell_type": "code",
   "execution_count": 9,
   "id": "12781cd5-f83d-4297-b58a-1e06a212bca4",
   "metadata": {},
   "outputs": [
    {
     "name": "stdout",
     "output_type": "stream",
     "text": [
      " At result, we extracted 131472 quotes fromes quotebank data\n"
     ]
    }
   ],
   "source": [
    "print(\" At result, we extracted {} quotes fromes quotebank data\".format(length))"
   ]
  },
  {
   "cell_type": "markdown",
   "id": "de2ebf7f-c01e-443b-980a-354e326d4b9c",
   "metadata": {},
   "source": [
    "Even with key_word selection we success to extract a satisfying quantity of data from the Quotebank data. "
   ]
  },
  {
   "cell_type": "markdown",
   "id": "26bae988-491b-4a10-bf08-0f1e6e076c22",
   "metadata": {},
   "source": [
    "> ##### B/ Select data representative for climate septic"
   ]
  },
  {
   "cell_type": "markdown",
   "id": "aa4572fa-ffe1-4abc-8bc0-f911d039ad5c",
   "metadata": {},
   "source": [
    "We want to asses climate scepticism among our speakers. We selected 10 speakers that are said to be climate sceptic according to https://www.businessinsider.com/the-ten-most-important-climate-change-skeptics-2009-7?IR=T#dont-miss-11. We are going to create a list of keywords based on quotes from these speakers. "
   ]
  },
  {
   "cell_type": "code",
   "execution_count": 10,
   "id": "dde1b1e3-28b0-49e3-a1ca-9723b945ecea",
   "metadata": {
    "tags": []
   },
   "outputs": [],
   "source": [
    "lst = ['Freeman Dyson', 'Bjorn Lomborg', 'Myron Ebell', 'Kiminori Itoh', 'Ivar Giaever', \n",
    "       'Will Happer', 'Ian Plimer', 'Michael Chrichton', 'Alan Carlin', 'Patrick Michaels'] #list of the name taken from the article\n",
    "#iteration in the list of name in order to find if our people of interest are in our quotes list and \n",
    "#we then create one df per year with their correspondings quotes\n",
    "\n",
    "template = []\n",
    "dico={2020 : quotes_2020, 2019 : quotes_2019, 2018 : quotes_2018, 2017 : quotes_2017, 2016 : quotes_2016, 2015 : quotes_2015}\n",
    "\n",
    "for key, quotes in dico.items():\n",
    "    for i in lst: #Here, we are establishing the list of quotes said by our speakers of interest.\n",
    "        template.append(quotes.loc[quotes['speaker'].apply(lambda x : i == x)])  \n",
    "    df_quotes= pd.concat(template, ignore_index=True) #return a dataframe containg all of our quotes of interest."
   ]
  },
  {
   "cell_type": "code",
   "execution_count": 15,
   "id": "1fd5e9f0-3951-46a8-838f-34f4548f150c",
   "metadata": {},
   "outputs": [
    {
     "name": "stderr",
     "output_type": "stream",
     "text": [
      "[nltk_data] Downloading package punkt to\n",
      "[nltk_data]     /Users/virginiegarnier/nltk_data...\n",
      "[nltk_data]   Package punkt is already up-to-date!\n",
      "[nltk_data] Downloading package words to\n",
      "[nltk_data]     /Users/virginiegarnier/nltk_data...\n",
      "[nltk_data]   Package words is already up-to-date!\n",
      "[nltk_data] Downloading package stopwords to\n",
      "[nltk_data]     /Users/virginiegarnier/nltk_data...\n",
      "[nltk_data]   Unzipping corpora/stopwords.zip.\n"
     ]
    }
   ],
   "source": [
    "import nltk\n",
    "import nltk.corpus\n",
    "from nltk.tokenize import word_tokenize \n",
    "nltk.download('punkt')\n",
    "from nltk.probability import FreqDist\n",
    "nltk.download('words')\n",
    "import string\n",
    "from nltk import word_tokenize\n",
    "from nltk.corpus import stopwords\n",
    "nltk.download('stopwords')\n",
    "\n",
    "#two functions to asses the highest frequency of word appearance\n",
    "a = set(stopwords.words('english'))\n",
    "\n",
    "def remov_punc(lst): #removes the punctuations from a sentence\n",
    "    punc = '''!()-[]{};:'\"\\,<>./?@#$%^&*_°~''' #list of punctuations \n",
    "    remov_punc = []\n",
    "    t = 0\n",
    "    \n",
    "    for i in lst :\n",
    "        t=t+1\n",
    "        for d in i:\n",
    "            if d in punc:\n",
    "                i = i.replace(d, \" \")\n",
    "        remov_punc.append(i)\n",
    "    return remov_punc\n",
    "    \n",
    "def words_freq(lst): #calculate each word frequency\n",
    "    ls=[]\n",
    "    for i in lst: \n",
    "        text = i\n",
    "        text1 = word_tokenize(text.lower())\n",
    "        imp_words = [x for x in text1 if x not in a]\n",
    "        ls.append(imp_words)\n",
    "    return ls\n",
    "\n",
    "def words__highest_freq(lst): #return the highest word frequency\n",
    "    ls_freq = []\n",
    "    for i in lst: \n",
    "        fdist = FreqDist(i)\n",
    "        fdist1 = fdist.most_common(1)\n",
    "        ls_freq.append(fdist1)\n",
    "    return ls_freq #this is a list with the highest frequency for each most written words\n",
    "\n"
   ]
  },
  {
   "cell_type": "code",
   "execution_count": 16,
   "id": "78c5a5d9-8fcf-48dd-8c69-f7b2dc2aec91",
   "metadata": {},
   "outputs": [
    {
     "data": {
      "text/plain": [
       "['science',\n",
       " 'increasing',\n",
       " 'local',\n",
       " 'demonstration',\n",
       " 'climate',\n",
       " 'energy',\n",
       " 'emissions',\n",
       " 'power',\n",
       " 'degrees',\n",
       " 'percent',\n",
       " 'c',\n",
       " 'silly',\n",
       " 'paris',\n",
       " 'co2',\n",
       " 'consensus',\n",
       " 'global',\n",
       " 'effects',\n",
       " 'models',\n",
       " 'r',\n",
       " 'ipcc',\n",
       " 'years',\n",
       " 'year']"
      ]
     },
     "execution_count": 16,
     "metadata": {},
     "output_type": "execute_result"
    }
   ],
   "source": [
    "#construct lists with all the words frquency\n",
    "list_quotes=df_quotes['quotation'].tolist()\n",
    "w_freq= words_freq(remov_punc(list_quotes))\n",
    "w_h_freq = words__highest_freq(w_freq)\n",
    "w_h_freq\n",
    "\n",
    "keywords_sceptic = []\n",
    "\n",
    "for i in w_h_freq: #keep the highest frequency \n",
    "    for d in i: \n",
    "        if d[1] >=3 : \n",
    "            if d[0] not in keywords_sceptic:\n",
    "                keywords_sceptic.append(d[0])\n",
    "        \n",
    "keywords_sceptic #our list of keywords according to their representation in the climate sceptic speaker quotations"
   ]
  },
  {
   "cell_type": "markdown",
   "id": "b4d24a82-2bcb-4856-b2e4-900d6274efe7",
   "metadata": {},
   "source": [
    "As we can see, our list contains characters, and worlds there were already present in the keywords \n",
    "used to find climate-change related quote. We will remove them from this list. We are aware that \n",
    "this method is very unprecised and biased, a large part of our M3 will be dedicated to quote sorting \n",
    "based on climate change-scepticism criteria. "
   ]
  },
  {
   "cell_type": "code",
   "execution_count": 18,
   "id": "a2698d07-0a2b-4f17-8b72-5cde0a3383cc",
   "metadata": {},
   "outputs": [],
   "source": [
    "list_to_remove=['c', 'r', 'climate', 'energy', 'co2'] #List of worlds we want to remove\n",
    "for world in list_to_remove:\n",
    "    keywords_sceptic.remove(world)"
   ]
  },
  {
   "cell_type": "code",
   "execution_count": 19,
   "id": "ca98375d-34f2-4c77-853e-14759094fb78",
   "metadata": {},
   "outputs": [
    {
     "data": {
      "text/plain": [
       "['science',\n",
       " 'increasing',\n",
       " 'local',\n",
       " 'demonstration',\n",
       " 'emissions',\n",
       " 'power',\n",
       " 'degrees',\n",
       " 'percent',\n",
       " 'silly',\n",
       " 'paris',\n",
       " 'consensus',\n",
       " 'global',\n",
       " 'effects',\n",
       " 'models',\n",
       " 'ipcc',\n",
       " 'years',\n",
       " 'year']"
      ]
     },
     "execution_count": 19,
     "metadata": {},
     "output_type": "execute_result"
    }
   ],
   "source": [
    "keywords_sceptic #Final keywords to select our climate change skeptic quotes. "
   ]
  },
  {
   "cell_type": "code",
   "execution_count": 20,
   "id": "be3d1d13-7047-4866-a783-c66e35b235de",
   "metadata": {},
   "outputs": [],
   "source": [
    "dico={}\n",
    "for date in [2020, 2019, 2018, 2017, 2016, 2015]:\n",
    "    dico[date] = pd.read_json(f'data/quotes-{date}.json.bz2', lines=True, compression='bz2', chunksize=1000)"
   ]
  },
  {
   "cell_type": "markdown",
   "id": "3935b063-adaa-433f-bd3f-61c379a1f083",
   "metadata": {},
   "source": [
    "Now we load our data with this new list of keywords. We use the same technique as above. "
   ]
  },
  {
   "cell_type": "code",
   "execution_count": 21,
   "id": "a8788628-8a0b-4800-aeb7-f456beb3ca37",
   "metadata": {
    "tags": []
   },
   "outputs": [],
   "source": [
    "for date, df in dico.items() : \n",
    "    for i, chunk in enumerate(df) : \n",
    "        chunk_clean=chunk_filtering(chunk, keywords_sceptic) #recover interested row of the chunk\n",
    "        header = i == 0 #we kept the name of the column only for the first chunk\n",
    "        mode = 'w' if i == 0 else 'a' # For appending data to an existing CSV file (so for every chunk exepct the first one), \n",
    "                                        #we can use mode = a\n",
    "            \n",
    "        chunk_clean.to_csv(path_or_buf=f\"data/clean_quotes_sceptic-{date}.bz2\",compression='bz2',header=header, mode=mode, index = False )"
   ]
  },
  {
   "cell_type": "code",
   "execution_count": 22,
   "id": "d8f66b6d-613c-4373-a399-af77cfaddbfa",
   "metadata": {
    "tags": []
   },
   "outputs": [],
   "source": [
    "dico_skeptic={}\n",
    "length=0\n",
    "for date in [2020, 2019, 2018, 2017, 2016, 2015]:\n",
    "    dico_skeptic[date] = pd.read_csv(f'data/clean_quotes_sceptic-{date}.bz2', compression='bz2')\n",
    "    length += len(dico_skeptic[date])"
   ]
  },
  {
   "cell_type": "code",
   "execution_count": 24,
   "id": "ebc7bfdd-a220-480e-b91e-731961c46766",
   "metadata": {},
   "outputs": [
    {
     "name": "stdout",
     "output_type": "stream",
     "text": [
      " At result, we extracted 6503877 quotes fromes quotebank data\n"
     ]
    }
   ],
   "source": [
    "print(\" At result, we extracted {} quotes fromes quotebank data\".format(length))"
   ]
  },
  {
   "cell_type": "markdown",
   "id": "7b952ee9-74e5-4adf-8b9d-91751fc92176",
   "metadata": {},
   "source": [
    "As we can see, we have a very large number of quotes compared to our climate-related set. This highlights problems in our methods to identify climate change skeptical quotes. Once again, a large portion of our M3 will be dedicated to improve on that. "
   ]
  },
  {
   "cell_type": "markdown",
   "id": "f52a6a56-c643-4f00-8e53-72611156d0f5",
   "metadata": {
    "tags": []
   },
   "source": [
    "## Load additional data Relative to speakers"
   ]
  },
  {
   "cell_type": "markdown",
   "id": "ca79c6a1-b624-41a9-856b-5b5a014b9d0a",
   "metadata": {},
   "source": [
    "### Extracted labels from QID "
   ]
  },
  {
   "cell_type": "markdown",
   "id": "b5adca85-ec46-4904-b3c5-0395e659767a",
   "metadata": {},
   "source": [
    "The provided speaker_attributes.parquet file contains attributes in terms of QIDs, thereby being uninterpretable by humans (df_qid).\n",
    "To map the QIDs to meaningful labels, we used the provided wikidata_labels_descriptions_quotebank.csv.bz2 containing the label and value for the respective QID containing the df_qid (df_label_qid).\n",
    "By combining the information of both we can obtained usefull information about speakers. "
   ]
  },
  {
   "cell_type": "markdown",
   "id": "914c57ef-174f-4975-a837-4833ad5eb0da",
   "metadata": {},
   "source": [
    "#### *Load parquet file*"
   ]
  },
  {
   "cell_type": "code",
   "execution_count": 25,
   "id": "280f0f07-1673-4e62-a70f-81296b7db81b",
   "metadata": {},
   "outputs": [],
   "source": [
    "#Loading our speakers attribute dataset, and the dataset necessary to interpret our QIDs.\n",
    "df_qid = pd.read_parquet(\"speaker_attributes.parquet\",engine= \"pyarrow\" )\n",
    "df_label_qid = pd.read_csv('data/wikidata_labels_descriptions_quotebank.csv.bz2', compression='bz2', index_col='QID')"
   ]
  },
  {
   "cell_type": "markdown",
   "id": "188fd90e-a183-4ade-aa7d-15ecb3026eb6",
   "metadata": {},
   "source": [
    "#### *Somes visualisation and sort of the parquet file*"
   ]
  },
  {
   "cell_type": "markdown",
   "id": "6498a207-69dc-4988-82c2-7174093ea71f",
   "metadata": {},
   "source": [
    "First let's check if the identifier are unique."
   ]
  },
  {
   "cell_type": "code",
   "execution_count": 26,
   "id": "4c2170ea-6bf9-4df5-81e8-59ece97ad890",
   "metadata": {},
   "outputs": [
    {
     "data": {
      "text/plain": [
       "True"
      ]
     },
     "execution_count": 26,
     "metadata": {},
     "output_type": "execute_result"
    }
   ],
   "source": [
    "df_qid.id.is_unique"
   ]
  },
  {
   "cell_type": "markdown",
   "id": "8d2db133-e8c3-43aa-ae20-07ded9ad40a7",
   "metadata": {},
   "source": [
    "Before extract the label of QID, let's check which column we want to keep in frame with our project."
   ]
  },
  {
   "cell_type": "code",
   "execution_count": 27,
   "id": "34b98c8e-74a1-44c5-bc6e-395b22c4440b",
   "metadata": {},
   "outputs": [
    {
     "data": {
      "text/html": [
       "<div>\n",
       "<style scoped>\n",
       "    .dataframe tbody tr th:only-of-type {\n",
       "        vertical-align: middle;\n",
       "    }\n",
       "\n",
       "    .dataframe tbody tr th {\n",
       "        vertical-align: top;\n",
       "    }\n",
       "\n",
       "    .dataframe thead th {\n",
       "        text-align: right;\n",
       "    }\n",
       "</style>\n",
       "<table border=\"1\" class=\"dataframe\">\n",
       "  <thead>\n",
       "    <tr style=\"text-align: right;\">\n",
       "      <th></th>\n",
       "      <th>aliases</th>\n",
       "      <th>date_of_birth</th>\n",
       "      <th>nationality</th>\n",
       "      <th>gender</th>\n",
       "      <th>lastrevid</th>\n",
       "      <th>ethnic_group</th>\n",
       "      <th>US_congress_bio_ID</th>\n",
       "      <th>occupation</th>\n",
       "      <th>party</th>\n",
       "      <th>academic_degree</th>\n",
       "      <th>id</th>\n",
       "      <th>label</th>\n",
       "      <th>candidacy</th>\n",
       "      <th>type</th>\n",
       "      <th>religion</th>\n",
       "    </tr>\n",
       "  </thead>\n",
       "  <tbody>\n",
       "    <tr>\n",
       "      <th>0</th>\n",
       "      <td>[Washington, President Washington, G. Washingt...</td>\n",
       "      <td>[+1732-02-22T00:00:00Z]</td>\n",
       "      <td>[Q161885, Q30]</td>\n",
       "      <td>[Q6581097]</td>\n",
       "      <td>1395141751</td>\n",
       "      <td>None</td>\n",
       "      <td>W000178</td>\n",
       "      <td>[Q82955, Q189290, Q131512, Q1734662, Q294126, ...</td>\n",
       "      <td>[Q327591]</td>\n",
       "      <td>None</td>\n",
       "      <td>Q23</td>\n",
       "      <td>George Washington</td>\n",
       "      <td>[Q698073, Q697949]</td>\n",
       "      <td>item</td>\n",
       "      <td>[Q682443]</td>\n",
       "    </tr>\n",
       "    <tr>\n",
       "      <th>1</th>\n",
       "      <td>[Douglas Noel Adams, Douglas Noël Adams, Dougl...</td>\n",
       "      <td>[+1952-03-11T00:00:00Z]</td>\n",
       "      <td>[Q145]</td>\n",
       "      <td>[Q6581097]</td>\n",
       "      <td>1395737157</td>\n",
       "      <td>[Q7994501]</td>\n",
       "      <td>None</td>\n",
       "      <td>[Q214917, Q28389, Q6625963, Q4853732, Q1884422...</td>\n",
       "      <td>None</td>\n",
       "      <td>None</td>\n",
       "      <td>Q42</td>\n",
       "      <td>Douglas Adams</td>\n",
       "      <td>None</td>\n",
       "      <td>item</td>\n",
       "      <td>None</td>\n",
       "    </tr>\n",
       "    <tr>\n",
       "      <th>2</th>\n",
       "      <td>[Paul Marie Ghislain Otlet, Paul Marie Otlet]</td>\n",
       "      <td>[+1868-08-23T00:00:00Z]</td>\n",
       "      <td>[Q31]</td>\n",
       "      <td>[Q6581097]</td>\n",
       "      <td>1380367296</td>\n",
       "      <td>None</td>\n",
       "      <td>None</td>\n",
       "      <td>[Q36180, Q40348, Q182436, Q1265807, Q205375, Q...</td>\n",
       "      <td>None</td>\n",
       "      <td>None</td>\n",
       "      <td>Q1868</td>\n",
       "      <td>Paul Otlet</td>\n",
       "      <td>None</td>\n",
       "      <td>item</td>\n",
       "      <td>None</td>\n",
       "    </tr>\n",
       "  </tbody>\n",
       "</table>\n",
       "</div>"
      ],
      "text/plain": [
       "                                             aliases            date_of_birth  \\\n",
       "0  [Washington, President Washington, G. Washingt...  [+1732-02-22T00:00:00Z]   \n",
       "1  [Douglas Noel Adams, Douglas Noël Adams, Dougl...  [+1952-03-11T00:00:00Z]   \n",
       "2      [Paul Marie Ghislain Otlet, Paul Marie Otlet]  [+1868-08-23T00:00:00Z]   \n",
       "\n",
       "      nationality      gender   lastrevid ethnic_group US_congress_bio_ID  \\\n",
       "0  [Q161885, Q30]  [Q6581097]  1395141751         None            W000178   \n",
       "1          [Q145]  [Q6581097]  1395737157   [Q7994501]               None   \n",
       "2           [Q31]  [Q6581097]  1380367296         None               None   \n",
       "\n",
       "                                          occupation      party  \\\n",
       "0  [Q82955, Q189290, Q131512, Q1734662, Q294126, ...  [Q327591]   \n",
       "1  [Q214917, Q28389, Q6625963, Q4853732, Q1884422...       None   \n",
       "2  [Q36180, Q40348, Q182436, Q1265807, Q205375, Q...       None   \n",
       "\n",
       "  academic_degree     id              label           candidacy  type  \\\n",
       "0            None    Q23  George Washington  [Q698073, Q697949]  item   \n",
       "1            None    Q42      Douglas Adams                None  item   \n",
       "2            None  Q1868         Paul Otlet                None  item   \n",
       "\n",
       "    religion  \n",
       "0  [Q682443]  \n",
       "1       None  \n",
       "2       None  "
      ]
     },
     "execution_count": 27,
     "metadata": {},
     "output_type": "execute_result"
    }
   ],
   "source": [
    "df_qid.head(3)"
   ]
  },
  {
   "cell_type": "markdown",
   "id": "a524d4e3-29a4-49eb-b646-c6fc63e54220",
   "metadata": {},
   "source": [
    "Let's verify that academic_degree has revelant values."
   ]
  },
  {
   "cell_type": "code",
   "execution_count": 28,
   "id": "293730b9-06ea-4bfd-909e-ab8a7cb806a1",
   "metadata": {},
   "outputs": [
    {
     "name": "stdout",
     "output_type": "stream",
     "text": [
      "There's no academic degree revelant value ? False\n"
     ]
    }
   ],
   "source": [
    "print(\"There's no academic degree revelant value ? {}\".format(all(df_qid.academic_degree.isna())))"
   ]
  },
  {
   "cell_type": "markdown",
   "id": "573efeb6-dd9b-4121-8e10-d926f222795d",
   "metadata": {},
   "source": [
    "It seems that academic degree values are revelant, we decided to drop lastrevid, US_congress_bio_ID, type, Alisiase as they will not be used in our project."
   ]
  },
  {
   "cell_type": "code",
   "execution_count": 29,
   "id": "677d65e5-50ff-480a-b5ae-6f7d18551117",
   "metadata": {},
   "outputs": [],
   "source": [
    "df_qid.drop(['lastrevid', 'US_congress_bio_ID', 'type', 'aliases'], axis=1, inplace=True)"
   ]
  },
  {
   "cell_type": "markdown",
   "id": "b0c49349-c401-4036-820d-3e11bcd30e56",
   "metadata": {},
   "source": [
    "#### *Transformation of the df_qid with the label value from df_label_qid*"
   ]
  },
  {
   "cell_type": "code",
   "execution_count": 30,
   "id": "6cc78a55-e296-45f5-beb7-0bd02275b30c",
   "metadata": {},
   "outputs": [],
   "source": [
    "#We found that one of the QID was deleted from Wikidata. We will start by dropping this value, so that it does not distrurb our labelling. \n",
    "\n",
    "def transform(y):\n",
    "    if y is None: return None\n",
    "    x = set(y)\n",
    "    x.discard(\"Q99753484\")\n",
    "    return np.array(list(x))\n",
    "    \n",
    "df_qid['occupation']=df_qid['occupation'].apply(lambda y : transform(y))"
   ]
  },
  {
   "cell_type": "code",
   "execution_count": 31,
   "id": "93b693da-56ee-4eaa-91a8-b6cd1a5e4201",
   "metadata": {},
   "outputs": [],
   "source": [
    "#We found out that some of the QIDs used in the speaker attribute file are actually redirection from an original QID. \n",
    "#We will manulally add their corresponding information using the orginal QID. We found the corespondance manualy between the two. \n",
    "#Here, there are in order, respectively the redirection QID, and its corresponding original one. One of he QID was only present \n",
    "#as a redirection, so we manually added this one (Q3186984), and its corresponding info. \n",
    "\n",
    "redirect_QID=['Q3268166', 'Q11815360', 'Q12014399', 'Q16287483',\n",
    "              'Q20432251', 'Q21550646', 'Q13365117', 'Q13424794',\n",
    "             'Q1248362', 'Q6859927', 'Q15145782',\n",
    "             'Q15991263', 'Q12455619', 'Q5568256', \n",
    "             'Q6363085', 'Q11819457', 'Q12334852', 'Q15145783']\n",
    "actual_QID=['Q1113899', 'Q1919436', 'Q250867', 'Q6051619',\n",
    "             'Q26934816', 'Q18431816', 'Q12840545', 'Q5157338',\n",
    "            'Q3455803', 'Q715222', 'Q1052281',\n",
    "            'Q2743689', 'Q7019111', 'Q3738699', \n",
    "            'Q380075', 'Q3391743', 'Q476246', 'Q2449503']\n",
    "\n",
    "\n",
    "lst=[['Journalist', 'monthly magazine of the United Kingdom‘s National Union of Journalists (NUJ)']]\n",
    "indexes=['Q3186984']\n",
    "col=['Label', 'Description']\n",
    "for i in range(len(redirect_QID)):\n",
    "    lst.append([df_label_qid.loc[actual_QID[i]]['Label'], \n",
    "                df_label_qid.loc[actual_QID[i]]['Description']])\n",
    "    indexes.append(redirect_QID[i])\n",
    "\n",
    "additional_df= pd.DataFrame(lst, columns= col, index=indexes)\n",
    "df_label=df_label_qid.append(additional_df, ignore_index= False)"
   ]
  },
  {
   "cell_type": "code",
   "execution_count": 32,
   "id": "c57de3a5-d299-46c2-b909-d7e2eda2a586",
   "metadata": {},
   "outputs": [],
   "source": [
    "#Applying the function to every column containing QIDs. \n",
    "cols=['nationality', 'gender', 'ethnic_group','occupation', 'party', 'academic_degree', 'candidacy', 'religion'] #List of columns \n",
    "#containing QID to be replace\n",
    "\n",
    "df_qid[cols] = df_qid[cols].applymap(lambda d: d if d is not None else []) #Replacing every None value with an empty list for futur analysis.\n",
    "df_qid[cols] = df_qid[cols].applymap(lambda y: [df_label.loc[Q].Label for Q in y]) #Replacing QIDs with their corresponding label."
   ]
  },
  {
   "cell_type": "markdown",
   "id": "c7983c6a-9c8e-4dce-b7a1-c1f64939199a",
   "metadata": {},
   "source": [
    "### Let's have additional data (skeptic/climate)"
   ]
  },
  {
   "cell_type": "markdown",
   "id": "deeefadd-c452-4dae-b94d-b24b6aac0e9e",
   "metadata": {},
   "source": [
    "Now, we want to see which speakers said quotes that we consider as climate-related and climate change sceptical. We will match speaker from the df_qid with a value septic/climate. We will add two boolean columns to our dataframe df_qid: one for climate-related, and one for climate change sceptical. In order to do that, we will select every QID that appears in our list of climate-related-quotes and climat-change-sceptical quotes"
   ]
  },
  {
   "cell_type": "markdown",
   "id": "6515d461-71da-4470-aa9c-7f0ee0f14ad0",
   "metadata": {},
   "source": [
    "#### *Qid_climate list*"
   ]
  },
  {
   "cell_type": "code",
   "execution_count": 37,
   "id": "3cb4094a-b48b-4837-a1f3-933d6dffa411",
   "metadata": {},
   "outputs": [],
   "source": [
    "qid_climate=[]\n",
    "\n",
    "#iteration in the dico_clean containing extracted files for climate involved quotes\n",
    "for key, file in dico_clean.items() :\n",
    "    qid_climate.append(file.drop_duplicates(['qids'], keep='first')['qids'].map(lambda y : ast.literal_eval(y)[0]).tolist()) #add unique QIDs from each file\n",
    "qid_climate=set(item for sublist in qid_climate for item in sublist)#create a set with unique QIDs from each year/file."
   ]
  },
  {
   "cell_type": "code",
   "execution_count": 41,
   "id": "79aadf56-76c5-41ba-9401-2fa9515cb0fb",
   "metadata": {},
   "outputs": [
    {
     "name": "stdout",
     "output_type": "stream",
     "text": [
      "We extracted 28289 QIDs related to speakers that talk about climate\n"
     ]
    }
   ],
   "source": [
    "print(\"We extracted {} QIDs related to speakers that talk about climate.\".format(len(qid_climate)))"
   ]
  },
  {
   "cell_type": "markdown",
   "id": "bc64190c-d286-46ea-a7d7-b7da92694c60",
   "metadata": {},
   "source": [
    "#### *Qid_skeptic list*"
   ]
  },
  {
   "cell_type": "code",
   "execution_count": 44,
   "id": "a0b36ec4-c280-4d08-9c2c-cfee1ba1d8cb",
   "metadata": {},
   "outputs": [],
   "source": [
    "qid_skeptic=[]\n",
    "\n",
    "for key, file in dico_skeptic.items() :\n",
    "    qid_skeptic.append(file.drop_duplicates(['qids'], keep='first')['qids'].map(lambda y : ast.literal_eval(y)[0]).tolist())\n",
    "qid_skeptic=set(item for sublist in qid_skeptic for item in sublist)  "
   ]
  },
  {
   "cell_type": "code",
   "execution_count": 45,
   "id": "c5980510-ddbd-4b1b-b27f-60937600d710",
   "metadata": {},
   "outputs": [
    {
     "name": "stdout",
     "output_type": "stream",
     "text": [
      "We extracted 356771 QIDs related to speakers that we identify as climate change sceptic.\n"
     ]
    }
   ],
   "source": [
    "print(\"We extracted {} QIDs related to speakers that we identify as climate change sceptic.\".format(len(qid_skeptic)))"
   ]
  },
  {
   "cell_type": "markdown",
   "id": "e3bb6384-8a23-48f0-8c8d-d52393c89c6a",
   "metadata": {},
   "source": [
    "#### *Add an additional column to df_qid*"
   ]
  },
  {
   "cell_type": "code",
   "execution_count": 46,
   "id": "6409500f-8ac6-4871-99e6-9aa6af44ddcc",
   "metadata": {},
   "outputs": [],
   "source": [
    "df_qid['climate']=0 #create a column named climate with value equals 0\n",
    "df_qid.loc[df_qid[pd.Index(df_qid.id.isin(pd.Index(qid_climate)))].index, 'climate']=1 #replace with 1 for speakers that appear in the climate-involved quotes."
   ]
  },
  {
   "cell_type": "code",
   "execution_count": 47,
   "id": "045d62c8-30fb-47a4-8647-ca4e18cb90a6",
   "metadata": {},
   "outputs": [],
   "source": [
    "df_qid['skeptic']=0\n",
    "df_qid.loc[df_qid[pd.Index(df_qid.id.isin(pd.Index(qid_skeptic)))].index, 'skeptic']=1 #replace with 1 for speakers that appear in the climate-change skeptic quotes."
   ]
  },
  {
   "cell_type": "code",
   "execution_count": 52,
   "id": "6abf7718-97e7-47ee-ac69-d0bee4705da9",
   "metadata": {},
   "outputs": [
    {
     "data": {
      "text/html": [
       "<div>\n",
       "<style scoped>\n",
       "    .dataframe tbody tr th:only-of-type {\n",
       "        vertical-align: middle;\n",
       "    }\n",
       "\n",
       "    .dataframe tbody tr th {\n",
       "        vertical-align: top;\n",
       "    }\n",
       "\n",
       "    .dataframe thead th {\n",
       "        text-align: right;\n",
       "    }\n",
       "</style>\n",
       "<table border=\"1\" class=\"dataframe\">\n",
       "  <thead>\n",
       "    <tr style=\"text-align: right;\">\n",
       "      <th></th>\n",
       "      <th>date_of_birth</th>\n",
       "      <th>nationality</th>\n",
       "      <th>gender</th>\n",
       "      <th>ethnic_group</th>\n",
       "      <th>occupation</th>\n",
       "      <th>party</th>\n",
       "      <th>academic_degree</th>\n",
       "      <th>id</th>\n",
       "      <th>label</th>\n",
       "      <th>candidacy</th>\n",
       "      <th>religion</th>\n",
       "      <th>climate</th>\n",
       "      <th>skeptic</th>\n",
       "    </tr>\n",
       "  </thead>\n",
       "  <tbody>\n",
       "    <tr>\n",
       "      <th>8981351</th>\n",
       "      <td>None</td>\n",
       "      <td>[]</td>\n",
       "      <td>[male]</td>\n",
       "      <td>[]</td>\n",
       "      <td>[]</td>\n",
       "      <td>[]</td>\n",
       "      <td>[]</td>\n",
       "      <td>Q102124644</td>\n",
       "      <td>Pierre Rosenstiehl</td>\n",
       "      <td>[]</td>\n",
       "      <td>[]</td>\n",
       "      <td>0</td>\n",
       "      <td>0</td>\n",
       "    </tr>\n",
       "    <tr>\n",
       "      <th>3708367</th>\n",
       "      <td>[+1953-12-06T00:00:00Z]</td>\n",
       "      <td>[Sweden]</td>\n",
       "      <td>[male]</td>\n",
       "      <td>[]</td>\n",
       "      <td>[screenwriter, director, film producer]</td>\n",
       "      <td>[]</td>\n",
       "      <td>[]</td>\n",
       "      <td>Q16632973</td>\n",
       "      <td>Magnus Gertten</td>\n",
       "      <td>[]</td>\n",
       "      <td>[]</td>\n",
       "      <td>0</td>\n",
       "      <td>1</td>\n",
       "    </tr>\n",
       "    <tr>\n",
       "      <th>6451592</th>\n",
       "      <td>None</td>\n",
       "      <td>[]</td>\n",
       "      <td>[]</td>\n",
       "      <td>[]</td>\n",
       "      <td>[researcher]</td>\n",
       "      <td>[]</td>\n",
       "      <td>[]</td>\n",
       "      <td>Q85210536</td>\n",
       "      <td>Luping Li</td>\n",
       "      <td>[]</td>\n",
       "      <td>[]</td>\n",
       "      <td>0</td>\n",
       "      <td>0</td>\n",
       "    </tr>\n",
       "    <tr>\n",
       "      <th>5769807</th>\n",
       "      <td>[+1920-04-30T00:00:00Z]</td>\n",
       "      <td>[Ireland]</td>\n",
       "      <td>[male]</td>\n",
       "      <td>[]</td>\n",
       "      <td>[association football player, association foot...</td>\n",
       "      <td>[]</td>\n",
       "      <td>[]</td>\n",
       "      <td>Q3888721</td>\n",
       "      <td>Paddy Sloan</td>\n",
       "      <td>[]</td>\n",
       "      <td>[]</td>\n",
       "      <td>0</td>\n",
       "      <td>0</td>\n",
       "    </tr>\n",
       "    <tr>\n",
       "      <th>9005230</th>\n",
       "      <td>None</td>\n",
       "      <td>[]</td>\n",
       "      <td>[]</td>\n",
       "      <td>[]</td>\n",
       "      <td>[]</td>\n",
       "      <td>[]</td>\n",
       "      <td>[]</td>\n",
       "      <td>Q102428449</td>\n",
       "      <td>Terry Payne</td>\n",
       "      <td>[]</td>\n",
       "      <td>[]</td>\n",
       "      <td>0</td>\n",
       "      <td>0</td>\n",
       "    </tr>\n",
       "    <tr>\n",
       "      <th>5992530</th>\n",
       "      <td>[+1496-01-01T00:00:00Z]</td>\n",
       "      <td>[]</td>\n",
       "      <td>[male]</td>\n",
       "      <td>[]</td>\n",
       "      <td>[]</td>\n",
       "      <td>[]</td>\n",
       "      <td>[]</td>\n",
       "      <td>Q18530505</td>\n",
       "      <td>Nicholas Thorne</td>\n",
       "      <td>[]</td>\n",
       "      <td>[]</td>\n",
       "      <td>0</td>\n",
       "      <td>0</td>\n",
       "    </tr>\n",
       "    <tr>\n",
       "      <th>8739773</th>\n",
       "      <td>None</td>\n",
       "      <td>[]</td>\n",
       "      <td>[]</td>\n",
       "      <td>[]</td>\n",
       "      <td>[researcher]</td>\n",
       "      <td>[]</td>\n",
       "      <td>[]</td>\n",
       "      <td>Q87985689</td>\n",
       "      <td>G Cameron Coleman</td>\n",
       "      <td>[]</td>\n",
       "      <td>[]</td>\n",
       "      <td>0</td>\n",
       "      <td>0</td>\n",
       "    </tr>\n",
       "    <tr>\n",
       "      <th>690770</th>\n",
       "      <td>[+1717-10-04T00:00:00Z]</td>\n",
       "      <td>[]</td>\n",
       "      <td>[male]</td>\n",
       "      <td>[]</td>\n",
       "      <td>[]</td>\n",
       "      <td>[]</td>\n",
       "      <td>[]</td>\n",
       "      <td>Q75267325</td>\n",
       "      <td>Henry Arundell, 7th Baron Arundell of Wardour</td>\n",
       "      <td>[]</td>\n",
       "      <td>[]</td>\n",
       "      <td>0</td>\n",
       "      <td>0</td>\n",
       "    </tr>\n",
       "    <tr>\n",
       "      <th>8783564</th>\n",
       "      <td>None</td>\n",
       "      <td>[]</td>\n",
       "      <td>[]</td>\n",
       "      <td>[]</td>\n",
       "      <td>[researcher]</td>\n",
       "      <td>[]</td>\n",
       "      <td>[]</td>\n",
       "      <td>Q90581494</td>\n",
       "      <td>Pascal Pas</td>\n",
       "      <td>[]</td>\n",
       "      <td>[]</td>\n",
       "      <td>0</td>\n",
       "      <td>0</td>\n",
       "    </tr>\n",
       "    <tr>\n",
       "      <th>8258757</th>\n",
       "      <td>[+1898-04-11T00:00:00Z]</td>\n",
       "      <td>[United Kingdom]</td>\n",
       "      <td>[male]</td>\n",
       "      <td>[]</td>\n",
       "      <td>[Esperantist]</td>\n",
       "      <td>[]</td>\n",
       "      <td>[]</td>\n",
       "      <td>Q18546570</td>\n",
       "      <td>Frank Reginald Banham</td>\n",
       "      <td>[]</td>\n",
       "      <td>[]</td>\n",
       "      <td>0</td>\n",
       "      <td>0</td>\n",
       "    </tr>\n",
       "  </tbody>\n",
       "</table>\n",
       "</div>"
      ],
      "text/plain": [
       "                   date_of_birth       nationality  gender ethnic_group  \\\n",
       "8981351                     None                []  [male]           []   \n",
       "3708367  [+1953-12-06T00:00:00Z]          [Sweden]  [male]           []   \n",
       "6451592                     None                []      []           []   \n",
       "5769807  [+1920-04-30T00:00:00Z]         [Ireland]  [male]           []   \n",
       "9005230                     None                []      []           []   \n",
       "5992530  [+1496-01-01T00:00:00Z]                []  [male]           []   \n",
       "8739773                     None                []      []           []   \n",
       "690770   [+1717-10-04T00:00:00Z]                []  [male]           []   \n",
       "8783564                     None                []      []           []   \n",
       "8258757  [+1898-04-11T00:00:00Z]  [United Kingdom]  [male]           []   \n",
       "\n",
       "                                                occupation party  \\\n",
       "8981351                                                 []    []   \n",
       "3708367            [screenwriter, director, film producer]    []   \n",
       "6451592                                       [researcher]    []   \n",
       "5769807  [association football player, association foot...    []   \n",
       "9005230                                                 []    []   \n",
       "5992530                                                 []    []   \n",
       "8739773                                       [researcher]    []   \n",
       "690770                                                  []    []   \n",
       "8783564                                       [researcher]    []   \n",
       "8258757                                      [Esperantist]    []   \n",
       "\n",
       "        academic_degree          id  \\\n",
       "8981351              []  Q102124644   \n",
       "3708367              []   Q16632973   \n",
       "6451592              []   Q85210536   \n",
       "5769807              []    Q3888721   \n",
       "9005230              []  Q102428449   \n",
       "5992530              []   Q18530505   \n",
       "8739773              []   Q87985689   \n",
       "690770               []   Q75267325   \n",
       "8783564              []   Q90581494   \n",
       "8258757              []   Q18546570   \n",
       "\n",
       "                                                 label candidacy religion  \\\n",
       "8981351                             Pierre Rosenstiehl        []       []   \n",
       "3708367                                 Magnus Gertten        []       []   \n",
       "6451592                                      Luping Li        []       []   \n",
       "5769807                                    Paddy Sloan        []       []   \n",
       "9005230                                    Terry Payne        []       []   \n",
       "5992530                                Nicholas Thorne        []       []   \n",
       "8739773                              G Cameron Coleman        []       []   \n",
       "690770   Henry Arundell, 7th Baron Arundell of Wardour        []       []   \n",
       "8783564                                     Pascal Pas        []       []   \n",
       "8258757                          Frank Reginald Banham        []       []   \n",
       "\n",
       "         climate  skeptic  \n",
       "8981351        0        0  \n",
       "3708367        0        1  \n",
       "6451592        0        0  \n",
       "5769807        0        0  \n",
       "9005230        0        0  \n",
       "5992530        0        0  \n",
       "8739773        0        0  \n",
       "690770         0        0  \n",
       "8783564        0        0  \n",
       "8258757        0        0  "
      ]
     },
     "execution_count": 52,
     "metadata": {},
     "output_type": "execute_result"
    }
   ],
   "source": [
    "df_qid.sample(10)"
   ]
  },
  {
   "cell_type": "markdown",
   "id": "4b1287ac-2d6a-4df4-b405-77866fda47bc",
   "metadata": {},
   "source": [
    "#### *Load resulting data into a csv compressed filled*"
   ]
  },
  {
   "cell_type": "code",
   "execution_count": 53,
   "id": "6792ede4-8efd-4481-a524-4e4d052299db",
   "metadata": {},
   "outputs": [],
   "source": [
    "df_qid.to_csv(\"data/speaker_attribute.bz2\", compression = 'bz2', index=False)"
   ]
  },
  {
   "cell_type": "markdown",
   "id": "c1ec1dd3-f7d5-4b25-98ae-250e08c9a5bb",
   "metadata": {},
   "source": [
    "#### *Load datasets needed for BERT training for climat topic detection*"
   ]
  },
  {
   "cell_type": "markdown",
   "id": "0084e3f6-b98a-4f23-9390-99eb0683e322",
   "metadata": {},
   "source": [
    "We need to load and clean our data so that they fit the desired format for BERT training. (Source: https://towardsml.com/2019/09/17/bert-explained-a-complete-guide-with-theory-and-tutorial/)"
   ]
  },
  {
   "cell_type": "code",
   "execution_count": 175,
   "id": "a81a3b57-eb51-4221-b51d-1b51ec840009",
   "metadata": {},
   "outputs": [],
   "source": [
    "df_train = pd.read_csv('data/Wiki-Doc-Train.tsv', sep='\\t')\n",
    "df_test=pd.read_csv('data/Wiki-Doc-Test.tsv', sep='\\t')"
   ]
  },
  {
   "cell_type": "code",
   "execution_count": 176,
   "id": "e22b5704-125c-451e-8d53-77163c4936fd",
   "metadata": {},
   "outputs": [],
   "source": [
    "df_train.drop(columns=['title', 'paragraph'], inplace=True)\n",
    "df_train.insert(2, 'alpha', 'a')\n",
    "df_train.rename(columns={'sentence': 'text'}, inplace=True)\n",
    "df_train.to_csv('data/bert_train.tsv', index=False)"
   ]
  },
  {
   "cell_type": "code",
   "execution_count": 177,
   "id": "ce15ed65-0f9c-4e66-b0a3-9b3fe5bd6213",
   "metadata": {},
   "outputs": [
    {
     "data": {
      "text/html": [
       "<div>\n",
       "<style scoped>\n",
       "    .dataframe tbody tr th:only-of-type {\n",
       "        vertical-align: middle;\n",
       "    }\n",
       "\n",
       "    .dataframe tbody tr th {\n",
       "        vertical-align: top;\n",
       "    }\n",
       "\n",
       "    .dataframe thead th {\n",
       "        text-align: right;\n",
       "    }\n",
       "</style>\n",
       "<table border=\"1\" class=\"dataframe\">\n",
       "  <thead>\n",
       "    <tr style=\"text-align: right;\">\n",
       "      <th></th>\n",
       "      <th>id</th>\n",
       "      <th>label</th>\n",
       "      <th>alpha</th>\n",
       "      <th>text</th>\n",
       "    </tr>\n",
       "  </thead>\n",
       "  <tbody>\n",
       "    <tr>\n",
       "      <th>0</th>\n",
       "      <td>0</td>\n",
       "      <td>1</td>\n",
       "      <td>a</td>\n",
       "      <td>Algae (; singular alga ) is an informal term f...</td>\n",
       "    </tr>\n",
       "    <tr>\n",
       "      <th>1</th>\n",
       "      <td>1</td>\n",
       "      <td>1</td>\n",
       "      <td>a</td>\n",
       "      <td>Included organisms range from unicellular micr...</td>\n",
       "    </tr>\n",
       "    <tr>\n",
       "      <th>2</th>\n",
       "      <td>2</td>\n",
       "      <td>1</td>\n",
       "      <td>a</td>\n",
       "      <td>Most are aquatic and autotrophic and lack many...</td>\n",
       "    </tr>\n",
       "    <tr>\n",
       "      <th>3</th>\n",
       "      <td>3</td>\n",
       "      <td>1</td>\n",
       "      <td>a</td>\n",
       "      <td>The largest and most complex marine algae are ...</td>\n",
       "    </tr>\n",
       "    <tr>\n",
       "      <th>4</th>\n",
       "      <td>4</td>\n",
       "      <td>1</td>\n",
       "      <td>a</td>\n",
       "      <td>No definition of algae is generally accepted.</td>\n",
       "    </tr>\n",
       "  </tbody>\n",
       "</table>\n",
       "</div>"
      ],
      "text/plain": [
       "   id  label alpha                                               text\n",
       "0   0      1     a  Algae (; singular alga ) is an informal term f...\n",
       "1   1      1     a  Included organisms range from unicellular micr...\n",
       "2   2      1     a  Most are aquatic and autotrophic and lack many...\n",
       "3   3      1     a  The largest and most complex marine algae are ...\n",
       "4   4      1     a      No definition of algae is generally accepted."
      ]
     },
     "execution_count": 177,
     "metadata": {},
     "output_type": "execute_result"
    }
   ],
   "source": [
    "df_train.head()"
   ]
  },
  {
   "cell_type": "code",
   "execution_count": 178,
   "id": "7d3c29e7-5cd4-4fea-9375-d60c5bfaf57a",
   "metadata": {},
   "outputs": [],
   "source": [
    "df_test.drop(columns=['title', 'paragraph', 'label'] , inplace=True)\n",
    "df_test.rename(columns={'sentence': 'text'}, inplace=True)\n",
    "df_test.to_csv('data/bert_test.tsv', index = False)"
   ]
  },
  {
   "cell_type": "code",
   "execution_count": 179,
   "id": "c6a4609d-4286-4746-bee0-32f32f2112cd",
   "metadata": {},
   "outputs": [
    {
     "data": {
      "text/html": [
       "<div>\n",
       "<style scoped>\n",
       "    .dataframe tbody tr th:only-of-type {\n",
       "        vertical-align: middle;\n",
       "    }\n",
       "\n",
       "    .dataframe tbody tr th {\n",
       "        vertical-align: top;\n",
       "    }\n",
       "\n",
       "    .dataframe thead th {\n",
       "        text-align: right;\n",
       "    }\n",
       "</style>\n",
       "<table border=\"1\" class=\"dataframe\">\n",
       "  <thead>\n",
       "    <tr style=\"text-align: right;\">\n",
       "      <th></th>\n",
       "      <th>id</th>\n",
       "      <th>text</th>\n",
       "    </tr>\n",
       "  </thead>\n",
       "  <tbody>\n",
       "    <tr>\n",
       "      <th>0</th>\n",
       "      <td>0</td>\n",
       "      <td>Evaporation is a type of vaporization that occ...</td>\n",
       "    </tr>\n",
       "    <tr>\n",
       "      <th>1</th>\n",
       "      <td>1</td>\n",
       "      <td>The surrounding gas must not be saturated with...</td>\n",
       "    </tr>\n",
       "    <tr>\n",
       "      <th>2</th>\n",
       "      <td>2</td>\n",
       "      <td>When the molecules of the liquid collide, they...</td>\n",
       "    </tr>\n",
       "    <tr>\n",
       "      <th>3</th>\n",
       "      <td>3</td>\n",
       "      <td>When a molecule near the surface absorbs enoug...</td>\n",
       "    </tr>\n",
       "    <tr>\n",
       "      <th>4</th>\n",
       "      <td>4</td>\n",
       "      <td>When evaporation occurs, the energy removed fr...</td>\n",
       "    </tr>\n",
       "  </tbody>\n",
       "</table>\n",
       "</div>"
      ],
      "text/plain": [
       "   id                                               text\n",
       "0   0  Evaporation is a type of vaporization that occ...\n",
       "1   1  The surrounding gas must not be saturated with...\n",
       "2   2  When the molecules of the liquid collide, they...\n",
       "3   3  When a molecule near the surface absorbs enoug...\n",
       "4   4  When evaporation occurs, the energy removed fr..."
      ]
     },
     "execution_count": 179,
     "metadata": {},
     "output_type": "execute_result"
    }
   ],
   "source": [
    "df_test.head()"
   ]
  },
  {
   "cell_type": "markdown",
   "id": "6a8a1db0-542d-4b9f-a27b-c780e2a03267",
   "metadata": {},
   "source": [
    "# II- Filter the data"
   ]
  },
  {
   "cell_type": "markdown",
   "id": "a1547a11-c37a-42a7-bc86-8abc812ef6e7",
   "metadata": {},
   "source": [
    "As a good data scientist, the first thing to do is to clean up the data. In order to do that, we will first check for missing rows. Then we will replace the date of birth by the year of birth. Lastly, we will filter our speakers in order to keep only the ones whose age is bewteen 12 and 100 . (As climate change is a relatively new topic, and we do not consider quotes from speakers that are younger then 12 years old)."
   ]
  },
  {
   "cell_type": "code",
   "execution_count": 84,
   "id": "b245cf94-a041-4d7a-8fd9-717b9cf6a929",
   "metadata": {},
   "outputs": [],
   "source": [
    "speakers=pd.read_csv(\"data/speaker_attribute.bz2\", compression='bz2')"
   ]
  },
  {
   "cell_type": "code",
   "execution_count": 85,
   "id": "8158b922-c0d0-40dc-9821-9e4a842a3209",
   "metadata": {},
   "outputs": [
    {
     "data": {
      "text/html": [
       "<div>\n",
       "<style scoped>\n",
       "    .dataframe tbody tr th:only-of-type {\n",
       "        vertical-align: middle;\n",
       "    }\n",
       "\n",
       "    .dataframe tbody tr th {\n",
       "        vertical-align: top;\n",
       "    }\n",
       "\n",
       "    .dataframe thead th {\n",
       "        text-align: right;\n",
       "    }\n",
       "</style>\n",
       "<table border=\"1\" class=\"dataframe\">\n",
       "  <thead>\n",
       "    <tr style=\"text-align: right;\">\n",
       "      <th></th>\n",
       "      <th>date_of_birth</th>\n",
       "      <th>nationality</th>\n",
       "      <th>gender</th>\n",
       "      <th>ethnic_group</th>\n",
       "      <th>occupation</th>\n",
       "      <th>party</th>\n",
       "      <th>academic_degree</th>\n",
       "      <th>id</th>\n",
       "      <th>label</th>\n",
       "      <th>candidacy</th>\n",
       "      <th>religion</th>\n",
       "      <th>climate</th>\n",
       "      <th>skeptic</th>\n",
       "    </tr>\n",
       "  </thead>\n",
       "  <tbody>\n",
       "    <tr>\n",
       "      <th>0</th>\n",
       "      <td>['+1732-02-22T00:00:00Z']</td>\n",
       "      <td>['Great Britain', 'United States of America']</td>\n",
       "      <td>['male']</td>\n",
       "      <td>[]</td>\n",
       "      <td>['politician', 'slaveholder', 'farmer', 'engin...</td>\n",
       "      <td>['independent politician']</td>\n",
       "      <td>[]</td>\n",
       "      <td>Q23</td>\n",
       "      <td>George Washington</td>\n",
       "      <td>['1792 United States presidential election', '...</td>\n",
       "      <td>['Episcopal Church']</td>\n",
       "      <td>0</td>\n",
       "      <td>0</td>\n",
       "    </tr>\n",
       "    <tr>\n",
       "      <th>1</th>\n",
       "      <td>['+1952-03-11T00:00:00Z']</td>\n",
       "      <td>['United Kingdom']</td>\n",
       "      <td>['male']</td>\n",
       "      <td>['White British']</td>\n",
       "      <td>['novelist', 'science fiction writer', \"childr...</td>\n",
       "      <td>[]</td>\n",
       "      <td>[]</td>\n",
       "      <td>Q42</td>\n",
       "      <td>Douglas Adams</td>\n",
       "      <td>[]</td>\n",
       "      <td>[]</td>\n",
       "      <td>0</td>\n",
       "      <td>0</td>\n",
       "    </tr>\n",
       "    <tr>\n",
       "      <th>2</th>\n",
       "      <td>['+1868-08-23T00:00:00Z']</td>\n",
       "      <td>['Belgium']</td>\n",
       "      <td>['male']</td>\n",
       "      <td>[]</td>\n",
       "      <td>['bibliographer', 'lawyer', 'inventor', 'infor...</td>\n",
       "      <td>[]</td>\n",
       "      <td>[]</td>\n",
       "      <td>Q1868</td>\n",
       "      <td>Paul Otlet</td>\n",
       "      <td>[]</td>\n",
       "      <td>[]</td>\n",
       "      <td>0</td>\n",
       "      <td>0</td>\n",
       "    </tr>\n",
       "    <tr>\n",
       "      <th>3</th>\n",
       "      <td>['+1946-07-06T00:00:00Z']</td>\n",
       "      <td>['United States of America']</td>\n",
       "      <td>['male']</td>\n",
       "      <td>[]</td>\n",
       "      <td>['autobiographer', 'painter', 'financier', 'po...</td>\n",
       "      <td>['Republican Party']</td>\n",
       "      <td>[]</td>\n",
       "      <td>Q207</td>\n",
       "      <td>George W. Bush</td>\n",
       "      <td>['2000 United States presidential election', '...</td>\n",
       "      <td>['United Methodist Church', 'Episcopal Church'...</td>\n",
       "      <td>1</td>\n",
       "      <td>1</td>\n",
       "    </tr>\n",
       "    <tr>\n",
       "      <th>4</th>\n",
       "      <td>['+1599-06-06T00:00:00Z']</td>\n",
       "      <td>['Spain']</td>\n",
       "      <td>['male']</td>\n",
       "      <td>[]</td>\n",
       "      <td>['painter']</td>\n",
       "      <td>[]</td>\n",
       "      <td>[]</td>\n",
       "      <td>Q297</td>\n",
       "      <td>Diego Velázquez</td>\n",
       "      <td>[]</td>\n",
       "      <td>[]</td>\n",
       "      <td>0</td>\n",
       "      <td>0</td>\n",
       "    </tr>\n",
       "  </tbody>\n",
       "</table>\n",
       "</div>"
      ],
      "text/plain": [
       "               date_of_birth                                    nationality  \\\n",
       "0  ['+1732-02-22T00:00:00Z']  ['Great Britain', 'United States of America']   \n",
       "1  ['+1952-03-11T00:00:00Z']                             ['United Kingdom']   \n",
       "2  ['+1868-08-23T00:00:00Z']                                    ['Belgium']   \n",
       "3  ['+1946-07-06T00:00:00Z']                   ['United States of America']   \n",
       "4  ['+1599-06-06T00:00:00Z']                                      ['Spain']   \n",
       "\n",
       "     gender       ethnic_group  \\\n",
       "0  ['male']                 []   \n",
       "1  ['male']  ['White British']   \n",
       "2  ['male']                 []   \n",
       "3  ['male']                 []   \n",
       "4  ['male']                 []   \n",
       "\n",
       "                                          occupation  \\\n",
       "0  ['politician', 'slaveholder', 'farmer', 'engin...   \n",
       "1  ['novelist', 'science fiction writer', \"childr...   \n",
       "2  ['bibliographer', 'lawyer', 'inventor', 'infor...   \n",
       "3  ['autobiographer', 'painter', 'financier', 'po...   \n",
       "4                                        ['painter']   \n",
       "\n",
       "                        party academic_degree     id              label  \\\n",
       "0  ['independent politician']              []    Q23  George Washington   \n",
       "1                          []              []    Q42      Douglas Adams   \n",
       "2                          []              []  Q1868         Paul Otlet   \n",
       "3        ['Republican Party']              []   Q207     George W. Bush   \n",
       "4                          []              []   Q297    Diego Velázquez   \n",
       "\n",
       "                                           candidacy  \\\n",
       "0  ['1792 United States presidential election', '...   \n",
       "1                                                 []   \n",
       "2                                                 []   \n",
       "3  ['2000 United States presidential election', '...   \n",
       "4                                                 []   \n",
       "\n",
       "                                            religion  climate  skeptic  \n",
       "0                               ['Episcopal Church']        0        0  \n",
       "1                                                 []        0        0  \n",
       "2                                                 []        0        0  \n",
       "3  ['United Methodist Church', 'Episcopal Church'...        1        1  \n",
       "4                                                 []        0        0  "
      ]
     },
     "execution_count": 85,
     "metadata": {},
     "output_type": "execute_result"
    }
   ],
   "source": [
    "speakers.head()"
   ]
  },
  {
   "cell_type": "markdown",
   "id": "e534141a-105f-48ba-9e87-daa98425ca57",
   "metadata": {},
   "source": [
    "> ##### *check for missing row*\n",
    "We consider that a row is missing if we don't have information about speakers attributes (i.e other than label, qid)"
   ]
  },
  {
   "cell_type": "code",
   "execution_count": 86,
   "id": "a824dab5-3740-49b3-b29e-0f0b401546a9",
   "metadata": {},
   "outputs": [
    {
     "name": "stdout",
     "output_type": "stream",
     "text": [
      "Is there some missing rows ? False \n"
     ]
    }
   ],
   "source": [
    "print(\"Is there some missing rows ? {} \".format(np.array([speakers.drop(columns=['label', 'id']).isnull().any(axis=1)]).all()))"
   ]
  },
  {
   "cell_type": "markdown",
   "id": "d3ed2c35-c9b6-4a22-8aba-55960c6662b5",
   "metadata": {},
   "source": [
    "> ##### *Clean and filter date of birth and speakers*"
   ]
  },
  {
   "cell_type": "code",
   "execution_count": 87,
   "id": "483de8d5-202b-48e4-97b6-decd7bf86c94",
   "metadata": {},
   "outputs": [],
   "source": [
    "speakers.date_of_birth=speakers.fillna(0).date_of_birth.map(lambda y : str(y).split(\"-\")[0][3:])#Keep only the year of birth."
   ]
  },
  {
   "cell_type": "code",
   "execution_count": 100,
   "id": "1e01007a-48a9-4990-b3c3-20f095de6226",
   "metadata": {},
   "outputs": [],
   "source": [
    "speakers=speakers.loc[speakers['date_of_birth'].apply(lambda x: x!= '' and int(x)>1920 and int(x)< 2008)]#Keep only speakers born after 1920."
   ]
  },
  {
   "cell_type": "code",
   "execution_count": 101,
   "id": "d349fc15-b1b1-4572-beab-84fb765eb5b5",
   "metadata": {},
   "outputs": [],
   "source": [
    "speakers['date_of_birth']=speakers_c['date_of_birth'].astype(int)"
   ]
  },
  {
   "cell_type": "code",
   "execution_count": 102,
   "id": "618c2c4f-197e-455d-9635-0988ff33a438",
   "metadata": {},
   "outputs": [
    {
     "data": {
      "text/html": [
       "<div>\n",
       "<style scoped>\n",
       "    .dataframe tbody tr th:only-of-type {\n",
       "        vertical-align: middle;\n",
       "    }\n",
       "\n",
       "    .dataframe tbody tr th {\n",
       "        vertical-align: top;\n",
       "    }\n",
       "\n",
       "    .dataframe thead th {\n",
       "        text-align: right;\n",
       "    }\n",
       "</style>\n",
       "<table border=\"1\" class=\"dataframe\">\n",
       "  <thead>\n",
       "    <tr style=\"text-align: right;\">\n",
       "      <th></th>\n",
       "      <th>date_of_birth</th>\n",
       "      <th>nationality</th>\n",
       "      <th>gender</th>\n",
       "      <th>ethnic_group</th>\n",
       "      <th>occupation</th>\n",
       "      <th>party</th>\n",
       "      <th>academic_degree</th>\n",
       "      <th>id</th>\n",
       "      <th>label</th>\n",
       "      <th>candidacy</th>\n",
       "      <th>religion</th>\n",
       "      <th>climate</th>\n",
       "      <th>skeptic</th>\n",
       "    </tr>\n",
       "  </thead>\n",
       "  <tbody>\n",
       "    <tr>\n",
       "      <th>4661918</th>\n",
       "      <td>1944</td>\n",
       "      <td>['Sweden']</td>\n",
       "      <td>['female']</td>\n",
       "      <td>[]</td>\n",
       "      <td>['actor']</td>\n",
       "      <td>[]</td>\n",
       "      <td>[]</td>\n",
       "      <td>Q4979920</td>\n",
       "      <td>Signe Stade</td>\n",
       "      <td>[]</td>\n",
       "      <td>[]</td>\n",
       "      <td>0</td>\n",
       "      <td>0</td>\n",
       "    </tr>\n",
       "    <tr>\n",
       "      <th>5870492</th>\n",
       "      <td>1973</td>\n",
       "      <td>['United States of America']</td>\n",
       "      <td>['male']</td>\n",
       "      <td>[]</td>\n",
       "      <td>['musician']</td>\n",
       "      <td>[]</td>\n",
       "      <td>[]</td>\n",
       "      <td>Q8064958</td>\n",
       "      <td>Zak Baney</td>\n",
       "      <td>[]</td>\n",
       "      <td>[]</td>\n",
       "      <td>0</td>\n",
       "      <td>0</td>\n",
       "    </tr>\n",
       "    <tr>\n",
       "      <th>7204200</th>\n",
       "      <td>1993</td>\n",
       "      <td>['France']</td>\n",
       "      <td>['female']</td>\n",
       "      <td>[]</td>\n",
       "      <td>['badminton player']</td>\n",
       "      <td>[]</td>\n",
       "      <td>[]</td>\n",
       "      <td>Q27780750</td>\n",
       "      <td>Stacey Guérin</td>\n",
       "      <td>[]</td>\n",
       "      <td>[]</td>\n",
       "      <td>0</td>\n",
       "      <td>0</td>\n",
       "    </tr>\n",
       "    <tr>\n",
       "      <th>3501118</th>\n",
       "      <td>1954</td>\n",
       "      <td>['United States of America']</td>\n",
       "      <td>['male']</td>\n",
       "      <td>[]</td>\n",
       "      <td>['basketball player']</td>\n",
       "      <td>[]</td>\n",
       "      <td>[]</td>\n",
       "      <td>Q3637064</td>\n",
       "      <td>Bayard Forrest</td>\n",
       "      <td>[]</td>\n",
       "      <td>[]</td>\n",
       "      <td>0</td>\n",
       "      <td>0</td>\n",
       "    </tr>\n",
       "    <tr>\n",
       "      <th>4189429</th>\n",
       "      <td>1987</td>\n",
       "      <td>['Italy']</td>\n",
       "      <td>['male']</td>\n",
       "      <td>[]</td>\n",
       "      <td>['volleyball player']</td>\n",
       "      <td>[]</td>\n",
       "      <td>[]</td>\n",
       "      <td>Q85188162</td>\n",
       "      <td>Filippo Porcello</td>\n",
       "      <td>[]</td>\n",
       "      <td>[]</td>\n",
       "      <td>0</td>\n",
       "      <td>0</td>\n",
       "    </tr>\n",
       "  </tbody>\n",
       "</table>\n",
       "</div>"
      ],
      "text/plain": [
       "         date_of_birth                   nationality      gender ethnic_group  \\\n",
       "4661918           1944                    ['Sweden']  ['female']           []   \n",
       "5870492           1973  ['United States of America']    ['male']           []   \n",
       "7204200           1993                    ['France']  ['female']           []   \n",
       "3501118           1954  ['United States of America']    ['male']           []   \n",
       "4189429           1987                     ['Italy']    ['male']           []   \n",
       "\n",
       "                    occupation party academic_degree         id  \\\n",
       "4661918              ['actor']    []              []   Q4979920   \n",
       "5870492           ['musician']    []              []   Q8064958   \n",
       "7204200   ['badminton player']    []              []  Q27780750   \n",
       "3501118  ['basketball player']    []              []   Q3637064   \n",
       "4189429  ['volleyball player']    []              []  Q85188162   \n",
       "\n",
       "                    label candidacy religion  climate  skeptic  \n",
       "4661918       Signe Stade        []       []        0        0  \n",
       "5870492         Zak Baney        []       []        0        0  \n",
       "7204200     Stacey Guérin        []       []        0        0  \n",
       "3501118    Bayard Forrest        []       []        0        0  \n",
       "4189429  Filippo Porcello        []       []        0        0  "
      ]
     },
     "execution_count": 102,
     "metadata": {},
     "output_type": "execute_result"
    }
   ],
   "source": [
    "speakers.sample(5)"
   ]
  },
  {
   "cell_type": "markdown",
   "id": "e4a8f58c-5c08-44d5-81fc-151fdec345a0",
   "metadata": {},
   "source": [
    "# III-Exploration of our data"
   ]
  },
  {
   "cell_type": "markdown",
   "id": "a685509c-a196-47e3-abb4-b52f33e97efe",
   "metadata": {},
   "source": [
    "> Check for The biais of the keyword selection \n",
    "We need to compare population that are represented by 'climate involved' and 'climate skeptic' and see if their dstribution is coherent. For example we can look the distribution of speakers according to their ages and see which type of population we get."
   ]
  },
  {
   "cell_type": "code",
   "execution_count": 149,
   "id": "7a94fafe-8126-4448-853c-631aa870893f",
   "metadata": {},
   "outputs": [
    {
     "data": {
      "image/png": "[encoded data removed]",
      "text/plain": [
       "<Figure size 432x288 with 1 Axes>"
      ]
     },
     "metadata": {
      "needs_background": "light"
     },
     "output_type": "display_data"
    }
   ],
   "source": [
    "ax=sns.histplot(speakers['climate'],  bins=3, color = \"darkseagreen\" )\n",
    "ax.set(xlabel='Climate interest', ylabel='Number of related speakers', \n",
    "       title= 'Figure 1: Distribution of climate interest among speakers from Quotebank')\n",
    "ax.set_yscale('log') #We use a log scale in order to see the small values. \n",
    "sns.despine()"
   ]
  },
  {
   "cell_type": "markdown",
   "id": "bc9c8bb6-8420-455d-b499-e77f9c195795",
   "metadata": {},
   "source": [
    "> 0: Show no climate interest \n",
    "> 1: Show climate interest"
   ]
  },
  {
   "cell_type": "markdown",
   "id": "994a5f24-a13d-4b00-bd6e-ab82b7305cb3",
   "metadata": {},
   "source": [
    "We can observe that speakers related to climate are a minority of the speakers from the original quotebank dataset.\n",
    "Consequently, if we want to compare the type of personnes involved in climate vs not invovled we need to normalize our data and look for the probability."
   ]
  },
  {
   "cell_type": "code",
   "execution_count": 103,
   "id": "2aa00655-3993-459f-8b37-5a7167c9d474",
   "metadata": {},
   "outputs": [
    {
     "data": {
      "text/plain": [
       "<seaborn.axisgrid.FacetGrid at 0x7feb0edd1070>"
      ]
     },
     "execution_count": 103,
     "metadata": {},
     "output_type": "execute_result"
    },
    {
     "data": {
      "image/png": "[encoded data removed]",
      "text/plain": [
       "<Figure size 549x504 with 1 Axes>"
      ]
     },
     "metadata": {
      "needs_background": "light"
     },
     "output_type": "display_data"
    }
   ],
   "source": [
    "#We used displot function in order to visualize the age of people related to climate or not\n",
    "ax=sns.displot(speakers, x=\"date_of_birth\", hue=\"climate\", stat=\"probability\", common_norm=False,\n",
    "            height=7, aspect=1, palette='colorblind',  kde=True, bins = 88)\n",
    "ax.set(xlabel='Date of birth', ylabel='Number speakers', \n",
    "       title = 'Figure 2: Distribution of speakers that talk about climate according their age')\n"
   ]
  },
  {
   "cell_type": "code",
   "execution_count": 104,
   "id": "f5d5edf7-d95d-41e5-89cd-7811fe0460ff",
   "metadata": {},
   "outputs": [],
   "source": [
    "gender= speakers[speakers['gender'].apply(lambda x: x != '[]')]"
   ]
  },
  {
   "cell_type": "code",
   "execution_count": 146,
   "id": "1f418727-2858-4675-b0e4-2ef4a1af74cf",
   "metadata": {},
   "outputs": [
    {
     "data": {
      "image/png": "[encoded data removed]",
      "text/plain": [
       "<Figure size 549x504 with 1 Axes>"
      ]
     },
     "metadata": {
      "needs_background": "light"
     },
     "output_type": "display_data"
    }
   ],
   "source": [
    "ax=sns.displot(gender.sample(10000), x=\"gender\", hue=\"climate\", stat=\"probability\", common_norm=False,\n",
    "            height=7, aspect=1, palette='colorblind', bins = 100)\n",
    "\n",
    "#We let the default number of bins as it represents accuratly our data.\n",
    "ax.set(xlabel='gender', ylabel='Number speakers', \n",
    "       title = 'Figure 2: Distribution of speakers that talk about climate according their gender')\n",
    "\n",
    "plt.xticks(rotation=90)\n",
    "plt.show()"
   ]
  },
  {
   "cell_type": "code",
   "execution_count": 129,
   "id": "ce9352ba-7b99-4960-9985-59f2e49d0471",
   "metadata": {},
   "outputs": [],
   "source": [
    "religion= speakers[speakers['religion'].apply(lambda x: x != '[]')]"
   ]
  },
  {
   "cell_type": "code",
   "execution_count": 143,
   "id": "867c777f-e79e-4c9e-adaf-aaef0e7b5bd4",
   "metadata": {},
   "outputs": [
    {
     "data": {
      "image/png": "[encoded data removed]",
      "text/plain": [
       "<Figure size 549x504 with 1 Axes>"
      ]
     },
     "metadata": {
      "needs_background": "light"
     },
     "output_type": "display_data"
    }
   ],
   "source": [
    "ax=sns.displot(religion.sample(50), x=\"religion\", hue=\"climate\", stat=\"probability\", common_norm=False,\n",
    "            height=7, aspect=1, palette='colorblind', bins = 100)\n",
    "\n",
    "#We let the default number of bins as it represents accuratly our data.\n",
    "ax.set(xlabel='religion', ylabel='Number speakers', \n",
    "       title = 'Figure 4: Distribution of speakers that talk about climate according their religion')\n",
    "\n",
    "plt.xticks(rotation=90)\n",
    "plt.show()"
   ]
  },
  {
   "cell_type": "code",
   "execution_count": 132,
   "id": "40a2ef61-7363-41e8-a130-e405931c2118",
   "metadata": {},
   "outputs": [],
   "source": [
    "nationality= speakers[speakers['nationality'].apply(lambda x: x != '[]')]"
   ]
  },
  {
   "cell_type": "code",
   "execution_count": 142,
   "id": "a37123e9-a3ed-4276-8e6a-901f7381725f",
   "metadata": {},
   "outputs": [
    {
     "name": "stderr",
     "output_type": "stream",
     "text": [
      "No handles with labels found to put in legend.\n"
     ]
    },
    {
     "data": {
      "image/png": "[encoded data removed]",
      "text/plain": [
       "<Figure size 549x504 with 1 Axes>"
      ]
     },
     "metadata": {
      "needs_background": "light"
     },
     "output_type": "display_data"
    }
   ],
   "source": [
    "ax=sns.displot(nationality.sample(50), x=\"nationality\", hue=\"climate\", stat=\"probability\", common_norm=False,\n",
    "            height=7, aspect=1, palette='colorblind', bins = 100)\n",
    "\n",
    "#We let the default number of bins as it represents accuratly our data.\n",
    "ax.set(xlabel='nationality', ylabel='Number speakers', \n",
    "       title = 'Figure 5: Distribution of speakers that talk about climate according their nationality')\n",
    "\n",
    "plt.xticks(rotation=90)\n",
    "plt.legend()\n",
    "plt.show()"
   ]
  },
  {
   "cell_type": "markdown",
   "id": "48640c90-e5d0-4bc3-a833-3a9cad22a28a",
   "metadata": {},
   "source": [
    "After visualizing our data, we cannot conclude anything on their distributions."
   ]
  },
  {
   "cell_type": "code",
   "execution_count": 134,
   "id": "fd4a61e4-f1fb-420e-8a04-825ff9ef7adc",
   "metadata": {},
   "outputs": [],
   "source": [
    "involved=speakers.loc[speakers['climate']==1]"
   ]
  },
  {
   "cell_type": "code",
   "execution_count": 135,
   "id": "ce36cc7f-513e-42ae-86d3-a200023afc16",
   "metadata": {},
   "outputs": [],
   "source": [
    "sceptic=speakers.loc[speakers['skeptic']==1]"
   ]
  },
  {
   "cell_type": "code",
   "execution_count": 140,
   "id": "00e03704-d7be-476e-b68c-dcfc924581bd",
   "metadata": {},
   "outputs": [
    {
     "name": "stderr",
     "output_type": "stream",
     "text": [
      "/opt/anaconda3/lib/python3.8/site-packages/seaborn/distributions.py:2557: FutureWarning: `distplot` is a deprecated function and will be removed in a future version. Please adapt your code to use either `displot` (a figure-level function with similar flexibility) or `histplot` (an axes-level function for histograms).\n",
      "  warnings.warn(msg, FutureWarning)\n",
      "/opt/anaconda3/lib/python3.8/site-packages/seaborn/distributions.py:2557: FutureWarning: `distplot` is a deprecated function and will be removed in a future version. Please adapt your code to use either `displot` (a figure-level function with similar flexibility) or `histplot` (an axes-level function for histograms).\n",
      "  warnings.warn(msg, FutureWarning)\n"
     ]
    },
    {
     "data": {
      "image/png": "[encoded data removed]",
      "text/plain": [
       "<Figure size 432x288 with 1 Axes>"
      ]
     },
     "metadata": {
      "needs_background": "light"
     },
     "output_type": "display_data"
    }
   ],
   "source": [
    "ax=sns.distplot(involved['date_of_birth'], hist=True, label = 'involved'); \n",
    "ax=sns.distplot(speakers['date_of_birth'], hist = True, label = 'sceptic')\n",
    "\n",
    "ax.set(title = 'Figure 6 : Distribution of involved vs sceptic speakers according to their age', xlabel = 'Year of birth')\n",
    "plt.legend()\n",
    "plt.show()"
   ]
  },
  {
   "cell_type": "code",
   "execution_count": 147,
   "id": "91b9bd91-aebb-41c6-8254-65e42921ad48",
   "metadata": {},
   "outputs": [
    {
     "data": {
      "image/png": "[encoded data removed]",
      "text/plain": [
       "<Figure size 432x288 with 1 Axes>"
      ]
     },
     "metadata": {
      "needs_background": "light"
     },
     "output_type": "display_data"
    }
   ],
   "source": [
    "ax=sns.histplot(speakers['skeptic'],  bins=3, color = \"darkseagreen\" )\n",
    "ax.set(xlabel='Climate interest', ylabel='Number of related speakers', \n",
    "       title= 'Figure 7: Distribution of climate change skepticism among speakers from Quotebank')\n",
    "ax.set_yscale('log') #We use a log scale in order to see the small values. \n",
    "\n",
    "sns.despine()"
   ]
  },
  {
   "cell_type": "markdown",
   "id": "f758adac-0713-4752-b23e-888ca6efce8c",
   "metadata": {},
   "source": [
    "> 0: Show no climate interest \n",
    "> 1: Show climate change scepticism tendancies"
   ]
  },
  {
   "cell_type": "code",
   "execution_count": 155,
   "id": "ac93ff2a-c573-46e1-9ef6-0dbe4d5cdc58",
   "metadata": {},
   "outputs": [],
   "source": [
    "gender= speakers[speakers['gender'].apply(lambda x: x != '[]')]"
   ]
  },
  {
   "cell_type": "code",
   "execution_count": 156,
   "id": "7fa55015-6cfd-4fe8-be81-ca8cba2654cb",
   "metadata": {},
   "outputs": [
    {
     "data": {
      "image/png": "[encoded data removed]",
      "text/plain": [
       "<Figure size 549x504 with 1 Axes>"
      ]
     },
     "metadata": {
      "needs_background": "light"
     },
     "output_type": "display_data"
    }
   ],
   "source": [
    "ax=sns.displot(gender.sample(10000), x=\"gender\", hue=\"climate\", stat=\"probability\", common_norm=False,\n",
    "            height=7, aspect=1, palette='colorblind', bins = 100)\n",
    "\n",
    "#We let the default number of bins as it represents accuratly our data.\n",
    "ax.set(xlabel='gender', ylabel='Number speakers', \n",
    "       title = 'Figure 8: Distribution of speakers that show climate change scepticism tendancies according their gender')\n",
    "\n",
    "plt.xticks(rotation=90)\n",
    "plt.show()"
   ]
  },
  {
   "cell_type": "markdown",
   "id": "5f8dc03a-dddd-4fcc-b8ba-b2f287c53ff8",
   "metadata": {},
   "source": [
    "We can see that sceptic speakers follow a more uniform distribution than the involved ones. As we saw before, our key word list is faulty and we obtained a population that is not representative for the sceptic speakers."
   ]
  },
  {
   "cell_type": "markdown",
   "id": "fc8cb77a-4512-4c34-8881-fac754d1c9b2",
   "metadata": {
    "tags": []
   },
   "source": [
    "# IV-Methods"
   ]
  },
  {
   "cell_type": "markdown",
   "id": "7cf735e7-bb59-4cd8-b362-6ed323af3280",
   "metadata": {
    "tags": []
   },
   "source": [
    "## Datas loading and treatment "
   ]
  },
  {
   "cell_type": "markdown",
   "id": "44caa01b-4f70-4bf7-ab66-9d3e910d77e8",
   "metadata": {},
   "source": [
    "We loaded our datas from the big quotebanke dataset by selecting different quotations according to two sets of keywords. Our method to select the climate skeptic people is not yet robust and we will describe below another method. Now that we have these datasets, we need to treat them in order to avoid high bias from unseen correlations."
   ]
  },
  {
   "cell_type": "markdown",
   "id": "beff5f99-9f79-4246-8689-fd6cc0be409b",
   "metadata": {},
   "source": [
    "### MTEXT: Semi-supervised BERT-based model (for climate change denial detection), and BERT (for climate topic detection): No mathematical model yet (we are waiting for the code for MTEXT)"
   ]
  },
  {
   "cell_type": "markdown",
   "id": "3bbd445f-ba43-4bc1-a9a5-d7711f04ca29",
   "metadata": {},
   "source": [
    "As for now, we used a very unprecised and bias method to categorize our quotes as climat-change skeptical. For the rest of this project,we would like to use an automatic classification of climate change scepticism people. According to https://aclanthology.org/2021.naacl-main.175.pdf, neutralization is used in climate skepticism. \n",
    "Naturalization example : \n",
    "\n",
    "- Sure, we should reduce greenhouse gases, but if our climate policies hurt our ability to create more wealth and bring power to the world’s poor, then we are ridding the patient of the disease, but only by killing him\n",
    "- It’s very convenient for alarmist greens to blame the fires of Australia and California on global warming. In reality, global warming is just a natural cycle and the policies they themselves advocate are the culprits.\n",
    "- The IPCC falsely attributes natural warming and urban warming to greenhouse gas (GHG) emission warming. It ignores the compelling evidence of natural climate change before 1950 that correlates well with indicators of solar activity\n",
    "\n",
    "They could categorize these neutralization techniques arguments into two groups\n",
    "- Policy (cost, economy, carbon tax) -> blame alarmist green \n",
    "    - Condemnation of the Condemner (manipulation of poltics)\n",
    "    - Appeal to Higher Loyalties (progress is more important than taxes)\n",
    "    - Justification by Comparison (pollution comparison)\n",
    "- Science (ability of scientist) -> natural cycle\n",
    "    - Denial of responsability (natural cycle)\n",
    "    - Denial of injury1 (not significant)\n",
    "    - Denial of injury2 (increase of CO2 is good)\n",
    "    - Denial of victim \n",
    "As for the code, we will based ourself on the code generously provided by the writers of the article. As they haven't linked us the code yet, it will be difficult for us to provied a detailed descrption of the model.\n",
    "\n",
    "Concerning the climate topic detection, will will use a BERTbase model to sort our quotes, trained using dataset provided in the article https://www.sustainablefinance.uzh.ch/dam/jcr:cabd56b0-b93f-4577-80e3-5afe51a61faf/CLIMATEXT%20-%20A%20DATASET%20FOR%20CLIMATE%20CHANGE%20TOPIC%20DETECTION.pdf. This will enable us to eliminate the bias caused by our keywords choice. "
   ]
  },
  {
   "cell_type": "markdown",
   "id": "5d00b194-23a3-46c8-8b6a-67e79ca5c464",
   "metadata": {},
   "source": [
    "## Project"
   ]
  },
  {
   "cell_type": "markdown",
   "id": "56161a69-5be1-4fa9-be01-ef5c087bb382",
   "metadata": {},
   "source": [
    "Our data set is now all clear and we are ready to find a suitable machine learning method in order to analyze our different categories of interest.\n",
    "- Climate skeptic \n",
    "- Climate involved "
   ]
  },
  {
   "cell_type": "markdown",
   "id": "f6c8347e-54ab-4529-a338-12bf6c4f6320",
   "metadata": {},
   "source": [
    "### Propensity score matching"
   ]
  },
  {
   "cell_type": "markdown",
   "id": "91bae5b5-9cd0-476f-8fc9-cf5e9e5fb969",
   "metadata": {},
   "source": [
    "The propensity score is the conditional probability of receiving a treatment given backgrounds variables: "
   ]
  },
  {
   "cell_type": "markdown",
   "id": "1fd945a5-e717-4c9c-b2b0-2c5d7381ddac",
   "metadata": {},
   "source": [
    "$ e(x)= Pr(Z=1|X=x) $"
   ]
  },
  {
   "cell_type": "markdown",
   "id": "eee5bf9c-bc27-41ea-a99e-3e06f2e4e312",
   "metadata": {},
   "source": [
    "This e(x) is a balancing score in order to balance our whole data set, we are not trying to predict anything here. \n",
    "We will use the statsmodels package to find our propensity scores. We will need the networkx package to find our matching function, (maximal matching, perfect matching our valid matching, etc). In order to minimize the difference between two propensity score of a treated and untreated particpant, we will use a similarity function that will calculate the distance betweem two instances.$sim(x,y) = 1 - (propensityscore(x) - propensityscore(y))$"
   ]
  },
  {
   "cell_type": "markdown",
   "id": "b85086e5-f565-4c06-921e-540080ef07fd",
   "metadata": {},
   "source": [
    "Description source : wikipedia, tutorials observational studies."
   ]
  },
  {
   "cell_type": "markdown",
   "id": "bb000282-2e75-4ca7-915b-5f5133e15c12",
   "metadata": {
    "tags": []
   },
   "source": [
    "### Logistic Regression"
   ]
  },
  {
   "cell_type": "markdown",
   "id": "9a81d8be-03be-4f3c-a7e7-ee7be5e2da6f",
   "metadata": {},
   "source": [
    "In this method, we will fit a binary dependent variable model. This will categorize our prediction in two different output 1 or 0, for example climate skeptik or not. We assume t is a linear function with a unique explanatory variable and two parameters to be estimated (maximum likelihood estimator),"
   ]
  },
  {
   "cell_type": "markdown",
   "id": "b972347e-b536-44d7-b162-662c6ed6a5b8",
   "metadata": {},
   "source": [
    "$ t = \\beta_{0}+\\beta _{1}x $"
   ]
  },
  {
   "cell_type": "markdown",
   "id": "2933fd95-0689-41f3-ac46-2967c8498810",
   "metadata": {},
   "source": [
    " $p(x) = \\frac{1}{1 + exp(-t)} $"
   ]
  },
  {
   "cell_type": "markdown",
   "id": "bd01b223-df9a-43cc-a998-43b98b5b3585",
   "metadata": {},
   "source": [
    "p(x) is the probability of sucess or failure (our binary output).  \n",
    "If we want to to have to have multiple explanatory variables, we can use: "
   ]
  },
  {
   "cell_type": "markdown",
   "id": "8b3a4834-15d6-49bf-ae2c-9a86f5af6a32",
   "metadata": {},
   "source": [
    "$t = {\\displaystyle \\beta _{0}+\\beta _{1}x_{1}+\\beta _{2}x_{2}+\\cdots +\\beta _{m}x_{m}=\\beta _{0}+\\sum _{i=1}^{m}\\beta _{i}x_{i}}$"
   ]
  },
  {
   "cell_type": "markdown",
   "id": "f1693889-d331-4905-ac8c-209124c65fa1",
   "metadata": {},
   "source": [
    "We will use the sklearn method for this logistic regression. "
   ]
  },
  {
   "cell_type": "markdown",
   "id": "19e60147-8573-49d5-8274-c03e11b38740",
   "metadata": {},
   "source": [
    "Description source : Wikipedia."
   ]
  },
  {
   "cell_type": "markdown",
   "id": "e7ac883f-8ddd-4343-8324-47b64ec64d96",
   "metadata": {},
   "source": [
    "### Tree Classifier"
   ]
  },
  {
   "cell_type": "markdown",
   "id": "c079a55b-4c5d-44b6-968f-edce5e4f4638",
   "metadata": {},
   "source": [
    "A decision tree is a very visual model to describe how a set of inputs leads to a certain output (here category). This method allows us to have a good insight of how our output is chosen as every parameter is represented by a node."
   ]
  },
  {
   "cell_type": "markdown",
   "id": "6f1e96f6-872c-4654-ad39-7198d7fbfaf4",
   "metadata": {},
   "source": [
    "1) Random Forest: This method constructs several decision trees in parallel in the training time. The final output will be the one represented by most trees. The advantage of this methods is that it reduces the variance as it is trained on different subset of the same training set. In order to select a random sample, it uses the bagging technique which select randomly x time a number n of instances with replacement. The model is fitted on these x instances."
   ]
  },
  {
   "cell_type": "markdown",
   "id": "5e0d8384-5a14-4986-9dbe-481d1472af37",
   "metadata": {},
   "source": [
    "We will use the sklearn.ensemble.RandomForestClassifier."
   ]
  },
  {
   "cell_type": "markdown",
   "id": "4a02aea2-e615-4690-82e8-1c624c1198cc",
   "metadata": {},
   "source": [
    "2) Gradient boosting: This method fits a prediction model based on the combination of weak learner classifier (here decision tree). The principle is to introduce a function that will approximate the output from the input. The methods fits sequentially a serie of tree where a loss function is minimize at each steps in order to increase the performance through the process. "
   ]
  },
  {
   "cell_type": "markdown",
   "id": "0aee6702-db8e-4e83-98b7-f53c38076784",
   "metadata": {},
   "source": [
    "We will use sklearn.ensemble.GradientBoostingClassifier."
   ]
  },
  {
   "cell_type": "markdown",
   "id": "8a41a0ab-9c89-409f-b256-12986ae1a845",
   "metadata": {},
   "source": [
    "Descrition source : Wikipedia."
   ]
  },
  {
   "cell_type": "markdown",
   "id": "a6741192-d83d-40b2-873f-b9b8fa9b202e",
   "metadata": {},
   "source": []
  }
 ],
 "metadata": {
  "kernelspec": {
   "display_name": "Python 3 (ipykernel)",
   "language": "python",
   "name": "python3"
  },
  "language_info": {
   "codemirror_mode": {
    "name": "ipython",
    "version": 3
   },
   "file_extension": ".py",
   "mimetype": "text/x-python",
   "name": "python",
   "nbconvert_exporter": "python",
   "pygments_lexer": "ipython3",
   "version": "3.8.11"
  }
 },
 "nbformat": 4,
 "nbformat_minor": 5
}
